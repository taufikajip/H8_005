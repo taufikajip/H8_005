{
 "cells": [
  {
   "cell_type": "code",
   "execution_count": 6,
   "id": "3aaccd6b",
   "metadata": {},
   "outputs": [
    {
     "name": "stdout",
     "output_type": "stream",
     "text": [
      "Read a book\n",
      "Watch movie\n"
     ]
    }
   ],
   "source": [
    "weather = 'bad'\n",
    "\n",
    "if weather == 'nice':\n",
    "    print('Now the lawn')\n",
    "    print('Weed the Garden')\n",
    "    print('Take the dig for a walk')\n",
    "else:\n",
    "    print('Read a book')\n",
    "    print('Watch movie')"
   ]
  },
  {
   "cell_type": "code",
   "execution_count": null,
   "id": "7d836fa0",
   "metadata": {},
   "outputs": [],
   "source": [
    "x = 120\n",
    "\n",
    "if x < 50:\n",
    "    print ('first suite')\n",
    "    print ('x is small')\n",
    "else:\n",
    "    print('second suite')\n",
    "    print\n"
   ]
  },
  {
   "cell_type": "code",
   "execution_count": 7,
   "id": "64816d4c",
   "metadata": {},
   "outputs": [
    {
     "data": {
      "text/plain": [
       "'teen'"
      ]
     },
     "execution_count": 7,
     "metadata": {},
     "output_type": "execute_result"
    }
   ],
   "source": [
    "age = 13\n",
    "s = 'toddler' if age < 5 else ('teen' if age < 22 else 'adult')\n",
    "s"
   ]
  },
  {
   "cell_type": "code",
   "execution_count": 8,
   "id": "4ee16513",
   "metadata": {},
   "outputs": [
    {
     "name": "stdout",
     "output_type": "stream",
     "text": [
      "4\n",
      "3\n",
      "2\n",
      "1\n",
      "0\n"
     ]
    }
   ],
   "source": [
    "n = 5\n",
    "while n > 0:   # 5 4 3 2 1 0>0? False\n",
    "\tn -= 1   # 4 3 2 1 0\n",
    "\tprint(n) # 4 3 2 1 0 \n"
   ]
  },
  {
   "cell_type": "code",
   "execution_count": 9,
   "id": "afe87a79",
   "metadata": {},
   "outputs": [
    {
     "name": "stdout",
     "output_type": "stream",
     "text": [
      "4\n",
      "3\n",
      "Loop ended.\n"
     ]
    }
   ],
   "source": [
    "n = 5\n",
    "while n > 0:                          # 5     4      3\n",
    "    n -= 1                            # 4     3      2\n",
    "    if n == 2:                        # false false  true\n",
    "        break # Break Statement       # skip  skip   breakkk\n",
    "    print(n)                          # 4     3\n",
    "print('Loop ended.')"
   ]
  },
  {
   "cell_type": "code",
   "execution_count": 10,
   "id": "7152a4c5",
   "metadata": {},
   "outputs": [
    {
     "name": "stdout",
     "output_type": "stream",
     "text": [
      "4\n",
      "3\n",
      "1\n",
      "0\n",
      "Loop ended.\n"
     ]
    }
   ],
   "source": [
    "n = 5\n",
    "while n > 0:            # 5 4 3 2 1 0>0\n",
    "    n -= 1              # 4 3 2 1 0\n",
    "    if n == 2:          # F F T F F\n",
    "        continue        # - - continue\n",
    "    print(n)            # 4 3 - 1 0\n",
    "print('Loop ended.')"
   ]
  },
  {
   "cell_type": "code",
   "execution_count": 11,
   "id": "ce6dba4c",
   "metadata": {},
   "outputs": [
    {
     "name": "stdout",
     "output_type": "stream",
     "text": [
      "4\n",
      "3\n",
      "2\n",
      "Loop done.\n"
     ]
    }
   ],
   "source": [
    "n = 5\n",
    "while n > 2:      \t \n",
    "\tn -= 1\n",
    "\tprint(n)\n",
    "else:\n",
    "\tprint('Loop done.')\n"
   ]
  },
  {
   "cell_type": "code",
   "execution_count": 12,
   "id": "57e55802",
   "metadata": {},
   "outputs": [
    {
     "name": "stdout",
     "output_type": "stream",
     "text": [
      "9\n",
      "8\n",
      "7\n",
      "6\n",
      "5\n",
      "4\n",
      "3\n",
      "2\n",
      "1\n",
      "0\n"
     ]
    }
   ],
   "source": [
    "n = 10\n",
    "while n > 0:      \t \n",
    "\tn -= 1\n",
    "\tprint(n)\n",
    "else:\n",
    "\tn = 10\n"
   ]
  },
  {
   "cell_type": "code",
   "execution_count": 14,
   "id": "65a39358",
   "metadata": {},
   "outputs": [
    {
     "name": "stdout",
     "output_type": "stream",
     "text": [
      "mother\n"
     ]
    }
   ],
   "source": [
    "age = 36\n",
    "gender = ','\n",
    "if age < 18:\n",
    "    if gender == 'M':\n",
    "        print('son')\n",
    "    else:\n",
    "        print('daugther')\n",
    "elif age >=18 and age <65:\n",
    "    if gender == 'M':\n",
    "        print('father')\n",
    "    else:\n",
    "        print('mother')\n",
    "else:\n",
    "    if gender == 'M':\n",
    "        print('grandfather')\n",
    "    else:\n",
    "        print('grandmother')"
   ]
  },
  {
   "cell_type": "code",
   "execution_count": 19,
   "id": "927317fe",
   "metadata": {
    "scrolled": true
   },
   "outputs": [
    {
     "name": "stdout",
     "output_type": "stream",
     "text": [
      "foo\n",
      "> baz\n",
      "> qux\n",
      "bar\n",
      "> baz\n",
      "> qux\n"
     ]
    }
   ],
   "source": [
    "a = ['foo', 'bar']\n",
    "\n",
    "while len(a):             \t# 2           \t#1           \t#0 \n",
    "    print(a.pop(0))       \t# foo         \t#bar      \n",
    "\n",
    "    b = ['baz', 'qux']\n",
    "\n",
    "    while len(b):         \t# 2  \t#1    \t#2  \t#1\n",
    "        print('>', b.pop(0))  # >#baz   >#qux \t>#baz   > #qux"
   ]
  },
  {
   "cell_type": "code",
   "execution_count": 21,
   "id": "8728ecaa",
   "metadata": {},
   "outputs": [
    {
     "name": "stdout",
     "output_type": "stream",
     "text": [
      "i  0\n",
      "j  1\n",
      "j  2\n",
      "will break\n",
      "i  1\n",
      "j  1\n",
      "j  2\n",
      "will break\n",
      "i  2\n",
      "j  1\n",
      "j  2\n",
      "will break\n",
      "i  3\n",
      "j  1\n",
      "j  2\n",
      "will break\n"
     ]
    }
   ],
   "source": [
    "i = 0\n",
    "while i < 4:\n",
    "    print('i ', i)\n",
    "    \n",
    "    j = 1\n",
    "    while j < 5:\n",
    "        print('j ', j)\n",
    "        if j == 2:\n",
    "            print('will break')\n",
    "            break\n",
    "        j += 1\n",
    "        \n",
    "    i+=1\n"
   ]
  },
  {
   "cell_type": "code",
   "execution_count": 22,
   "id": "afafcf06",
   "metadata": {},
   "outputs": [
    {
     "name": "stdout",
     "output_type": "stream",
     "text": [
      "kiwi\n",
      "peach\n",
      "orange\n"
     ]
    }
   ],
   "source": [
    "fruits = ['kiwi', 'peach', 'orange']\n",
    "for item_in_fruits in fruits:\n",
    "\tprint(item_in_fruits)"
   ]
  },
  {
   "cell_type": "code",
   "execution_count": 25,
   "id": "1bbbb608",
   "metadata": {},
   "outputs": [
    {
     "name": "stdout",
     "output_type": "stream",
     "text": [
      "kiwi\n"
     ]
    }
   ],
   "source": [
    "# fruits = ['kiwi', 'peach', 'orange', 'watermelon']\n",
    "fruits = ['kiwi']\n",
    "for fruit in fruits:\n",
    "\tprint(fruit)\n"
   ]
  },
  {
   "cell_type": "code",
   "execution_count": 30,
   "id": "4eb3e3f7",
   "metadata": {},
   "outputs": [
    {
     "name": "stdout",
     "output_type": "stream",
     "text": [
      "foo\n",
      "bar\n",
      "baz\n"
     ]
    }
   ],
   "source": [
    "d = {'foo': 1, 'bar': 2, 'baz': 3}\n",
    "for k in d:\n",
    "    print (k)"
   ]
  },
  {
   "cell_type": "code",
   "execution_count": 31,
   "id": "fac8ac99",
   "metadata": {},
   "outputs": [
    {
     "name": "stdout",
     "output_type": "stream",
     "text": [
      "('foo', 1)\n",
      "('bar', 2)\n",
      "('baz', 3)\n"
     ]
    }
   ],
   "source": [
    "d = {'foo': 1, 'bar': 2, 'baz': 3}\n",
    "for k in d.items():\n",
    "    print (k)"
   ]
  },
  {
   "cell_type": "code",
   "execution_count": 32,
   "id": "bd219979",
   "metadata": {},
   "outputs": [
    {
     "name": "stdout",
     "output_type": "stream",
     "text": [
      "1\n",
      "2\n",
      "3\n"
     ]
    }
   ],
   "source": [
    "d = {'foo': 1, 'bar': 2, 'baz': 3}\n",
    "for k in d.values():\n",
    "    print (k)"
   ]
  },
  {
   "cell_type": "code",
   "execution_count": 33,
   "id": "7051581e",
   "metadata": {},
   "outputs": [
    {
     "name": "stdout",
     "output_type": "stream",
     "text": [
      "1\n",
      "2\n",
      "3\n"
     ]
    }
   ],
   "source": [
    "d = {'foo': 1, 'bar': 2, 'baz': 3}\n",
    "\n",
    "for k in d:  \n",
    "\tprint(d[k])"
   ]
  },
  {
   "cell_type": "code",
   "execution_count": 34,
   "id": "577f93a4",
   "metadata": {},
   "outputs": [
    {
     "name": "stdout",
     "output_type": "stream",
     "text": [
      "0\n",
      "1\n",
      "2\n",
      "3\n",
      "4\n"
     ]
    }
   ],
   "source": [
    "x = range(5)\n",
    "\n",
    "for i in x:\n",
    "\tprint(i)"
   ]
  },
  {
   "cell_type": "code",
   "execution_count": 35,
   "id": "7a68a17b",
   "metadata": {},
   "outputs": [
    {
     "name": "stdout",
     "output_type": "stream",
     "text": [
      "1\n",
      "3\n",
      "5\n",
      "7\n",
      "9\n",
      "11\n",
      "13\n",
      "15\n",
      "17\n",
      "19\n",
      "21\n",
      "23\n",
      "25\n",
      "27\n",
      "29\n",
      "31\n",
      "33\n",
      "35\n",
      "37\n",
      "39\n",
      "41\n",
      "43\n",
      "45\n",
      "47\n",
      "49\n",
      "51\n",
      "53\n",
      "55\n",
      "57\n",
      "59\n",
      "61\n",
      "63\n",
      "65\n",
      "67\n",
      "69\n",
      "71\n",
      "73\n",
      "75\n",
      "77\n",
      "79\n",
      "81\n",
      "83\n",
      "85\n",
      "87\n",
      "89\n",
      "91\n",
      "93\n",
      "95\n",
      "97\n",
      "99\n"
     ]
    }
   ],
   "source": [
    "x = range(1, 100, 2)\n",
    "   \t \n",
    "for i in x:\n",
    "\tprint(i)"
   ]
  },
  {
   "cell_type": "code",
   "execution_count": 36,
   "id": "83df701d",
   "metadata": {},
   "outputs": [
    {
     "name": "stdout",
     "output_type": "stream",
     "text": [
      "foo\n",
      "qux\n"
     ]
    }
   ],
   "source": [
    "for i in ['foo','bar','baz','qux']:\n",
    "    if 'b' in i:\n",
    "        continue\n",
    "    print(i)"
   ]
  }
 ],
 "metadata": {
  "kernelspec": {
   "display_name": "Python 3",
   "language": "python",
   "name": "python3"
  },
  "language_info": {
   "codemirror_mode": {
    "name": "ipython",
    "version": 3
   },
   "file_extension": ".py",
   "mimetype": "text/x-python",
   "name": "python",
   "nbconvert_exporter": "python",
   "pygments_lexer": "ipython3",
   "version": "3.8.8"
  }
 },
 "nbformat": 4,
 "nbformat_minor": 5
}
