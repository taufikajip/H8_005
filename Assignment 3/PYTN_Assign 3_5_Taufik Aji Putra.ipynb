{
 "cells": [
  {
   "cell_type": "markdown",
   "id": "ccabbae1",
   "metadata": {},
   "source": [
    "# Introduction\n",
    "\n",
    "Taufik Aji Putra <br>\n",
    "PYTN-KS05-003 <br>\n",
    "Introduction to Python for Data Science (Studi Independen Kampus Merdeka Batch II) <br>"
   ]
  },
  {
   "cell_type": "markdown",
   "id": "edf57330",
   "metadata": {},
   "source": [
    "# Project Overview\n",
    "\n",
    "The data is related with direct marketing campaigns of a Portuguese banking institution. The marketing campaigns were based on phone calls. Often, more than one contact to the same client was required, in order to access if the product (bank term deposit) would be ('yes') or not ('no') subscribed.\n",
    "\n",
    "[Download Here](https://archive.ics.uci.edu/ml/datasets/Bank+Marketing)\n",
    "\n",
    "There are four datasets:\n",
    "\n",
    "bank-additional-full.csv with all examples (41188) and 20 inputs, ordered by date (from May 2008 to November 2010), very close to the data analyzed in [Moro et al., 2014]\n",
    "bank-additional.csv with 10% of the examples (4119), randomly selected from 1), and 20 inputs.\n",
    "bank-full.csv with all examples and 17 inputs, ordered by date (older version of this dataset with less inputs).\n",
    "bank.csv with 10% of the examples and 17 inputs, randomly selected from 3 (older version of this dataset with less inputs).\n",
    "The smallest datasets are provided to test more computationally demanding machine learning algorithms (e.g., SVM).\n",
    "\n",
    "The classification goal is to predict if the client will subscribe (yes/no) a term deposit (variable y).\n",
    "\n",
    "--- \n",
    "This dataset contains:\n",
    "\n",
    "Input variables:\n",
    "\n",
    "**#bank client data**<br>\n",
    "1 - age (numeric)\n",
    "\n",
    "2 - job : type of job (categorical: 'admin.','blue-collar','entrepreneur','housemaid','management','retired','self-employed','services','student','technician','unemployed','unknown')\n",
    "\n",
    "3 - marital : marital status (categorical: 'divorced','married','single','unknown'; note: 'divorced' means divorced or widowed)\n",
    "\n",
    "4 - education (categorical: 'basic.4y','basic.6y','basic.9y','high.school','illiterate','professional.course','university.degree','unknown')\n",
    "\n",
    "5 - default: has credit in default? (categorical: 'no', 'yes', 'unknown')\n",
    "\n",
    "6 - housing: has housing loan? (categorical: 'no', 'yes', 'unknown')\n",
    "\n",
    "7 - loan: has personal loan? (categorical: 'no', 'yes', 'unknown')\n",
    "\n",
    "**#related with the last contact of the current campaign:**<br>\n",
    "8 - contact: contact communication type (categorical: 'cellular', 'telephone')\n",
    "\n",
    "9 - month: last contact month of year (categorical: 'jan', 'feb', 'mar', ..., 'nov', 'dec')\n",
    "\n",
    "10 - day_of_week: last contact day of the week (categorical: 'mon', 'tue', 'wed', 'thu', 'fri')\n",
    "\n",
    "11 - duration: last contact duration, in seconds (numeric). Important note: this attribute highly affects the output target (e.g., if duration=0 then y='no'). Yet, the duration is not known before a call is performed. Also, after the end of the call y is obviously known. Thus, this input should only be included for benchmark purposes and should be discarded if the intention is to have a realistic predictive model.\n",
    "\n",
    "**#other attributes:** <br>\n",
    "12 - campaign: number of contacts performed during this campaign and for this client (numeric, includes last contact)\n",
    "\n",
    "13 - pdays: number of days that passed by after the client was last contacted from a previous campaign (numeric; 999 means client was not previously contacted)\n",
    "\n",
    "14 - previous: number of contacts performed before this campaign and for this client (numeric)\n",
    "\n",
    "15 - poutcome: outcome of the previous marketing campaign (categorical: 'failure', 'nonexistent', 'success')\n",
    "\n",
    "**#social and economic context attributes**<br>\n",
    "16 - emp.var.rate: employment variation rate - quarterly indicator (numeric)\n",
    "\n",
    "17 - cons.price.idx: consumer price index - monthly indicator (numeric)\n",
    "\n",
    "18 - cons.conf.idx: consumer confidence index - monthly indicator (numeric)\n",
    "\n",
    "19 - euribor3m: euribor 3 month rate - daily indicator (numeric)\n",
    "\n",
    "20 - nr.employed: number of employees - quarterly indicator (numeric)\n",
    "\n",
    "**Output variable (desired target):**<br>\n",
    "21 - y - has the client subscribed a term deposit? (binary: 'yes', 'no')"
   ]
  },
  {
   "cell_type": "markdown",
   "id": "f1e23a08",
   "metadata": {},
   "source": [
    "# Import Library"
   ]
  },
  {
   "cell_type": "markdown",
   "id": "e43b0883",
   "metadata": {},
   "source": [
    "**Import library yang dibutuhkan**"
   ]
  },
  {
   "cell_type": "code",
   "execution_count": 1,
   "id": "f0f8c395",
   "metadata": {},
   "outputs": [],
   "source": [
    "# Data processing\n",
    "import pandas as pd\n",
    "import numpy as np\n",
    "\n",
    "# visualization tools\n",
    "import matplotlib.pyplot as plt\n",
    "import seaborn as sns\n",
    "\n",
    "# Machine learning process\n",
    "from sklearn.model_selection import train_test_split, cross_val_score, GridSearchCV, KFold\n",
    "from sklearn.preprocessing import LabelEncoder, MinMaxScaler, StandardScaler\n",
    "from sklearn import linear_model, decomposition\n",
    "\n",
    "from sklearn.impute import SimpleImputer\n",
    "from sklearn.pipeline import Pipeline\n",
    "from sklearn.naive_bayes import GaussianNB\n",
    "from sklearn.tree import DecisionTreeClassifier\n",
    "from sklearn.neighbors import KNeighborsClassifier\n",
    "from sklearn.ensemble import RandomForestClassifier\n",
    "from sklearn.svm import SVC\n",
    "from sklearn.linear_model import LogisticRegression\n",
    "from sklearn import metrics\n",
    "from sklearn.metrics import classification_report, confusion_matrix\n",
    "from imblearn.over_sampling import SMOTE\n",
    "\n",
    "# features analysis libraries\n",
    "from sklearn.feature_selection import SelectKBest\n",
    "from sklearn.feature_selection import f_classif\n",
    "from sklearn.feature_selection import chi2,mutual_info_classif\n",
    "\n",
    "%matplotlib inline\n",
    "\n",
    "import warnings\n",
    "warnings.filterwarnings(\"ignore\")"
   ]
  },
  {
   "cell_type": "markdown",
   "id": "31f8a74e",
   "metadata": {},
   "source": [
    "# Data Preparation"
   ]
  },
  {
   "cell_type": "markdown",
   "id": "06e2e16f",
   "metadata": {},
   "source": [
    "**Import dataset yang akan digunakan dan menampilkan 5 data awal**"
   ]
  },
  {
   "cell_type": "code",
   "execution_count": 2,
   "id": "e64a0b64",
   "metadata": {
    "scrolled": true
   },
   "outputs": [
    {
     "data": {
      "text/html": [
       "<div>\n",
       "<style scoped>\n",
       "    .dataframe tbody tr th:only-of-type {\n",
       "        vertical-align: middle;\n",
       "    }\n",
       "\n",
       "    .dataframe tbody tr th {\n",
       "        vertical-align: top;\n",
       "    }\n",
       "\n",
       "    .dataframe thead th {\n",
       "        text-align: right;\n",
       "    }\n",
       "</style>\n",
       "<table border=\"1\" class=\"dataframe\">\n",
       "  <thead>\n",
       "    <tr style=\"text-align: right;\">\n",
       "      <th></th>\n",
       "      <th>age</th>\n",
       "      <th>job</th>\n",
       "      <th>marital</th>\n",
       "      <th>education</th>\n",
       "      <th>default</th>\n",
       "      <th>housing</th>\n",
       "      <th>loan</th>\n",
       "      <th>contact</th>\n",
       "      <th>month</th>\n",
       "      <th>day_of_week</th>\n",
       "      <th>...</th>\n",
       "      <th>campaign</th>\n",
       "      <th>pdays</th>\n",
       "      <th>previous</th>\n",
       "      <th>poutcome</th>\n",
       "      <th>emp.var.rate</th>\n",
       "      <th>cons.price.idx</th>\n",
       "      <th>cons.conf.idx</th>\n",
       "      <th>euribor3m</th>\n",
       "      <th>nr.employed</th>\n",
       "      <th>y</th>\n",
       "    </tr>\n",
       "  </thead>\n",
       "  <tbody>\n",
       "    <tr>\n",
       "      <th>0</th>\n",
       "      <td>56</td>\n",
       "      <td>housemaid</td>\n",
       "      <td>married</td>\n",
       "      <td>basic.4y</td>\n",
       "      <td>no</td>\n",
       "      <td>no</td>\n",
       "      <td>no</td>\n",
       "      <td>telephone</td>\n",
       "      <td>may</td>\n",
       "      <td>mon</td>\n",
       "      <td>...</td>\n",
       "      <td>1</td>\n",
       "      <td>999</td>\n",
       "      <td>0</td>\n",
       "      <td>nonexistent</td>\n",
       "      <td>1.1</td>\n",
       "      <td>93.994</td>\n",
       "      <td>-36.4</td>\n",
       "      <td>4.857</td>\n",
       "      <td>5191.0</td>\n",
       "      <td>no</td>\n",
       "    </tr>\n",
       "    <tr>\n",
       "      <th>1</th>\n",
       "      <td>57</td>\n",
       "      <td>services</td>\n",
       "      <td>married</td>\n",
       "      <td>high.school</td>\n",
       "      <td>unknown</td>\n",
       "      <td>no</td>\n",
       "      <td>no</td>\n",
       "      <td>telephone</td>\n",
       "      <td>may</td>\n",
       "      <td>mon</td>\n",
       "      <td>...</td>\n",
       "      <td>1</td>\n",
       "      <td>999</td>\n",
       "      <td>0</td>\n",
       "      <td>nonexistent</td>\n",
       "      <td>1.1</td>\n",
       "      <td>93.994</td>\n",
       "      <td>-36.4</td>\n",
       "      <td>4.857</td>\n",
       "      <td>5191.0</td>\n",
       "      <td>no</td>\n",
       "    </tr>\n",
       "    <tr>\n",
       "      <th>2</th>\n",
       "      <td>37</td>\n",
       "      <td>services</td>\n",
       "      <td>married</td>\n",
       "      <td>high.school</td>\n",
       "      <td>no</td>\n",
       "      <td>yes</td>\n",
       "      <td>no</td>\n",
       "      <td>telephone</td>\n",
       "      <td>may</td>\n",
       "      <td>mon</td>\n",
       "      <td>...</td>\n",
       "      <td>1</td>\n",
       "      <td>999</td>\n",
       "      <td>0</td>\n",
       "      <td>nonexistent</td>\n",
       "      <td>1.1</td>\n",
       "      <td>93.994</td>\n",
       "      <td>-36.4</td>\n",
       "      <td>4.857</td>\n",
       "      <td>5191.0</td>\n",
       "      <td>no</td>\n",
       "    </tr>\n",
       "    <tr>\n",
       "      <th>3</th>\n",
       "      <td>40</td>\n",
       "      <td>admin.</td>\n",
       "      <td>married</td>\n",
       "      <td>basic.6y</td>\n",
       "      <td>no</td>\n",
       "      <td>no</td>\n",
       "      <td>no</td>\n",
       "      <td>telephone</td>\n",
       "      <td>may</td>\n",
       "      <td>mon</td>\n",
       "      <td>...</td>\n",
       "      <td>1</td>\n",
       "      <td>999</td>\n",
       "      <td>0</td>\n",
       "      <td>nonexistent</td>\n",
       "      <td>1.1</td>\n",
       "      <td>93.994</td>\n",
       "      <td>-36.4</td>\n",
       "      <td>4.857</td>\n",
       "      <td>5191.0</td>\n",
       "      <td>no</td>\n",
       "    </tr>\n",
       "    <tr>\n",
       "      <th>4</th>\n",
       "      <td>56</td>\n",
       "      <td>services</td>\n",
       "      <td>married</td>\n",
       "      <td>high.school</td>\n",
       "      <td>no</td>\n",
       "      <td>no</td>\n",
       "      <td>yes</td>\n",
       "      <td>telephone</td>\n",
       "      <td>may</td>\n",
       "      <td>mon</td>\n",
       "      <td>...</td>\n",
       "      <td>1</td>\n",
       "      <td>999</td>\n",
       "      <td>0</td>\n",
       "      <td>nonexistent</td>\n",
       "      <td>1.1</td>\n",
       "      <td>93.994</td>\n",
       "      <td>-36.4</td>\n",
       "      <td>4.857</td>\n",
       "      <td>5191.0</td>\n",
       "      <td>no</td>\n",
       "    </tr>\n",
       "  </tbody>\n",
       "</table>\n",
       "<p>5 rows × 21 columns</p>\n",
       "</div>"
      ],
      "text/plain": [
       "   age        job  marital    education  default housing loan    contact  \\\n",
       "0   56  housemaid  married     basic.4y       no      no   no  telephone   \n",
       "1   57   services  married  high.school  unknown      no   no  telephone   \n",
       "2   37   services  married  high.school       no     yes   no  telephone   \n",
       "3   40     admin.  married     basic.6y       no      no   no  telephone   \n",
       "4   56   services  married  high.school       no      no  yes  telephone   \n",
       "\n",
       "  month day_of_week  ...  campaign  pdays  previous     poutcome emp.var.rate  \\\n",
       "0   may         mon  ...         1    999         0  nonexistent          1.1   \n",
       "1   may         mon  ...         1    999         0  nonexistent          1.1   \n",
       "2   may         mon  ...         1    999         0  nonexistent          1.1   \n",
       "3   may         mon  ...         1    999         0  nonexistent          1.1   \n",
       "4   may         mon  ...         1    999         0  nonexistent          1.1   \n",
       "\n",
       "   cons.price.idx  cons.conf.idx  euribor3m  nr.employed   y  \n",
       "0          93.994          -36.4      4.857       5191.0  no  \n",
       "1          93.994          -36.4      4.857       5191.0  no  \n",
       "2          93.994          -36.4      4.857       5191.0  no  \n",
       "3          93.994          -36.4      4.857       5191.0  no  \n",
       "4          93.994          -36.4      4.857       5191.0  no  \n",
       "\n",
       "[5 rows x 21 columns]"
      ]
     },
     "execution_count": 2,
     "metadata": {},
     "output_type": "execute_result"
    }
   ],
   "source": [
    "# Tambahkan sep=';' untuk data csv yang akan ditampilkan sebagai dataframe\n",
    "df = pd.read_csv('./dataset/bank-additional-full.csv',sep=';')\n",
    "df.head()"
   ]
  },
  {
   "cell_type": "markdown",
   "id": "13ebac48",
   "metadata": {},
   "source": [
    "**Menampilkan 5 data terakhir**"
   ]
  },
  {
   "cell_type": "code",
   "execution_count": 3,
   "id": "e455e19e",
   "metadata": {},
   "outputs": [
    {
     "data": {
      "text/html": [
       "<div>\n",
       "<style scoped>\n",
       "    .dataframe tbody tr th:only-of-type {\n",
       "        vertical-align: middle;\n",
       "    }\n",
       "\n",
       "    .dataframe tbody tr th {\n",
       "        vertical-align: top;\n",
       "    }\n",
       "\n",
       "    .dataframe thead th {\n",
       "        text-align: right;\n",
       "    }\n",
       "</style>\n",
       "<table border=\"1\" class=\"dataframe\">\n",
       "  <thead>\n",
       "    <tr style=\"text-align: right;\">\n",
       "      <th></th>\n",
       "      <th>age</th>\n",
       "      <th>job</th>\n",
       "      <th>marital</th>\n",
       "      <th>education</th>\n",
       "      <th>default</th>\n",
       "      <th>housing</th>\n",
       "      <th>loan</th>\n",
       "      <th>contact</th>\n",
       "      <th>month</th>\n",
       "      <th>day_of_week</th>\n",
       "      <th>...</th>\n",
       "      <th>campaign</th>\n",
       "      <th>pdays</th>\n",
       "      <th>previous</th>\n",
       "      <th>poutcome</th>\n",
       "      <th>emp.var.rate</th>\n",
       "      <th>cons.price.idx</th>\n",
       "      <th>cons.conf.idx</th>\n",
       "      <th>euribor3m</th>\n",
       "      <th>nr.employed</th>\n",
       "      <th>y</th>\n",
       "    </tr>\n",
       "  </thead>\n",
       "  <tbody>\n",
       "    <tr>\n",
       "      <th>41183</th>\n",
       "      <td>73</td>\n",
       "      <td>retired</td>\n",
       "      <td>married</td>\n",
       "      <td>professional.course</td>\n",
       "      <td>no</td>\n",
       "      <td>yes</td>\n",
       "      <td>no</td>\n",
       "      <td>cellular</td>\n",
       "      <td>nov</td>\n",
       "      <td>fri</td>\n",
       "      <td>...</td>\n",
       "      <td>1</td>\n",
       "      <td>999</td>\n",
       "      <td>0</td>\n",
       "      <td>nonexistent</td>\n",
       "      <td>-1.1</td>\n",
       "      <td>94.767</td>\n",
       "      <td>-50.8</td>\n",
       "      <td>1.028</td>\n",
       "      <td>4963.6</td>\n",
       "      <td>yes</td>\n",
       "    </tr>\n",
       "    <tr>\n",
       "      <th>41184</th>\n",
       "      <td>46</td>\n",
       "      <td>blue-collar</td>\n",
       "      <td>married</td>\n",
       "      <td>professional.course</td>\n",
       "      <td>no</td>\n",
       "      <td>no</td>\n",
       "      <td>no</td>\n",
       "      <td>cellular</td>\n",
       "      <td>nov</td>\n",
       "      <td>fri</td>\n",
       "      <td>...</td>\n",
       "      <td>1</td>\n",
       "      <td>999</td>\n",
       "      <td>0</td>\n",
       "      <td>nonexistent</td>\n",
       "      <td>-1.1</td>\n",
       "      <td>94.767</td>\n",
       "      <td>-50.8</td>\n",
       "      <td>1.028</td>\n",
       "      <td>4963.6</td>\n",
       "      <td>no</td>\n",
       "    </tr>\n",
       "    <tr>\n",
       "      <th>41185</th>\n",
       "      <td>56</td>\n",
       "      <td>retired</td>\n",
       "      <td>married</td>\n",
       "      <td>university.degree</td>\n",
       "      <td>no</td>\n",
       "      <td>yes</td>\n",
       "      <td>no</td>\n",
       "      <td>cellular</td>\n",
       "      <td>nov</td>\n",
       "      <td>fri</td>\n",
       "      <td>...</td>\n",
       "      <td>2</td>\n",
       "      <td>999</td>\n",
       "      <td>0</td>\n",
       "      <td>nonexistent</td>\n",
       "      <td>-1.1</td>\n",
       "      <td>94.767</td>\n",
       "      <td>-50.8</td>\n",
       "      <td>1.028</td>\n",
       "      <td>4963.6</td>\n",
       "      <td>no</td>\n",
       "    </tr>\n",
       "    <tr>\n",
       "      <th>41186</th>\n",
       "      <td>44</td>\n",
       "      <td>technician</td>\n",
       "      <td>married</td>\n",
       "      <td>professional.course</td>\n",
       "      <td>no</td>\n",
       "      <td>no</td>\n",
       "      <td>no</td>\n",
       "      <td>cellular</td>\n",
       "      <td>nov</td>\n",
       "      <td>fri</td>\n",
       "      <td>...</td>\n",
       "      <td>1</td>\n",
       "      <td>999</td>\n",
       "      <td>0</td>\n",
       "      <td>nonexistent</td>\n",
       "      <td>-1.1</td>\n",
       "      <td>94.767</td>\n",
       "      <td>-50.8</td>\n",
       "      <td>1.028</td>\n",
       "      <td>4963.6</td>\n",
       "      <td>yes</td>\n",
       "    </tr>\n",
       "    <tr>\n",
       "      <th>41187</th>\n",
       "      <td>74</td>\n",
       "      <td>retired</td>\n",
       "      <td>married</td>\n",
       "      <td>professional.course</td>\n",
       "      <td>no</td>\n",
       "      <td>yes</td>\n",
       "      <td>no</td>\n",
       "      <td>cellular</td>\n",
       "      <td>nov</td>\n",
       "      <td>fri</td>\n",
       "      <td>...</td>\n",
       "      <td>3</td>\n",
       "      <td>999</td>\n",
       "      <td>1</td>\n",
       "      <td>failure</td>\n",
       "      <td>-1.1</td>\n",
       "      <td>94.767</td>\n",
       "      <td>-50.8</td>\n",
       "      <td>1.028</td>\n",
       "      <td>4963.6</td>\n",
       "      <td>no</td>\n",
       "    </tr>\n",
       "  </tbody>\n",
       "</table>\n",
       "<p>5 rows × 21 columns</p>\n",
       "</div>"
      ],
      "text/plain": [
       "       age          job  marital            education default housing loan  \\\n",
       "41183   73      retired  married  professional.course      no     yes   no   \n",
       "41184   46  blue-collar  married  professional.course      no      no   no   \n",
       "41185   56      retired  married    university.degree      no     yes   no   \n",
       "41186   44   technician  married  professional.course      no      no   no   \n",
       "41187   74      retired  married  professional.course      no     yes   no   \n",
       "\n",
       "        contact month day_of_week  ...  campaign  pdays  previous  \\\n",
       "41183  cellular   nov         fri  ...         1    999         0   \n",
       "41184  cellular   nov         fri  ...         1    999         0   \n",
       "41185  cellular   nov         fri  ...         2    999         0   \n",
       "41186  cellular   nov         fri  ...         1    999         0   \n",
       "41187  cellular   nov         fri  ...         3    999         1   \n",
       "\n",
       "          poutcome emp.var.rate  cons.price.idx  cons.conf.idx  euribor3m  \\\n",
       "41183  nonexistent         -1.1          94.767          -50.8      1.028   \n",
       "41184  nonexistent         -1.1          94.767          -50.8      1.028   \n",
       "41185  nonexistent         -1.1          94.767          -50.8      1.028   \n",
       "41186  nonexistent         -1.1          94.767          -50.8      1.028   \n",
       "41187      failure         -1.1          94.767          -50.8      1.028   \n",
       "\n",
       "       nr.employed    y  \n",
       "41183       4963.6  yes  \n",
       "41184       4963.6   no  \n",
       "41185       4963.6   no  \n",
       "41186       4963.6  yes  \n",
       "41187       4963.6   no  \n",
       "\n",
       "[5 rows x 21 columns]"
      ]
     },
     "execution_count": 3,
     "metadata": {},
     "output_type": "execute_result"
    }
   ],
   "source": [
    "df.tail()"
   ]
  },
  {
   "cell_type": "markdown",
   "id": "43b36bbf",
   "metadata": {},
   "source": [
    "**Mengetahui kolom dan tipe data setiap kolom**"
   ]
  },
  {
   "cell_type": "code",
   "execution_count": 4,
   "id": "30c78d6e",
   "metadata": {
    "scrolled": false
   },
   "outputs": [
    {
     "name": "stdout",
     "output_type": "stream",
     "text": [
      "<class 'pandas.core.frame.DataFrame'>\n",
      "RangeIndex: 41188 entries, 0 to 41187\n",
      "Data columns (total 21 columns):\n",
      " #   Column          Non-Null Count  Dtype  \n",
      "---  ------          --------------  -----  \n",
      " 0   age             41188 non-null  int64  \n",
      " 1   job             41188 non-null  object \n",
      " 2   marital         41188 non-null  object \n",
      " 3   education       41188 non-null  object \n",
      " 4   default         41188 non-null  object \n",
      " 5   housing         41188 non-null  object \n",
      " 6   loan            41188 non-null  object \n",
      " 7   contact         41188 non-null  object \n",
      " 8   month           41188 non-null  object \n",
      " 9   day_of_week     41188 non-null  object \n",
      " 10  duration        41188 non-null  int64  \n",
      " 11  campaign        41188 non-null  int64  \n",
      " 12  pdays           41188 non-null  int64  \n",
      " 13  previous        41188 non-null  int64  \n",
      " 14  poutcome        41188 non-null  object \n",
      " 15  emp.var.rate    41188 non-null  float64\n",
      " 16  cons.price.idx  41188 non-null  float64\n",
      " 17  cons.conf.idx   41188 non-null  float64\n",
      " 18  euribor3m       41188 non-null  float64\n",
      " 19  nr.employed     41188 non-null  float64\n",
      " 20  y               41188 non-null  object \n",
      "dtypes: float64(5), int64(5), object(11)\n",
      "memory usage: 6.6+ MB\n"
     ]
    }
   ],
   "source": [
    "df.info()"
   ]
  },
  {
   "cell_type": "markdown",
   "id": "90208e97",
   "metadata": {},
   "source": [
    "**Menghapus kolom 'duration'**"
   ]
  },
  {
   "cell_type": "markdown",
   "id": "83430bdf",
   "metadata": {},
   "source": [
    "Berdasarkan deskripsi dataset, variabel 'duration' memiliki bias yang tinggi dikarenakan jika nilai duration=0 maka sudah pasti target = no, sehingga untuk meningkatkan akurasi proses modelling nanti, kolom 'duration' akan dihapus."
   ]
  },
  {
   "cell_type": "code",
   "execution_count": 5,
   "id": "e9dc8996",
   "metadata": {},
   "outputs": [
    {
     "data": {
      "text/html": [
       "<div>\n",
       "<style scoped>\n",
       "    .dataframe tbody tr th:only-of-type {\n",
       "        vertical-align: middle;\n",
       "    }\n",
       "\n",
       "    .dataframe tbody tr th {\n",
       "        vertical-align: top;\n",
       "    }\n",
       "\n",
       "    .dataframe thead th {\n",
       "        text-align: right;\n",
       "    }\n",
       "</style>\n",
       "<table border=\"1\" class=\"dataframe\">\n",
       "  <thead>\n",
       "    <tr style=\"text-align: right;\">\n",
       "      <th></th>\n",
       "      <th>age</th>\n",
       "      <th>job</th>\n",
       "      <th>marital</th>\n",
       "      <th>education</th>\n",
       "      <th>default</th>\n",
       "      <th>housing</th>\n",
       "      <th>loan</th>\n",
       "      <th>contact</th>\n",
       "      <th>month</th>\n",
       "      <th>day_of_week</th>\n",
       "      <th>campaign</th>\n",
       "      <th>pdays</th>\n",
       "      <th>previous</th>\n",
       "      <th>poutcome</th>\n",
       "      <th>emp.var.rate</th>\n",
       "      <th>cons.price.idx</th>\n",
       "      <th>cons.conf.idx</th>\n",
       "      <th>euribor3m</th>\n",
       "      <th>nr.employed</th>\n",
       "      <th>y</th>\n",
       "    </tr>\n",
       "  </thead>\n",
       "  <tbody>\n",
       "    <tr>\n",
       "      <th>0</th>\n",
       "      <td>56</td>\n",
       "      <td>housemaid</td>\n",
       "      <td>married</td>\n",
       "      <td>basic.4y</td>\n",
       "      <td>no</td>\n",
       "      <td>no</td>\n",
       "      <td>no</td>\n",
       "      <td>telephone</td>\n",
       "      <td>may</td>\n",
       "      <td>mon</td>\n",
       "      <td>1</td>\n",
       "      <td>999</td>\n",
       "      <td>0</td>\n",
       "      <td>nonexistent</td>\n",
       "      <td>1.1</td>\n",
       "      <td>93.994</td>\n",
       "      <td>-36.4</td>\n",
       "      <td>4.857</td>\n",
       "      <td>5191.0</td>\n",
       "      <td>no</td>\n",
       "    </tr>\n",
       "    <tr>\n",
       "      <th>1</th>\n",
       "      <td>57</td>\n",
       "      <td>services</td>\n",
       "      <td>married</td>\n",
       "      <td>high.school</td>\n",
       "      <td>unknown</td>\n",
       "      <td>no</td>\n",
       "      <td>no</td>\n",
       "      <td>telephone</td>\n",
       "      <td>may</td>\n",
       "      <td>mon</td>\n",
       "      <td>1</td>\n",
       "      <td>999</td>\n",
       "      <td>0</td>\n",
       "      <td>nonexistent</td>\n",
       "      <td>1.1</td>\n",
       "      <td>93.994</td>\n",
       "      <td>-36.4</td>\n",
       "      <td>4.857</td>\n",
       "      <td>5191.0</td>\n",
       "      <td>no</td>\n",
       "    </tr>\n",
       "    <tr>\n",
       "      <th>2</th>\n",
       "      <td>37</td>\n",
       "      <td>services</td>\n",
       "      <td>married</td>\n",
       "      <td>high.school</td>\n",
       "      <td>no</td>\n",
       "      <td>yes</td>\n",
       "      <td>no</td>\n",
       "      <td>telephone</td>\n",
       "      <td>may</td>\n",
       "      <td>mon</td>\n",
       "      <td>1</td>\n",
       "      <td>999</td>\n",
       "      <td>0</td>\n",
       "      <td>nonexistent</td>\n",
       "      <td>1.1</td>\n",
       "      <td>93.994</td>\n",
       "      <td>-36.4</td>\n",
       "      <td>4.857</td>\n",
       "      <td>5191.0</td>\n",
       "      <td>no</td>\n",
       "    </tr>\n",
       "    <tr>\n",
       "      <th>3</th>\n",
       "      <td>40</td>\n",
       "      <td>admin.</td>\n",
       "      <td>married</td>\n",
       "      <td>basic.6y</td>\n",
       "      <td>no</td>\n",
       "      <td>no</td>\n",
       "      <td>no</td>\n",
       "      <td>telephone</td>\n",
       "      <td>may</td>\n",
       "      <td>mon</td>\n",
       "      <td>1</td>\n",
       "      <td>999</td>\n",
       "      <td>0</td>\n",
       "      <td>nonexistent</td>\n",
       "      <td>1.1</td>\n",
       "      <td>93.994</td>\n",
       "      <td>-36.4</td>\n",
       "      <td>4.857</td>\n",
       "      <td>5191.0</td>\n",
       "      <td>no</td>\n",
       "    </tr>\n",
       "    <tr>\n",
       "      <th>4</th>\n",
       "      <td>56</td>\n",
       "      <td>services</td>\n",
       "      <td>married</td>\n",
       "      <td>high.school</td>\n",
       "      <td>no</td>\n",
       "      <td>no</td>\n",
       "      <td>yes</td>\n",
       "      <td>telephone</td>\n",
       "      <td>may</td>\n",
       "      <td>mon</td>\n",
       "      <td>1</td>\n",
       "      <td>999</td>\n",
       "      <td>0</td>\n",
       "      <td>nonexistent</td>\n",
       "      <td>1.1</td>\n",
       "      <td>93.994</td>\n",
       "      <td>-36.4</td>\n",
       "      <td>4.857</td>\n",
       "      <td>5191.0</td>\n",
       "      <td>no</td>\n",
       "    </tr>\n",
       "  </tbody>\n",
       "</table>\n",
       "</div>"
      ],
      "text/plain": [
       "   age        job  marital    education  default housing loan    contact  \\\n",
       "0   56  housemaid  married     basic.4y       no      no   no  telephone   \n",
       "1   57   services  married  high.school  unknown      no   no  telephone   \n",
       "2   37   services  married  high.school       no     yes   no  telephone   \n",
       "3   40     admin.  married     basic.6y       no      no   no  telephone   \n",
       "4   56   services  married  high.school       no      no  yes  telephone   \n",
       "\n",
       "  month day_of_week  campaign  pdays  previous     poutcome  emp.var.rate  \\\n",
       "0   may         mon         1    999         0  nonexistent           1.1   \n",
       "1   may         mon         1    999         0  nonexistent           1.1   \n",
       "2   may         mon         1    999         0  nonexistent           1.1   \n",
       "3   may         mon         1    999         0  nonexistent           1.1   \n",
       "4   may         mon         1    999         0  nonexistent           1.1   \n",
       "\n",
       "   cons.price.idx  cons.conf.idx  euribor3m  nr.employed   y  \n",
       "0          93.994          -36.4      4.857       5191.0  no  \n",
       "1          93.994          -36.4      4.857       5191.0  no  \n",
       "2          93.994          -36.4      4.857       5191.0  no  \n",
       "3          93.994          -36.4      4.857       5191.0  no  \n",
       "4          93.994          -36.4      4.857       5191.0  no  "
      ]
     },
     "execution_count": 5,
     "metadata": {},
     "output_type": "execute_result"
    }
   ],
   "source": [
    "df.drop('duration',inplace=True, axis=1)\n",
    "df.head()"
   ]
  },
  {
   "cell_type": "markdown",
   "id": "dcc84d4f",
   "metadata": {},
   "source": [
    "**Menampilkan dimensi (shape) dataset**"
   ]
  },
  {
   "cell_type": "code",
   "execution_count": 6,
   "id": "57d96b5c",
   "metadata": {},
   "outputs": [
    {
     "data": {
      "text/plain": [
       "(41188, 20)"
      ]
     },
     "execution_count": 6,
     "metadata": {},
     "output_type": "execute_result"
    }
   ],
   "source": [
    "df.shape"
   ]
  },
  {
   "cell_type": "markdown",
   "id": "506881c1",
   "metadata": {},
   "source": [
    "**Menampilkan deskriptif statistik dataset**"
   ]
  },
  {
   "cell_type": "code",
   "execution_count": 7,
   "id": "6c906e13",
   "metadata": {
    "scrolled": true
   },
   "outputs": [
    {
     "data": {
      "text/html": [
       "<div>\n",
       "<style scoped>\n",
       "    .dataframe tbody tr th:only-of-type {\n",
       "        vertical-align: middle;\n",
       "    }\n",
       "\n",
       "    .dataframe tbody tr th {\n",
       "        vertical-align: top;\n",
       "    }\n",
       "\n",
       "    .dataframe thead th {\n",
       "        text-align: right;\n",
       "    }\n",
       "</style>\n",
       "<table border=\"1\" class=\"dataframe\">\n",
       "  <thead>\n",
       "    <tr style=\"text-align: right;\">\n",
       "      <th></th>\n",
       "      <th>age</th>\n",
       "      <th>campaign</th>\n",
       "      <th>pdays</th>\n",
       "      <th>previous</th>\n",
       "      <th>emp.var.rate</th>\n",
       "      <th>cons.price.idx</th>\n",
       "      <th>cons.conf.idx</th>\n",
       "      <th>euribor3m</th>\n",
       "      <th>nr.employed</th>\n",
       "    </tr>\n",
       "  </thead>\n",
       "  <tbody>\n",
       "    <tr>\n",
       "      <th>count</th>\n",
       "      <td>41188.00000</td>\n",
       "      <td>41188.000000</td>\n",
       "      <td>41188.000000</td>\n",
       "      <td>41188.000000</td>\n",
       "      <td>41188.000000</td>\n",
       "      <td>41188.000000</td>\n",
       "      <td>41188.000000</td>\n",
       "      <td>41188.000000</td>\n",
       "      <td>41188.000000</td>\n",
       "    </tr>\n",
       "    <tr>\n",
       "      <th>mean</th>\n",
       "      <td>40.02406</td>\n",
       "      <td>2.567593</td>\n",
       "      <td>962.475454</td>\n",
       "      <td>0.172963</td>\n",
       "      <td>0.081886</td>\n",
       "      <td>93.575664</td>\n",
       "      <td>-40.502600</td>\n",
       "      <td>3.621291</td>\n",
       "      <td>5167.035911</td>\n",
       "    </tr>\n",
       "    <tr>\n",
       "      <th>std</th>\n",
       "      <td>10.42125</td>\n",
       "      <td>2.770014</td>\n",
       "      <td>186.910907</td>\n",
       "      <td>0.494901</td>\n",
       "      <td>1.570960</td>\n",
       "      <td>0.578840</td>\n",
       "      <td>4.628198</td>\n",
       "      <td>1.734447</td>\n",
       "      <td>72.251528</td>\n",
       "    </tr>\n",
       "    <tr>\n",
       "      <th>min</th>\n",
       "      <td>17.00000</td>\n",
       "      <td>1.000000</td>\n",
       "      <td>0.000000</td>\n",
       "      <td>0.000000</td>\n",
       "      <td>-3.400000</td>\n",
       "      <td>92.201000</td>\n",
       "      <td>-50.800000</td>\n",
       "      <td>0.634000</td>\n",
       "      <td>4963.600000</td>\n",
       "    </tr>\n",
       "    <tr>\n",
       "      <th>25%</th>\n",
       "      <td>32.00000</td>\n",
       "      <td>1.000000</td>\n",
       "      <td>999.000000</td>\n",
       "      <td>0.000000</td>\n",
       "      <td>-1.800000</td>\n",
       "      <td>93.075000</td>\n",
       "      <td>-42.700000</td>\n",
       "      <td>1.344000</td>\n",
       "      <td>5099.100000</td>\n",
       "    </tr>\n",
       "    <tr>\n",
       "      <th>50%</th>\n",
       "      <td>38.00000</td>\n",
       "      <td>2.000000</td>\n",
       "      <td>999.000000</td>\n",
       "      <td>0.000000</td>\n",
       "      <td>1.100000</td>\n",
       "      <td>93.749000</td>\n",
       "      <td>-41.800000</td>\n",
       "      <td>4.857000</td>\n",
       "      <td>5191.000000</td>\n",
       "    </tr>\n",
       "    <tr>\n",
       "      <th>75%</th>\n",
       "      <td>47.00000</td>\n",
       "      <td>3.000000</td>\n",
       "      <td>999.000000</td>\n",
       "      <td>0.000000</td>\n",
       "      <td>1.400000</td>\n",
       "      <td>93.994000</td>\n",
       "      <td>-36.400000</td>\n",
       "      <td>4.961000</td>\n",
       "      <td>5228.100000</td>\n",
       "    </tr>\n",
       "    <tr>\n",
       "      <th>max</th>\n",
       "      <td>98.00000</td>\n",
       "      <td>56.000000</td>\n",
       "      <td>999.000000</td>\n",
       "      <td>7.000000</td>\n",
       "      <td>1.400000</td>\n",
       "      <td>94.767000</td>\n",
       "      <td>-26.900000</td>\n",
       "      <td>5.045000</td>\n",
       "      <td>5228.100000</td>\n",
       "    </tr>\n",
       "  </tbody>\n",
       "</table>\n",
       "</div>"
      ],
      "text/plain": [
       "               age      campaign         pdays      previous  emp.var.rate  \\\n",
       "count  41188.00000  41188.000000  41188.000000  41188.000000  41188.000000   \n",
       "mean      40.02406      2.567593    962.475454      0.172963      0.081886   \n",
       "std       10.42125      2.770014    186.910907      0.494901      1.570960   \n",
       "min       17.00000      1.000000      0.000000      0.000000     -3.400000   \n",
       "25%       32.00000      1.000000    999.000000      0.000000     -1.800000   \n",
       "50%       38.00000      2.000000    999.000000      0.000000      1.100000   \n",
       "75%       47.00000      3.000000    999.000000      0.000000      1.400000   \n",
       "max       98.00000     56.000000    999.000000      7.000000      1.400000   \n",
       "\n",
       "       cons.price.idx  cons.conf.idx     euribor3m   nr.employed  \n",
       "count    41188.000000   41188.000000  41188.000000  41188.000000  \n",
       "mean        93.575664     -40.502600      3.621291   5167.035911  \n",
       "std          0.578840       4.628198      1.734447     72.251528  \n",
       "min         92.201000     -50.800000      0.634000   4963.600000  \n",
       "25%         93.075000     -42.700000      1.344000   5099.100000  \n",
       "50%         93.749000     -41.800000      4.857000   5191.000000  \n",
       "75%         93.994000     -36.400000      4.961000   5228.100000  \n",
       "max         94.767000     -26.900000      5.045000   5228.100000  "
      ]
     },
     "execution_count": 7,
     "metadata": {},
     "output_type": "execute_result"
    }
   ],
   "source": [
    "df.describe()"
   ]
  },
  {
   "cell_type": "markdown",
   "id": "6a100a87",
   "metadata": {},
   "source": [
    "---\n",
    "**Membagi kolom sesuai tipe datanya**"
   ]
  },
  {
   "cell_type": "code",
   "execution_count": 8,
   "id": "5842578c",
   "metadata": {},
   "outputs": [
    {
     "data": {
      "text/plain": [
       "['age',\n",
       " 'campaign',\n",
       " 'pdays',\n",
       " 'previous',\n",
       " 'emp.var.rate',\n",
       " 'cons.price.idx',\n",
       " 'cons.conf.idx',\n",
       " 'euribor3m',\n",
       " 'nr.employed']"
      ]
     },
     "execution_count": 8,
     "metadata": {},
     "output_type": "execute_result"
    }
   ],
   "source": [
    "#Variabel Numerik\n",
    "numerical_columns = list(df.select_dtypes(include=['int64']).columns.values) + list(df.select_dtypes(include=['float64']).columns.values)\n",
    "numerical_columns"
   ]
  },
  {
   "cell_type": "code",
   "execution_count": 9,
   "id": "04d15ef6",
   "metadata": {},
   "outputs": [
    {
     "data": {
      "text/plain": [
       "['job',\n",
       " 'marital',\n",
       " 'education',\n",
       " 'default',\n",
       " 'housing',\n",
       " 'loan',\n",
       " 'contact',\n",
       " 'month',\n",
       " 'day_of_week',\n",
       " 'poutcome',\n",
       " 'y']"
      ]
     },
     "execution_count": 9,
     "metadata": {},
     "output_type": "execute_result"
    }
   ],
   "source": [
    "#Variabel Kategorik\n",
    "categorical_columns = list(df.select_dtypes(include=['object']))\n",
    "categorical_columns"
   ]
  },
  {
   "cell_type": "markdown",
   "id": "359681c7",
   "metadata": {},
   "source": [
    "---"
   ]
  },
  {
   "cell_type": "markdown",
   "id": "c1719e5c",
   "metadata": {},
   "source": [
    "# Data Cleaning"
   ]
  },
  {
   "cell_type": "markdown",
   "id": "79c1630b",
   "metadata": {},
   "source": [
    "## Missing Values"
   ]
  },
  {
   "cell_type": "markdown",
   "id": "a07e2d64",
   "metadata": {},
   "source": [
    "### Categorical"
   ]
  },
  {
   "cell_type": "markdown",
   "id": "68e8a251",
   "metadata": {},
   "source": [
    "**Melihat kolom kategorikal**"
   ]
  },
  {
   "cell_type": "code",
   "execution_count": 10,
   "id": "d27d7e21",
   "metadata": {},
   "outputs": [
    {
     "data": {
      "text/html": [
       "<div>\n",
       "<style scoped>\n",
       "    .dataframe tbody tr th:only-of-type {\n",
       "        vertical-align: middle;\n",
       "    }\n",
       "\n",
       "    .dataframe tbody tr th {\n",
       "        vertical-align: top;\n",
       "    }\n",
       "\n",
       "    .dataframe thead th {\n",
       "        text-align: right;\n",
       "    }\n",
       "</style>\n",
       "<table border=\"1\" class=\"dataframe\">\n",
       "  <thead>\n",
       "    <tr style=\"text-align: right;\">\n",
       "      <th></th>\n",
       "      <th>job</th>\n",
       "      <th>marital</th>\n",
       "      <th>education</th>\n",
       "      <th>default</th>\n",
       "      <th>housing</th>\n",
       "      <th>loan</th>\n",
       "      <th>contact</th>\n",
       "      <th>month</th>\n",
       "      <th>day_of_week</th>\n",
       "      <th>poutcome</th>\n",
       "      <th>y</th>\n",
       "    </tr>\n",
       "  </thead>\n",
       "  <tbody>\n",
       "    <tr>\n",
       "      <th>0</th>\n",
       "      <td>housemaid</td>\n",
       "      <td>married</td>\n",
       "      <td>basic.4y</td>\n",
       "      <td>no</td>\n",
       "      <td>no</td>\n",
       "      <td>no</td>\n",
       "      <td>telephone</td>\n",
       "      <td>may</td>\n",
       "      <td>mon</td>\n",
       "      <td>nonexistent</td>\n",
       "      <td>no</td>\n",
       "    </tr>\n",
       "    <tr>\n",
       "      <th>1</th>\n",
       "      <td>services</td>\n",
       "      <td>married</td>\n",
       "      <td>high.school</td>\n",
       "      <td>unknown</td>\n",
       "      <td>no</td>\n",
       "      <td>no</td>\n",
       "      <td>telephone</td>\n",
       "      <td>may</td>\n",
       "      <td>mon</td>\n",
       "      <td>nonexistent</td>\n",
       "      <td>no</td>\n",
       "    </tr>\n",
       "    <tr>\n",
       "      <th>2</th>\n",
       "      <td>services</td>\n",
       "      <td>married</td>\n",
       "      <td>high.school</td>\n",
       "      <td>no</td>\n",
       "      <td>yes</td>\n",
       "      <td>no</td>\n",
       "      <td>telephone</td>\n",
       "      <td>may</td>\n",
       "      <td>mon</td>\n",
       "      <td>nonexistent</td>\n",
       "      <td>no</td>\n",
       "    </tr>\n",
       "    <tr>\n",
       "      <th>3</th>\n",
       "      <td>admin.</td>\n",
       "      <td>married</td>\n",
       "      <td>basic.6y</td>\n",
       "      <td>no</td>\n",
       "      <td>no</td>\n",
       "      <td>no</td>\n",
       "      <td>telephone</td>\n",
       "      <td>may</td>\n",
       "      <td>mon</td>\n",
       "      <td>nonexistent</td>\n",
       "      <td>no</td>\n",
       "    </tr>\n",
       "    <tr>\n",
       "      <th>4</th>\n",
       "      <td>services</td>\n",
       "      <td>married</td>\n",
       "      <td>high.school</td>\n",
       "      <td>no</td>\n",
       "      <td>no</td>\n",
       "      <td>yes</td>\n",
       "      <td>telephone</td>\n",
       "      <td>may</td>\n",
       "      <td>mon</td>\n",
       "      <td>nonexistent</td>\n",
       "      <td>no</td>\n",
       "    </tr>\n",
       "  </tbody>\n",
       "</table>\n",
       "</div>"
      ],
      "text/plain": [
       "         job  marital    education  default housing loan    contact month  \\\n",
       "0  housemaid  married     basic.4y       no      no   no  telephone   may   \n",
       "1   services  married  high.school  unknown      no   no  telephone   may   \n",
       "2   services  married  high.school       no     yes   no  telephone   may   \n",
       "3     admin.  married     basic.6y       no      no   no  telephone   may   \n",
       "4   services  married  high.school       no      no  yes  telephone   may   \n",
       "\n",
       "  day_of_week     poutcome   y  \n",
       "0         mon  nonexistent  no  \n",
       "1         mon  nonexistent  no  \n",
       "2         mon  nonexistent  no  \n",
       "3         mon  nonexistent  no  \n",
       "4         mon  nonexistent  no  "
      ]
     },
     "execution_count": 10,
     "metadata": {},
     "output_type": "execute_result"
    }
   ],
   "source": [
    "df[categorical_columns].head()"
   ]
  },
  {
   "cell_type": "markdown",
   "id": "be921d65",
   "metadata": {},
   "source": [
    "**Mengetahui nilai unik pada categorical columns**"
   ]
  },
  {
   "cell_type": "code",
   "execution_count": 11,
   "id": "e05611e3",
   "metadata": {
    "scrolled": true
   },
   "outputs": [
    {
     "name": "stdout",
     "output_type": "stream",
     "text": [
      "Unique Values for:  JOB\n",
      "Count:  12\n",
      "-------------------------\n",
      "['housemaid' 'services' 'admin.' 'blue-collar' 'technician' 'retired'\n",
      " 'management' 'unemployed' 'self-employed' 'unknown' 'entrepreneur'\n",
      " 'student']\n",
      "==================================================\n",
      "Unique Values for:  MARITAL\n",
      "Count:  4\n",
      "-------------------------\n",
      "['married' 'single' 'divorced' 'unknown']\n",
      "==================================================\n",
      "Unique Values for:  EDUCATION\n",
      "Count:  8\n",
      "-------------------------\n",
      "['basic.4y' 'high.school' 'basic.6y' 'basic.9y' 'professional.course'\n",
      " 'unknown' 'university.degree' 'illiterate']\n",
      "==================================================\n",
      "Unique Values for:  DEFAULT\n",
      "Count:  3\n",
      "-------------------------\n",
      "['no' 'unknown' 'yes']\n",
      "==================================================\n",
      "Unique Values for:  HOUSING\n",
      "Count:  3\n",
      "-------------------------\n",
      "['no' 'yes' 'unknown']\n",
      "==================================================\n",
      "Unique Values for:  LOAN\n",
      "Count:  3\n",
      "-------------------------\n",
      "['no' 'yes' 'unknown']\n",
      "==================================================\n",
      "Unique Values for:  CONTACT\n",
      "Count:  2\n",
      "-------------------------\n",
      "['telephone' 'cellular']\n",
      "==================================================\n",
      "Unique Values for:  MONTH\n",
      "Count:  10\n",
      "-------------------------\n",
      "['may' 'jun' 'jul' 'aug' 'oct' 'nov' 'dec' 'mar' 'apr' 'sep']\n",
      "==================================================\n",
      "Unique Values for:  DAY_OF_WEEK\n",
      "Count:  5\n",
      "-------------------------\n",
      "['mon' 'tue' 'wed' 'thu' 'fri']\n",
      "==================================================\n",
      "Unique Values for:  POUTCOME\n",
      "Count:  3\n",
      "-------------------------\n",
      "['nonexistent' 'failure' 'success']\n",
      "==================================================\n",
      "Unique Values for:  Y\n",
      "Count:  2\n",
      "-------------------------\n",
      "['no' 'yes']\n",
      "==================================================\n"
     ]
    }
   ],
   "source": [
    "for cat_col in categorical_columns:\n",
    "    print(\"Unique Values for: \", cat_col.upper())\n",
    "    print(\"Count: \", df[cat_col].nunique())\n",
    "    print(\"-\"*25)\n",
    "    print(df[cat_col].unique())\n",
    "    print('='*50)"
   ]
  },
  {
   "cell_type": "markdown",
   "id": "971d3ddb",
   "metadata": {},
   "source": [
    "---\n",
    "Terdapat value pada beberapa kolom yakni berupa 'unknown' yang merupakan label missing value pada dataset ini. Akan dilakukan perubahan label 'Unknown' menjadi nan untuk menandai adanya unstandard missing values."
   ]
  },
  {
   "cell_type": "markdown",
   "id": "8c3a3f8c",
   "metadata": {},
   "source": [
    "**Mengetahui jumlah \"Unknown\" pada setiap kolom**"
   ]
  },
  {
   "cell_type": "code",
   "execution_count": 12,
   "id": "c65f0c66",
   "metadata": {},
   "outputs": [
    {
     "data": {
      "text/plain": [
       "default           8597\n",
       "education         1731\n",
       "housing            990\n",
       "loan               990\n",
       "job                330\n",
       "marital             80\n",
       "age                  0\n",
       "poutcome             0\n",
       "nr.employed          0\n",
       "euribor3m            0\n",
       "cons.conf.idx        0\n",
       "cons.price.idx       0\n",
       "emp.var.rate         0\n",
       "campaign             0\n",
       "previous             0\n",
       "pdays                0\n",
       "day_of_week          0\n",
       "month                0\n",
       "contact              0\n",
       "y                    0\n",
       "dtype: int64"
      ]
     },
     "execution_count": 12,
     "metadata": {},
     "output_type": "execute_result"
    }
   ],
   "source": [
    "df[df[categorical_columns]=='unknown'].count().sort_values(ascending=False)"
   ]
  },
  {
   "cell_type": "markdown",
   "id": "d7a98499",
   "metadata": {},
   "source": [
    "**Mengganti \"Unknown\" dengan nan**"
   ]
  },
  {
   "cell_type": "code",
   "execution_count": 13,
   "id": "c7b2d884",
   "metadata": {},
   "outputs": [],
   "source": [
    "df[df[categorical_columns]==\"unknown\"] = np.nan"
   ]
  },
  {
   "cell_type": "markdown",
   "id": "12a7a7e7",
   "metadata": {},
   "source": [
    "---\n",
    "**Melihat apakah \"Unknown\" sudah terganti**"
   ]
  },
  {
   "cell_type": "markdown",
   "id": "b324de5c",
   "metadata": {},
   "source": [
    "- Melihat count pada setiap kolom"
   ]
  },
  {
   "cell_type": "code",
   "execution_count": 14,
   "id": "77c891b6",
   "metadata": {},
   "outputs": [
    {
     "data": {
      "text/plain": [
       "age               0\n",
       "job               0\n",
       "nr.employed       0\n",
       "euribor3m         0\n",
       "cons.conf.idx     0\n",
       "cons.price.idx    0\n",
       "emp.var.rate      0\n",
       "poutcome          0\n",
       "previous          0\n",
       "pdays             0\n",
       "campaign          0\n",
       "day_of_week       0\n",
       "month             0\n",
       "contact           0\n",
       "loan              0\n",
       "housing           0\n",
       "default           0\n",
       "education         0\n",
       "marital           0\n",
       "y                 0\n",
       "dtype: int64"
      ]
     },
     "execution_count": 14,
     "metadata": {},
     "output_type": "execute_result"
    }
   ],
   "source": [
    "df[df[categorical_columns]=='unknown'].count().sort_values(ascending=False)"
   ]
  },
  {
   "cell_type": "markdown",
   "id": "884a8de8",
   "metadata": {},
   "source": [
    "- Melihat unique value setelah \"Unknown\" diganti"
   ]
  },
  {
   "cell_type": "code",
   "execution_count": 15,
   "id": "1f6ae7d5",
   "metadata": {},
   "outputs": [
    {
     "name": "stdout",
     "output_type": "stream",
     "text": [
      "Unique Values for:  JOB\n",
      "Count:  11\n",
      "-------------------------\n",
      "['housemaid' 'services' 'admin.' 'blue-collar' 'technician' 'retired'\n",
      " 'management' 'unemployed' 'self-employed' nan 'entrepreneur' 'student']\n",
      "==================================================\n",
      "Unique Values for:  MARITAL\n",
      "Count:  3\n",
      "-------------------------\n",
      "['married' 'single' 'divorced' nan]\n",
      "==================================================\n",
      "Unique Values for:  EDUCATION\n",
      "Count:  7\n",
      "-------------------------\n",
      "['basic.4y' 'high.school' 'basic.6y' 'basic.9y' 'professional.course' nan\n",
      " 'university.degree' 'illiterate']\n",
      "==================================================\n",
      "Unique Values for:  DEFAULT\n",
      "Count:  2\n",
      "-------------------------\n",
      "['no' nan 'yes']\n",
      "==================================================\n",
      "Unique Values for:  HOUSING\n",
      "Count:  2\n",
      "-------------------------\n",
      "['no' 'yes' nan]\n",
      "==================================================\n",
      "Unique Values for:  LOAN\n",
      "Count:  2\n",
      "-------------------------\n",
      "['no' 'yes' nan]\n",
      "==================================================\n",
      "Unique Values for:  CONTACT\n",
      "Count:  2\n",
      "-------------------------\n",
      "['telephone' 'cellular']\n",
      "==================================================\n",
      "Unique Values for:  MONTH\n",
      "Count:  10\n",
      "-------------------------\n",
      "['may' 'jun' 'jul' 'aug' 'oct' 'nov' 'dec' 'mar' 'apr' 'sep']\n",
      "==================================================\n",
      "Unique Values for:  DAY_OF_WEEK\n",
      "Count:  5\n",
      "-------------------------\n",
      "['mon' 'tue' 'wed' 'thu' 'fri']\n",
      "==================================================\n",
      "Unique Values for:  POUTCOME\n",
      "Count:  3\n",
      "-------------------------\n",
      "['nonexistent' 'failure' 'success']\n",
      "==================================================\n",
      "Unique Values for:  Y\n",
      "Count:  2\n",
      "-------------------------\n",
      "['no' 'yes']\n",
      "==================================================\n"
     ]
    }
   ],
   "source": [
    "for cat_col in categorical_columns:\n",
    "    print(\"Unique Values for: \", cat_col.upper())\n",
    "    print(\"Count: \", df[cat_col].nunique())\n",
    "    print(\"-\"*25)\n",
    "    print(df[cat_col].unique())\n",
    "    print('='*50)"
   ]
  },
  {
   "cell_type": "markdown",
   "id": "62505751",
   "metadata": {},
   "source": [
    "- Melihat kolom kategorikal setelah \"Unknown\" diganti"
   ]
  },
  {
   "cell_type": "code",
   "execution_count": 16,
   "id": "f1b9c0b5",
   "metadata": {
    "scrolled": true
   },
   "outputs": [
    {
     "data": {
      "text/html": [
       "<div>\n",
       "<style scoped>\n",
       "    .dataframe tbody tr th:only-of-type {\n",
       "        vertical-align: middle;\n",
       "    }\n",
       "\n",
       "    .dataframe tbody tr th {\n",
       "        vertical-align: top;\n",
       "    }\n",
       "\n",
       "    .dataframe thead th {\n",
       "        text-align: right;\n",
       "    }\n",
       "</style>\n",
       "<table border=\"1\" class=\"dataframe\">\n",
       "  <thead>\n",
       "    <tr style=\"text-align: right;\">\n",
       "      <th></th>\n",
       "      <th>job</th>\n",
       "      <th>marital</th>\n",
       "      <th>education</th>\n",
       "      <th>default</th>\n",
       "      <th>housing</th>\n",
       "      <th>loan</th>\n",
       "      <th>contact</th>\n",
       "      <th>month</th>\n",
       "      <th>day_of_week</th>\n",
       "      <th>poutcome</th>\n",
       "      <th>y</th>\n",
       "    </tr>\n",
       "  </thead>\n",
       "  <tbody>\n",
       "    <tr>\n",
       "      <th>0</th>\n",
       "      <td>housemaid</td>\n",
       "      <td>married</td>\n",
       "      <td>basic.4y</td>\n",
       "      <td>no</td>\n",
       "      <td>no</td>\n",
       "      <td>no</td>\n",
       "      <td>telephone</td>\n",
       "      <td>may</td>\n",
       "      <td>mon</td>\n",
       "      <td>nonexistent</td>\n",
       "      <td>no</td>\n",
       "    </tr>\n",
       "    <tr>\n",
       "      <th>1</th>\n",
       "      <td>services</td>\n",
       "      <td>married</td>\n",
       "      <td>high.school</td>\n",
       "      <td>NaN</td>\n",
       "      <td>no</td>\n",
       "      <td>no</td>\n",
       "      <td>telephone</td>\n",
       "      <td>may</td>\n",
       "      <td>mon</td>\n",
       "      <td>nonexistent</td>\n",
       "      <td>no</td>\n",
       "    </tr>\n",
       "    <tr>\n",
       "      <th>2</th>\n",
       "      <td>services</td>\n",
       "      <td>married</td>\n",
       "      <td>high.school</td>\n",
       "      <td>no</td>\n",
       "      <td>yes</td>\n",
       "      <td>no</td>\n",
       "      <td>telephone</td>\n",
       "      <td>may</td>\n",
       "      <td>mon</td>\n",
       "      <td>nonexistent</td>\n",
       "      <td>no</td>\n",
       "    </tr>\n",
       "    <tr>\n",
       "      <th>3</th>\n",
       "      <td>admin.</td>\n",
       "      <td>married</td>\n",
       "      <td>basic.6y</td>\n",
       "      <td>no</td>\n",
       "      <td>no</td>\n",
       "      <td>no</td>\n",
       "      <td>telephone</td>\n",
       "      <td>may</td>\n",
       "      <td>mon</td>\n",
       "      <td>nonexistent</td>\n",
       "      <td>no</td>\n",
       "    </tr>\n",
       "    <tr>\n",
       "      <th>4</th>\n",
       "      <td>services</td>\n",
       "      <td>married</td>\n",
       "      <td>high.school</td>\n",
       "      <td>no</td>\n",
       "      <td>no</td>\n",
       "      <td>yes</td>\n",
       "      <td>telephone</td>\n",
       "      <td>may</td>\n",
       "      <td>mon</td>\n",
       "      <td>nonexistent</td>\n",
       "      <td>no</td>\n",
       "    </tr>\n",
       "  </tbody>\n",
       "</table>\n",
       "</div>"
      ],
      "text/plain": [
       "         job  marital    education default housing loan    contact month  \\\n",
       "0  housemaid  married     basic.4y      no      no   no  telephone   may   \n",
       "1   services  married  high.school     NaN      no   no  telephone   may   \n",
       "2   services  married  high.school      no     yes   no  telephone   may   \n",
       "3     admin.  married     basic.6y      no      no   no  telephone   may   \n",
       "4   services  married  high.school      no      no  yes  telephone   may   \n",
       "\n",
       "  day_of_week     poutcome   y  \n",
       "0         mon  nonexistent  no  \n",
       "1         mon  nonexistent  no  \n",
       "2         mon  nonexistent  no  \n",
       "3         mon  nonexistent  no  \n",
       "4         mon  nonexistent  no  "
      ]
     },
     "execution_count": 16,
     "metadata": {},
     "output_type": "execute_result"
    }
   ],
   "source": [
    "df[categorical_columns].head()"
   ]
  },
  {
   "cell_type": "markdown",
   "id": "1fdbac1d",
   "metadata": {},
   "source": [
    "**Mengetahui jumlah nan missing values pada kolom kategorik**"
   ]
  },
  {
   "cell_type": "code",
   "execution_count": 17,
   "id": "d525716e",
   "metadata": {},
   "outputs": [
    {
     "data": {
      "text/plain": [
       "job             330\n",
       "marital          80\n",
       "education      1731\n",
       "default        8597\n",
       "housing         990\n",
       "loan            990\n",
       "contact           0\n",
       "month             0\n",
       "day_of_week       0\n",
       "poutcome          0\n",
       "y                 0\n",
       "dtype: int64"
      ]
     },
     "execution_count": 17,
     "metadata": {},
     "output_type": "execute_result"
    }
   ],
   "source": [
    "df[categorical_columns].isnull().sum()"
   ]
  },
  {
   "cell_type": "markdown",
   "id": "f7075680",
   "metadata": {},
   "source": [
    "### Numerical"
   ]
  },
  {
   "cell_type": "markdown",
   "id": "7202316c",
   "metadata": {},
   "source": [
    "**Melihat kolom numerikal**"
   ]
  },
  {
   "cell_type": "code",
   "execution_count": 18,
   "id": "25a1f711",
   "metadata": {},
   "outputs": [
    {
     "data": {
      "text/html": [
       "<div>\n",
       "<style scoped>\n",
       "    .dataframe tbody tr th:only-of-type {\n",
       "        vertical-align: middle;\n",
       "    }\n",
       "\n",
       "    .dataframe tbody tr th {\n",
       "        vertical-align: top;\n",
       "    }\n",
       "\n",
       "    .dataframe thead th {\n",
       "        text-align: right;\n",
       "    }\n",
       "</style>\n",
       "<table border=\"1\" class=\"dataframe\">\n",
       "  <thead>\n",
       "    <tr style=\"text-align: right;\">\n",
       "      <th></th>\n",
       "      <th>age</th>\n",
       "      <th>campaign</th>\n",
       "      <th>pdays</th>\n",
       "      <th>previous</th>\n",
       "      <th>emp.var.rate</th>\n",
       "      <th>cons.price.idx</th>\n",
       "      <th>cons.conf.idx</th>\n",
       "      <th>euribor3m</th>\n",
       "      <th>nr.employed</th>\n",
       "    </tr>\n",
       "  </thead>\n",
       "  <tbody>\n",
       "    <tr>\n",
       "      <th>0</th>\n",
       "      <td>56</td>\n",
       "      <td>1</td>\n",
       "      <td>999</td>\n",
       "      <td>0</td>\n",
       "      <td>1.1</td>\n",
       "      <td>93.994</td>\n",
       "      <td>-36.4</td>\n",
       "      <td>4.857</td>\n",
       "      <td>5191.0</td>\n",
       "    </tr>\n",
       "    <tr>\n",
       "      <th>1</th>\n",
       "      <td>57</td>\n",
       "      <td>1</td>\n",
       "      <td>999</td>\n",
       "      <td>0</td>\n",
       "      <td>1.1</td>\n",
       "      <td>93.994</td>\n",
       "      <td>-36.4</td>\n",
       "      <td>4.857</td>\n",
       "      <td>5191.0</td>\n",
       "    </tr>\n",
       "    <tr>\n",
       "      <th>2</th>\n",
       "      <td>37</td>\n",
       "      <td>1</td>\n",
       "      <td>999</td>\n",
       "      <td>0</td>\n",
       "      <td>1.1</td>\n",
       "      <td>93.994</td>\n",
       "      <td>-36.4</td>\n",
       "      <td>4.857</td>\n",
       "      <td>5191.0</td>\n",
       "    </tr>\n",
       "    <tr>\n",
       "      <th>3</th>\n",
       "      <td>40</td>\n",
       "      <td>1</td>\n",
       "      <td>999</td>\n",
       "      <td>0</td>\n",
       "      <td>1.1</td>\n",
       "      <td>93.994</td>\n",
       "      <td>-36.4</td>\n",
       "      <td>4.857</td>\n",
       "      <td>5191.0</td>\n",
       "    </tr>\n",
       "    <tr>\n",
       "      <th>4</th>\n",
       "      <td>56</td>\n",
       "      <td>1</td>\n",
       "      <td>999</td>\n",
       "      <td>0</td>\n",
       "      <td>1.1</td>\n",
       "      <td>93.994</td>\n",
       "      <td>-36.4</td>\n",
       "      <td>4.857</td>\n",
       "      <td>5191.0</td>\n",
       "    </tr>\n",
       "  </tbody>\n",
       "</table>\n",
       "</div>"
      ],
      "text/plain": [
       "   age  campaign  pdays  previous  emp.var.rate  cons.price.idx  \\\n",
       "0   56         1    999         0           1.1          93.994   \n",
       "1   57         1    999         0           1.1          93.994   \n",
       "2   37         1    999         0           1.1          93.994   \n",
       "3   40         1    999         0           1.1          93.994   \n",
       "4   56         1    999         0           1.1          93.994   \n",
       "\n",
       "   cons.conf.idx  euribor3m  nr.employed  \n",
       "0          -36.4      4.857       5191.0  \n",
       "1          -36.4      4.857       5191.0  \n",
       "2          -36.4      4.857       5191.0  \n",
       "3          -36.4      4.857       5191.0  \n",
       "4          -36.4      4.857       5191.0  "
      ]
     },
     "execution_count": 18,
     "metadata": {},
     "output_type": "execute_result"
    }
   ],
   "source": [
    "df[numerical_columns].head()"
   ]
  },
  {
   "cell_type": "code",
   "execution_count": 19,
   "id": "6edcf9ec",
   "metadata": {},
   "outputs": [
    {
     "data": {
      "text/html": [
       "<div>\n",
       "<style scoped>\n",
       "    .dataframe tbody tr th:only-of-type {\n",
       "        vertical-align: middle;\n",
       "    }\n",
       "\n",
       "    .dataframe tbody tr th {\n",
       "        vertical-align: top;\n",
       "    }\n",
       "\n",
       "    .dataframe thead th {\n",
       "        text-align: right;\n",
       "    }\n",
       "</style>\n",
       "<table border=\"1\" class=\"dataframe\">\n",
       "  <thead>\n",
       "    <tr style=\"text-align: right;\">\n",
       "      <th></th>\n",
       "      <th>age</th>\n",
       "      <th>campaign</th>\n",
       "      <th>pdays</th>\n",
       "      <th>previous</th>\n",
       "      <th>emp.var.rate</th>\n",
       "      <th>cons.price.idx</th>\n",
       "      <th>cons.conf.idx</th>\n",
       "      <th>euribor3m</th>\n",
       "      <th>nr.employed</th>\n",
       "    </tr>\n",
       "  </thead>\n",
       "  <tbody>\n",
       "    <tr>\n",
       "      <th>0</th>\n",
       "      <td>56</td>\n",
       "      <td>1</td>\n",
       "      <td>999</td>\n",
       "      <td>0</td>\n",
       "      <td>1.1</td>\n",
       "      <td>93.994</td>\n",
       "      <td>-36.4</td>\n",
       "      <td>4.857</td>\n",
       "      <td>5191.0</td>\n",
       "    </tr>\n",
       "    <tr>\n",
       "      <th>1</th>\n",
       "      <td>57</td>\n",
       "      <td>1</td>\n",
       "      <td>999</td>\n",
       "      <td>0</td>\n",
       "      <td>1.1</td>\n",
       "      <td>93.994</td>\n",
       "      <td>-36.4</td>\n",
       "      <td>4.857</td>\n",
       "      <td>5191.0</td>\n",
       "    </tr>\n",
       "    <tr>\n",
       "      <th>2</th>\n",
       "      <td>37</td>\n",
       "      <td>1</td>\n",
       "      <td>999</td>\n",
       "      <td>0</td>\n",
       "      <td>1.1</td>\n",
       "      <td>93.994</td>\n",
       "      <td>-36.4</td>\n",
       "      <td>4.857</td>\n",
       "      <td>5191.0</td>\n",
       "    </tr>\n",
       "    <tr>\n",
       "      <th>3</th>\n",
       "      <td>40</td>\n",
       "      <td>1</td>\n",
       "      <td>999</td>\n",
       "      <td>0</td>\n",
       "      <td>1.1</td>\n",
       "      <td>93.994</td>\n",
       "      <td>-36.4</td>\n",
       "      <td>4.857</td>\n",
       "      <td>5191.0</td>\n",
       "    </tr>\n",
       "    <tr>\n",
       "      <th>4</th>\n",
       "      <td>56</td>\n",
       "      <td>1</td>\n",
       "      <td>999</td>\n",
       "      <td>0</td>\n",
       "      <td>1.1</td>\n",
       "      <td>93.994</td>\n",
       "      <td>-36.4</td>\n",
       "      <td>4.857</td>\n",
       "      <td>5191.0</td>\n",
       "    </tr>\n",
       "  </tbody>\n",
       "</table>\n",
       "</div>"
      ],
      "text/plain": [
       "   age  campaign  pdays  previous  emp.var.rate  cons.price.idx  \\\n",
       "0   56         1    999         0           1.1          93.994   \n",
       "1   57         1    999         0           1.1          93.994   \n",
       "2   37         1    999         0           1.1          93.994   \n",
       "3   40         1    999         0           1.1          93.994   \n",
       "4   56         1    999         0           1.1          93.994   \n",
       "\n",
       "   cons.conf.idx  euribor3m  nr.employed  \n",
       "0          -36.4      4.857       5191.0  \n",
       "1          -36.4      4.857       5191.0  \n",
       "2          -36.4      4.857       5191.0  \n",
       "3          -36.4      4.857       5191.0  \n",
       "4          -36.4      4.857       5191.0  "
      ]
     },
     "execution_count": 19,
     "metadata": {},
     "output_type": "execute_result"
    }
   ],
   "source": [
    "df[numerical_columns].head()"
   ]
  },
  {
   "cell_type": "markdown",
   "id": "9a198953",
   "metadata": {},
   "source": [
    "**Mengetahui nilai unik pada numerical columns**"
   ]
  },
  {
   "cell_type": "code",
   "execution_count": 20,
   "id": "12d68086",
   "metadata": {
    "scrolled": false
   },
   "outputs": [
    {
     "name": "stdout",
     "output_type": "stream",
     "text": [
      "Unique Values for:  AGE\n",
      "Count:  78\n",
      "-------------------------\n",
      "[56 57 37 40 45 59 41 24 25 29 35 54 46 50 39 30 55 49 34 52 58 32 38 44\n",
      " 42 60 53 47 51 48 33 31 43 36 28 27 26 22 23 20 21 61 19 18 70 66 76 67\n",
      " 73 88 95 77 68 75 63 80 62 65 72 82 64 71 69 78 85 79 83 81 74 17 87 91\n",
      " 86 98 94 84 92 89]\n",
      "==================================================\n",
      "Unique Values for:  CAMPAIGN\n",
      "Count:  42\n",
      "-------------------------\n",
      "[ 1  2  3  4  5  6  7  8  9 10 11 12 13 19 18 23 14 22 25 16 17 15 20 56\n",
      " 39 35 42 28 26 27 32 21 24 29 31 30 41 37 40 33 34 43]\n",
      "==================================================\n",
      "Unique Values for:  PDAYS\n",
      "Count:  27\n",
      "-------------------------\n",
      "[999   6   4   3   5   1   0  10   7   8   9  11   2  12  13  14  15  16\n",
      "  21  17  18  22  25  26  19  27  20]\n",
      "==================================================\n",
      "Unique Values for:  PREVIOUS\n",
      "Count:  8\n",
      "-------------------------\n",
      "[0 1 2 3 4 5 6 7]\n",
      "==================================================\n",
      "Unique Values for:  EMP.VAR.RATE\n",
      "Count:  10\n",
      "-------------------------\n",
      "[ 1.1  1.4 -0.1 -0.2 -1.8 -2.9 -3.4 -3.  -1.7 -1.1]\n",
      "==================================================\n",
      "Unique Values for:  CONS.PRICE.IDX\n",
      "Count:  26\n",
      "-------------------------\n",
      "[93.994 94.465 93.918 93.444 93.798 93.2   92.756 92.843 93.075 92.893\n",
      " 92.963 92.469 92.201 92.379 92.431 92.649 92.713 93.369 93.749 93.876\n",
      " 94.055 94.215 94.027 94.199 94.601 94.767]\n",
      "==================================================\n",
      "Unique Values for:  CONS.CONF.IDX\n",
      "Count:  26\n",
      "-------------------------\n",
      "[-36.4 -41.8 -42.7 -36.1 -40.4 -42.  -45.9 -50.  -47.1 -46.2 -40.8 -33.6\n",
      " -31.4 -29.8 -26.9 -30.1 -33.  -34.8 -34.6 -40.  -39.8 -40.3 -38.3 -37.5\n",
      " -49.5 -50.8]\n",
      "==================================================\n",
      "Unique Values for:  EURIBOR3M\n",
      "Count:  316\n",
      "-------------------------\n",
      "[4.857 4.856 4.855 4.859 4.86  4.858 4.864 4.865 4.866 4.967 4.961 4.959\n",
      " 4.958 4.96  4.962 4.955 4.947 4.956 4.966 4.963 4.957 4.968 4.97  4.965\n",
      " 4.964 5.045 5.    4.936 4.921 4.918 4.912 4.827 4.794 4.76  4.733 4.7\n",
      " 4.663 4.592 4.474 4.406 4.343 4.286 4.245 4.223 4.191 4.153 4.12  4.076\n",
      " 4.021 3.901 3.879 3.853 3.816 3.743 3.669 3.563 3.488 3.428 3.329 3.282\n",
      " 3.053 1.811 1.799 1.778 1.757 1.726 1.703 1.687 1.663 1.65  1.64  1.629\n",
      " 1.614 1.602 1.584 1.574 1.56  1.556 1.548 1.538 1.531 1.52  1.51  1.498\n",
      " 1.483 1.479 1.466 1.453 1.445 1.435 1.423 1.415 1.41  1.405 1.406 1.4\n",
      " 1.392 1.384 1.372 1.365 1.354 1.344 1.334 1.327 1.313 1.299 1.291 1.281\n",
      " 1.266 1.25  1.244 1.259 1.264 1.27  1.262 1.26  1.268 1.286 1.252 1.235\n",
      " 1.224 1.215 1.206 1.099 1.085 1.072 1.059 1.048 1.044 1.029 1.018 1.007\n",
      " 0.996 0.979 0.969 0.944 0.937 0.933 0.927 0.921 0.914 0.908 0.903 0.899\n",
      " 0.884 0.883 0.881 0.879 0.873 0.869 0.861 0.859 0.854 0.851 0.849 0.843\n",
      " 0.838 0.834 0.829 0.825 0.821 0.819 0.813 0.809 0.803 0.797 0.788 0.781\n",
      " 0.778 0.773 0.771 0.77  0.768 0.766 0.762 0.755 0.749 0.743 0.741 0.739\n",
      " 0.75  0.753 0.754 0.752 0.744 0.74  0.742 0.737 0.735 0.733 0.73  0.731\n",
      " 0.728 0.724 0.722 0.72  0.719 0.716 0.715 0.714 0.718 0.721 0.717 0.712\n",
      " 0.71  0.709 0.708 0.706 0.707 0.7   0.655 0.654 0.653 0.652 0.651 0.65\n",
      " 0.649 0.646 0.644 0.643 0.639 0.637 0.635 0.636 0.634 0.638 0.64  0.642\n",
      " 0.645 0.659 0.663 0.668 0.672 0.677 0.682 0.683 0.684 0.685 0.688 0.69\n",
      " 0.692 0.695 0.697 0.699 0.701 0.702 0.704 0.711 0.713 0.723 0.727 0.729\n",
      " 0.732 0.748 0.761 0.767 0.782 0.79  0.793 0.802 0.81  0.822 0.827 0.835\n",
      " 0.84  0.846 0.87  0.876 0.885 0.889 0.893 0.896 0.898 0.9   0.904 0.905\n",
      " 0.895 0.894 0.891 0.89  0.888 0.886 0.882 0.88  0.878 0.877 0.942 0.953\n",
      " 0.956 0.959 0.965 0.972 0.977 0.982 0.985 0.987 0.993 1.    1.008 1.016\n",
      " 1.025 1.032 1.037 1.043 1.045 1.047 1.05  1.049 1.046 1.041 1.04  1.039\n",
      " 1.035 1.03  1.031 1.028]\n",
      "==================================================\n",
      "Unique Values for:  NR.EMPLOYED\n",
      "Count:  11\n",
      "-------------------------\n",
      "[5191.  5228.1 5195.8 5176.3 5099.1 5076.2 5017.5 5023.5 5008.7 4991.6\n",
      " 4963.6]\n",
      "==================================================\n"
     ]
    }
   ],
   "source": [
    "for num_col in numerical_columns:\n",
    "    print(\"Unique Values for: \", num_col.upper())\n",
    "    print(\"Count: \", df[num_col].nunique())\n",
    "    print(\"-\"*25)\n",
    "    print(df[num_col].unique())\n",
    "    print('='*50)"
   ]
  },
  {
   "cell_type": "markdown",
   "id": "279a220f",
   "metadata": {},
   "source": [
    "**Mengetahui jumlah missing values pada kolom numerik**"
   ]
  },
  {
   "cell_type": "code",
   "execution_count": 21,
   "id": "3187401f",
   "metadata": {},
   "outputs": [
    {
     "data": {
      "text/plain": [
       "age               0\n",
       "campaign          0\n",
       "pdays             0\n",
       "previous          0\n",
       "emp.var.rate      0\n",
       "cons.price.idx    0\n",
       "cons.conf.idx     0\n",
       "euribor3m         0\n",
       "nr.employed       0\n",
       "dtype: int64"
      ]
     },
     "execution_count": 21,
     "metadata": {},
     "output_type": "execute_result"
    }
   ],
   "source": [
    "df[numerical_columns].isnull().sum()"
   ]
  },
  {
   "cell_type": "markdown",
   "id": "d7723aa3",
   "metadata": {},
   "source": [
    "## Handling Missing Values"
   ]
  },
  {
   "cell_type": "markdown",
   "id": "e2eef7ef",
   "metadata": {},
   "source": [
    "**Melihat kembali jumlah missing values pada dataset**"
   ]
  },
  {
   "cell_type": "code",
   "execution_count": 22,
   "id": "2e89ac19",
   "metadata": {},
   "outputs": [
    {
     "name": "stdout",
     "output_type": "stream",
     "text": [
      "Jumlah missing values (Kategorik) =  12718\n",
      "Jumlah missing values (Numerik) =  0\n"
     ]
    }
   ],
   "source": [
    "print(\"Jumlah missing values (Kategorik) = \",df[categorical_columns].isnull().sum().sum())\n",
    "print(\"Jumlah missing values (Numerik) = \",df[numerical_columns].isnull().sum().sum())"
   ]
  },
  {
   "cell_type": "markdown",
   "id": "c371bff2",
   "metadata": {},
   "source": [
    "Missing value hanya ada pada variabel kategorik, sehingga akan dilakukan penanganan missing values pada variabel kategorik dengan mengisi data tersebut dengan nilai modusnya."
   ]
  },
  {
   "cell_type": "markdown",
   "id": "f6bb4e3f",
   "metadata": {},
   "source": [
    "**Memisahkan data kategorik & numerik**"
   ]
  },
  {
   "cell_type": "code",
   "execution_count": 23,
   "id": "785a8c6e",
   "metadata": {},
   "outputs": [],
   "source": [
    "# categorical data\n",
    "df_categorical = df[categorical_columns]\n",
    "\n",
    "# numerical data\n",
    "df_numerical = df[numerical_columns]"
   ]
  },
  {
   "cell_type": "markdown",
   "id": "ae0ad0fc",
   "metadata": {},
   "source": [
    "---\n",
    "**Melakukan instansiasi kelas Imputer untuk mengisi nilai missing value pada data kategorikal**"
   ]
  },
  {
   "cell_type": "markdown",
   "id": "aa8e39d1",
   "metadata": {},
   "source": [
    "- Menggunakan SimpleImputer dengan strategy = 'most_frequent'"
   ]
  },
  {
   "cell_type": "code",
   "execution_count": 24,
   "id": "5d834fbd",
   "metadata": {},
   "outputs": [],
   "source": [
    "imputer_categorical = SimpleImputer(missing_values=np.nan, strategy='most_frequent')"
   ]
  },
  {
   "cell_type": "markdown",
   "id": "0d3f043b",
   "metadata": {},
   "source": [
    "- Melakukan fit data kategorikal ke imputer"
   ]
  },
  {
   "cell_type": "code",
   "execution_count": 25,
   "id": "b128d542",
   "metadata": {},
   "outputs": [
    {
     "data": {
      "text/plain": [
       "SimpleImputer(strategy='most_frequent')"
      ]
     },
     "execution_count": 25,
     "metadata": {},
     "output_type": "execute_result"
    }
   ],
   "source": [
    "imputer_categorical.fit(df_categorical)"
   ]
  },
  {
   "cell_type": "code",
   "execution_count": 26,
   "id": "51c1180c",
   "metadata": {},
   "outputs": [],
   "source": [
    "# Transform kembali ke data\n",
    "df_categorical = imputer_categorical.transform(df_categorical)"
   ]
  },
  {
   "cell_type": "markdown",
   "id": "60da66f7",
   "metadata": {},
   "source": [
    "---\n",
    "**Membuat dataframe hasil imputer Transform**"
   ]
  },
  {
   "cell_type": "code",
   "execution_count": 27,
   "id": "7b54562e",
   "metadata": {},
   "outputs": [],
   "source": [
    "df_categorical = pd.DataFrame(df_categorical,columns=categorical_columns)"
   ]
  },
  {
   "cell_type": "code",
   "execution_count": 28,
   "id": "e4f85ea2",
   "metadata": {
    "scrolled": true
   },
   "outputs": [
    {
     "data": {
      "text/html": [
       "<div>\n",
       "<style scoped>\n",
       "    .dataframe tbody tr th:only-of-type {\n",
       "        vertical-align: middle;\n",
       "    }\n",
       "\n",
       "    .dataframe tbody tr th {\n",
       "        vertical-align: top;\n",
       "    }\n",
       "\n",
       "    .dataframe thead th {\n",
       "        text-align: right;\n",
       "    }\n",
       "</style>\n",
       "<table border=\"1\" class=\"dataframe\">\n",
       "  <thead>\n",
       "    <tr style=\"text-align: right;\">\n",
       "      <th></th>\n",
       "      <th>job</th>\n",
       "      <th>marital</th>\n",
       "      <th>education</th>\n",
       "      <th>default</th>\n",
       "      <th>housing</th>\n",
       "      <th>loan</th>\n",
       "      <th>contact</th>\n",
       "      <th>month</th>\n",
       "      <th>day_of_week</th>\n",
       "      <th>poutcome</th>\n",
       "      <th>y</th>\n",
       "    </tr>\n",
       "  </thead>\n",
       "  <tbody>\n",
       "    <tr>\n",
       "      <th>0</th>\n",
       "      <td>housemaid</td>\n",
       "      <td>married</td>\n",
       "      <td>basic.4y</td>\n",
       "      <td>no</td>\n",
       "      <td>no</td>\n",
       "      <td>no</td>\n",
       "      <td>telephone</td>\n",
       "      <td>may</td>\n",
       "      <td>mon</td>\n",
       "      <td>nonexistent</td>\n",
       "      <td>no</td>\n",
       "    </tr>\n",
       "    <tr>\n",
       "      <th>1</th>\n",
       "      <td>services</td>\n",
       "      <td>married</td>\n",
       "      <td>high.school</td>\n",
       "      <td>no</td>\n",
       "      <td>no</td>\n",
       "      <td>no</td>\n",
       "      <td>telephone</td>\n",
       "      <td>may</td>\n",
       "      <td>mon</td>\n",
       "      <td>nonexistent</td>\n",
       "      <td>no</td>\n",
       "    </tr>\n",
       "    <tr>\n",
       "      <th>2</th>\n",
       "      <td>services</td>\n",
       "      <td>married</td>\n",
       "      <td>high.school</td>\n",
       "      <td>no</td>\n",
       "      <td>yes</td>\n",
       "      <td>no</td>\n",
       "      <td>telephone</td>\n",
       "      <td>may</td>\n",
       "      <td>mon</td>\n",
       "      <td>nonexistent</td>\n",
       "      <td>no</td>\n",
       "    </tr>\n",
       "    <tr>\n",
       "      <th>3</th>\n",
       "      <td>admin.</td>\n",
       "      <td>married</td>\n",
       "      <td>basic.6y</td>\n",
       "      <td>no</td>\n",
       "      <td>no</td>\n",
       "      <td>no</td>\n",
       "      <td>telephone</td>\n",
       "      <td>may</td>\n",
       "      <td>mon</td>\n",
       "      <td>nonexistent</td>\n",
       "      <td>no</td>\n",
       "    </tr>\n",
       "    <tr>\n",
       "      <th>4</th>\n",
       "      <td>services</td>\n",
       "      <td>married</td>\n",
       "      <td>high.school</td>\n",
       "      <td>no</td>\n",
       "      <td>no</td>\n",
       "      <td>yes</td>\n",
       "      <td>telephone</td>\n",
       "      <td>may</td>\n",
       "      <td>mon</td>\n",
       "      <td>nonexistent</td>\n",
       "      <td>no</td>\n",
       "    </tr>\n",
       "  </tbody>\n",
       "</table>\n",
       "</div>"
      ],
      "text/plain": [
       "         job  marital    education default housing loan    contact month  \\\n",
       "0  housemaid  married     basic.4y      no      no   no  telephone   may   \n",
       "1   services  married  high.school      no      no   no  telephone   may   \n",
       "2   services  married  high.school      no     yes   no  telephone   may   \n",
       "3     admin.  married     basic.6y      no      no   no  telephone   may   \n",
       "4   services  married  high.school      no      no  yes  telephone   may   \n",
       "\n",
       "  day_of_week     poutcome   y  \n",
       "0         mon  nonexistent  no  \n",
       "1         mon  nonexistent  no  \n",
       "2         mon  nonexistent  no  \n",
       "3         mon  nonexistent  no  \n",
       "4         mon  nonexistent  no  "
      ]
     },
     "execution_count": 28,
     "metadata": {},
     "output_type": "execute_result"
    }
   ],
   "source": [
    "df_categorical.head()"
   ]
  },
  {
   "cell_type": "markdown",
   "id": "dea19420",
   "metadata": {},
   "source": [
    "**Melakukan concate kolom kategorikal dan numerikal**"
   ]
  },
  {
   "cell_type": "code",
   "execution_count": 29,
   "id": "af0737e1",
   "metadata": {},
   "outputs": [
    {
     "data": {
      "text/html": [
       "<div>\n",
       "<style scoped>\n",
       "    .dataframe tbody tr th:only-of-type {\n",
       "        vertical-align: middle;\n",
       "    }\n",
       "\n",
       "    .dataframe tbody tr th {\n",
       "        vertical-align: top;\n",
       "    }\n",
       "\n",
       "    .dataframe thead th {\n",
       "        text-align: right;\n",
       "    }\n",
       "</style>\n",
       "<table border=\"1\" class=\"dataframe\">\n",
       "  <thead>\n",
       "    <tr style=\"text-align: right;\">\n",
       "      <th></th>\n",
       "      <th>age</th>\n",
       "      <th>campaign</th>\n",
       "      <th>pdays</th>\n",
       "      <th>previous</th>\n",
       "      <th>emp.var.rate</th>\n",
       "      <th>cons.price.idx</th>\n",
       "      <th>cons.conf.idx</th>\n",
       "      <th>euribor3m</th>\n",
       "      <th>nr.employed</th>\n",
       "      <th>job</th>\n",
       "      <th>marital</th>\n",
       "      <th>education</th>\n",
       "      <th>default</th>\n",
       "      <th>housing</th>\n",
       "      <th>loan</th>\n",
       "      <th>contact</th>\n",
       "      <th>month</th>\n",
       "      <th>day_of_week</th>\n",
       "      <th>poutcome</th>\n",
       "      <th>y</th>\n",
       "    </tr>\n",
       "  </thead>\n",
       "  <tbody>\n",
       "    <tr>\n",
       "      <th>0</th>\n",
       "      <td>56</td>\n",
       "      <td>1</td>\n",
       "      <td>999</td>\n",
       "      <td>0</td>\n",
       "      <td>1.1</td>\n",
       "      <td>93.994</td>\n",
       "      <td>-36.4</td>\n",
       "      <td>4.857</td>\n",
       "      <td>5191.0</td>\n",
       "      <td>housemaid</td>\n",
       "      <td>married</td>\n",
       "      <td>basic.4y</td>\n",
       "      <td>no</td>\n",
       "      <td>no</td>\n",
       "      <td>no</td>\n",
       "      <td>telephone</td>\n",
       "      <td>may</td>\n",
       "      <td>mon</td>\n",
       "      <td>nonexistent</td>\n",
       "      <td>no</td>\n",
       "    </tr>\n",
       "    <tr>\n",
       "      <th>1</th>\n",
       "      <td>57</td>\n",
       "      <td>1</td>\n",
       "      <td>999</td>\n",
       "      <td>0</td>\n",
       "      <td>1.1</td>\n",
       "      <td>93.994</td>\n",
       "      <td>-36.4</td>\n",
       "      <td>4.857</td>\n",
       "      <td>5191.0</td>\n",
       "      <td>services</td>\n",
       "      <td>married</td>\n",
       "      <td>high.school</td>\n",
       "      <td>no</td>\n",
       "      <td>no</td>\n",
       "      <td>no</td>\n",
       "      <td>telephone</td>\n",
       "      <td>may</td>\n",
       "      <td>mon</td>\n",
       "      <td>nonexistent</td>\n",
       "      <td>no</td>\n",
       "    </tr>\n",
       "    <tr>\n",
       "      <th>2</th>\n",
       "      <td>37</td>\n",
       "      <td>1</td>\n",
       "      <td>999</td>\n",
       "      <td>0</td>\n",
       "      <td>1.1</td>\n",
       "      <td>93.994</td>\n",
       "      <td>-36.4</td>\n",
       "      <td>4.857</td>\n",
       "      <td>5191.0</td>\n",
       "      <td>services</td>\n",
       "      <td>married</td>\n",
       "      <td>high.school</td>\n",
       "      <td>no</td>\n",
       "      <td>yes</td>\n",
       "      <td>no</td>\n",
       "      <td>telephone</td>\n",
       "      <td>may</td>\n",
       "      <td>mon</td>\n",
       "      <td>nonexistent</td>\n",
       "      <td>no</td>\n",
       "    </tr>\n",
       "    <tr>\n",
       "      <th>3</th>\n",
       "      <td>40</td>\n",
       "      <td>1</td>\n",
       "      <td>999</td>\n",
       "      <td>0</td>\n",
       "      <td>1.1</td>\n",
       "      <td>93.994</td>\n",
       "      <td>-36.4</td>\n",
       "      <td>4.857</td>\n",
       "      <td>5191.0</td>\n",
       "      <td>admin.</td>\n",
       "      <td>married</td>\n",
       "      <td>basic.6y</td>\n",
       "      <td>no</td>\n",
       "      <td>no</td>\n",
       "      <td>no</td>\n",
       "      <td>telephone</td>\n",
       "      <td>may</td>\n",
       "      <td>mon</td>\n",
       "      <td>nonexistent</td>\n",
       "      <td>no</td>\n",
       "    </tr>\n",
       "    <tr>\n",
       "      <th>4</th>\n",
       "      <td>56</td>\n",
       "      <td>1</td>\n",
       "      <td>999</td>\n",
       "      <td>0</td>\n",
       "      <td>1.1</td>\n",
       "      <td>93.994</td>\n",
       "      <td>-36.4</td>\n",
       "      <td>4.857</td>\n",
       "      <td>5191.0</td>\n",
       "      <td>services</td>\n",
       "      <td>married</td>\n",
       "      <td>high.school</td>\n",
       "      <td>no</td>\n",
       "      <td>no</td>\n",
       "      <td>yes</td>\n",
       "      <td>telephone</td>\n",
       "      <td>may</td>\n",
       "      <td>mon</td>\n",
       "      <td>nonexistent</td>\n",
       "      <td>no</td>\n",
       "    </tr>\n",
       "  </tbody>\n",
       "</table>\n",
       "</div>"
      ],
      "text/plain": [
       "   age  campaign  pdays  previous  emp.var.rate  cons.price.idx  \\\n",
       "0   56         1    999         0           1.1          93.994   \n",
       "1   57         1    999         0           1.1          93.994   \n",
       "2   37         1    999         0           1.1          93.994   \n",
       "3   40         1    999         0           1.1          93.994   \n",
       "4   56         1    999         0           1.1          93.994   \n",
       "\n",
       "   cons.conf.idx  euribor3m  nr.employed        job  marital    education  \\\n",
       "0          -36.4      4.857       5191.0  housemaid  married     basic.4y   \n",
       "1          -36.4      4.857       5191.0   services  married  high.school   \n",
       "2          -36.4      4.857       5191.0   services  married  high.school   \n",
       "3          -36.4      4.857       5191.0     admin.  married     basic.6y   \n",
       "4          -36.4      4.857       5191.0   services  married  high.school   \n",
       "\n",
       "  default housing loan    contact month day_of_week     poutcome   y  \n",
       "0      no      no   no  telephone   may         mon  nonexistent  no  \n",
       "1      no      no   no  telephone   may         mon  nonexistent  no  \n",
       "2      no     yes   no  telephone   may         mon  nonexistent  no  \n",
       "3      no      no   no  telephone   may         mon  nonexistent  no  \n",
       "4      no      no  yes  telephone   may         mon  nonexistent  no  "
      ]
     },
     "execution_count": 29,
     "metadata": {},
     "output_type": "execute_result"
    }
   ],
   "source": [
    "df = pd.concat([df_numerical,df_categorical],axis=1)\n",
    "df.head()"
   ]
  },
  {
   "cell_type": "markdown",
   "id": "b4d2a42e",
   "metadata": {},
   "source": [
    "**Mengecek kembali missing values**"
   ]
  },
  {
   "cell_type": "code",
   "execution_count": 30,
   "id": "fcf53daa",
   "metadata": {},
   "outputs": [
    {
     "name": "stdout",
     "output_type": "stream",
     "text": [
      "Jumlah missing values (Kategorik) =  0\n",
      "Jumlah missing values (Numerik) =  0\n"
     ]
    }
   ],
   "source": [
    "print(\"Jumlah missing values (Kategorik) = \",df[categorical_columns].isnull().sum().sum())\n",
    "print(\"Jumlah missing values (Numerik) = \",df[numerical_columns].isnull().sum().sum())"
   ]
  },
  {
   "cell_type": "markdown",
   "id": "dfdd93bc",
   "metadata": {},
   "source": [
    "Sudah tidak ada missing values. Akan dilanjutkan dengan melihat data duplicated."
   ]
  },
  {
   "cell_type": "markdown",
   "id": "9fd260f5",
   "metadata": {},
   "source": [
    "## Handling Duplicated"
   ]
  },
  {
   "cell_type": "markdown",
   "id": "a7b927ff",
   "metadata": {},
   "source": [
    "**Menghitung total nilai duplicated**"
   ]
  },
  {
   "cell_type": "code",
   "execution_count": 31,
   "id": "3c2e3a94",
   "metadata": {},
   "outputs": [
    {
     "data": {
      "text/plain": [
       "2109"
      ]
     },
     "execution_count": 31,
     "metadata": {},
     "output_type": "execute_result"
    }
   ],
   "source": [
    "df.duplicated().sum()"
   ]
  },
  {
   "cell_type": "markdown",
   "id": "9b6fe17e",
   "metadata": {},
   "source": [
    "**Melihat baris duplicated data**"
   ]
  },
  {
   "cell_type": "code",
   "execution_count": 32,
   "id": "52f2ca93",
   "metadata": {
    "scrolled": false
   },
   "outputs": [
    {
     "data": {
      "text/html": [
       "<div>\n",
       "<style scoped>\n",
       "    .dataframe tbody tr th:only-of-type {\n",
       "        vertical-align: middle;\n",
       "    }\n",
       "\n",
       "    .dataframe tbody tr th {\n",
       "        vertical-align: top;\n",
       "    }\n",
       "\n",
       "    .dataframe thead th {\n",
       "        text-align: right;\n",
       "    }\n",
       "</style>\n",
       "<table border=\"1\" class=\"dataframe\">\n",
       "  <thead>\n",
       "    <tr style=\"text-align: right;\">\n",
       "      <th></th>\n",
       "      <th>age</th>\n",
       "      <th>campaign</th>\n",
       "      <th>pdays</th>\n",
       "      <th>previous</th>\n",
       "      <th>emp.var.rate</th>\n",
       "      <th>cons.price.idx</th>\n",
       "      <th>cons.conf.idx</th>\n",
       "      <th>euribor3m</th>\n",
       "      <th>nr.employed</th>\n",
       "      <th>job</th>\n",
       "      <th>marital</th>\n",
       "      <th>education</th>\n",
       "      <th>default</th>\n",
       "      <th>housing</th>\n",
       "      <th>loan</th>\n",
       "      <th>contact</th>\n",
       "      <th>month</th>\n",
       "      <th>day_of_week</th>\n",
       "      <th>poutcome</th>\n",
       "      <th>y</th>\n",
       "    </tr>\n",
       "  </thead>\n",
       "  <tbody>\n",
       "    <tr>\n",
       "      <th>10</th>\n",
       "      <td>41</td>\n",
       "      <td>1</td>\n",
       "      <td>999</td>\n",
       "      <td>0</td>\n",
       "      <td>1.1</td>\n",
       "      <td>93.994</td>\n",
       "      <td>-36.4</td>\n",
       "      <td>4.857</td>\n",
       "      <td>5191.0</td>\n",
       "      <td>blue-collar</td>\n",
       "      <td>married</td>\n",
       "      <td>university.degree</td>\n",
       "      <td>no</td>\n",
       "      <td>no</td>\n",
       "      <td>no</td>\n",
       "      <td>telephone</td>\n",
       "      <td>may</td>\n",
       "      <td>mon</td>\n",
       "      <td>nonexistent</td>\n",
       "      <td>no</td>\n",
       "    </tr>\n",
       "    <tr>\n",
       "      <th>11</th>\n",
       "      <td>25</td>\n",
       "      <td>1</td>\n",
       "      <td>999</td>\n",
       "      <td>0</td>\n",
       "      <td>1.1</td>\n",
       "      <td>93.994</td>\n",
       "      <td>-36.4</td>\n",
       "      <td>4.857</td>\n",
       "      <td>5191.0</td>\n",
       "      <td>services</td>\n",
       "      <td>single</td>\n",
       "      <td>high.school</td>\n",
       "      <td>no</td>\n",
       "      <td>yes</td>\n",
       "      <td>no</td>\n",
       "      <td>telephone</td>\n",
       "      <td>may</td>\n",
       "      <td>mon</td>\n",
       "      <td>nonexistent</td>\n",
       "      <td>no</td>\n",
       "    </tr>\n",
       "    <tr>\n",
       "      <th>16</th>\n",
       "      <td>35</td>\n",
       "      <td>1</td>\n",
       "      <td>999</td>\n",
       "      <td>0</td>\n",
       "      <td>1.1</td>\n",
       "      <td>93.994</td>\n",
       "      <td>-36.4</td>\n",
       "      <td>4.857</td>\n",
       "      <td>5191.0</td>\n",
       "      <td>blue-collar</td>\n",
       "      <td>married</td>\n",
       "      <td>basic.6y</td>\n",
       "      <td>no</td>\n",
       "      <td>yes</td>\n",
       "      <td>no</td>\n",
       "      <td>telephone</td>\n",
       "      <td>may</td>\n",
       "      <td>mon</td>\n",
       "      <td>nonexistent</td>\n",
       "      <td>no</td>\n",
       "    </tr>\n",
       "    <tr>\n",
       "      <th>31</th>\n",
       "      <td>59</td>\n",
       "      <td>1</td>\n",
       "      <td>999</td>\n",
       "      <td>0</td>\n",
       "      <td>1.1</td>\n",
       "      <td>93.994</td>\n",
       "      <td>-36.4</td>\n",
       "      <td>4.857</td>\n",
       "      <td>5191.0</td>\n",
       "      <td>technician</td>\n",
       "      <td>married</td>\n",
       "      <td>university.degree</td>\n",
       "      <td>no</td>\n",
       "      <td>yes</td>\n",
       "      <td>no</td>\n",
       "      <td>telephone</td>\n",
       "      <td>may</td>\n",
       "      <td>mon</td>\n",
       "      <td>nonexistent</td>\n",
       "      <td>no</td>\n",
       "    </tr>\n",
       "    <tr>\n",
       "      <th>104</th>\n",
       "      <td>52</td>\n",
       "      <td>1</td>\n",
       "      <td>999</td>\n",
       "      <td>0</td>\n",
       "      <td>1.1</td>\n",
       "      <td>93.994</td>\n",
       "      <td>-36.4</td>\n",
       "      <td>4.857</td>\n",
       "      <td>5191.0</td>\n",
       "      <td>admin.</td>\n",
       "      <td>divorced</td>\n",
       "      <td>university.degree</td>\n",
       "      <td>no</td>\n",
       "      <td>no</td>\n",
       "      <td>no</td>\n",
       "      <td>telephone</td>\n",
       "      <td>may</td>\n",
       "      <td>mon</td>\n",
       "      <td>nonexistent</td>\n",
       "      <td>no</td>\n",
       "    </tr>\n",
       "    <tr>\n",
       "      <th>...</th>\n",
       "      <td>...</td>\n",
       "      <td>...</td>\n",
       "      <td>...</td>\n",
       "      <td>...</td>\n",
       "      <td>...</td>\n",
       "      <td>...</td>\n",
       "      <td>...</td>\n",
       "      <td>...</td>\n",
       "      <td>...</td>\n",
       "      <td>...</td>\n",
       "      <td>...</td>\n",
       "      <td>...</td>\n",
       "      <td>...</td>\n",
       "      <td>...</td>\n",
       "      <td>...</td>\n",
       "      <td>...</td>\n",
       "      <td>...</td>\n",
       "      <td>...</td>\n",
       "      <td>...</td>\n",
       "      <td>...</td>\n",
       "    </tr>\n",
       "    <tr>\n",
       "      <th>39985</th>\n",
       "      <td>27</td>\n",
       "      <td>2</td>\n",
       "      <td>999</td>\n",
       "      <td>0</td>\n",
       "      <td>-1.7</td>\n",
       "      <td>94.055</td>\n",
       "      <td>-39.8</td>\n",
       "      <td>0.761</td>\n",
       "      <td>4991.6</td>\n",
       "      <td>admin.</td>\n",
       "      <td>single</td>\n",
       "      <td>high.school</td>\n",
       "      <td>no</td>\n",
       "      <td>no</td>\n",
       "      <td>no</td>\n",
       "      <td>cellular</td>\n",
       "      <td>jun</td>\n",
       "      <td>tue</td>\n",
       "      <td>nonexistent</td>\n",
       "      <td>yes</td>\n",
       "    </tr>\n",
       "    <tr>\n",
       "      <th>40401</th>\n",
       "      <td>31</td>\n",
       "      <td>2</td>\n",
       "      <td>999</td>\n",
       "      <td>0</td>\n",
       "      <td>-1.7</td>\n",
       "      <td>94.027</td>\n",
       "      <td>-38.3</td>\n",
       "      <td>0.904</td>\n",
       "      <td>4991.6</td>\n",
       "      <td>student</td>\n",
       "      <td>single</td>\n",
       "      <td>university.degree</td>\n",
       "      <td>no</td>\n",
       "      <td>yes</td>\n",
       "      <td>no</td>\n",
       "      <td>cellular</td>\n",
       "      <td>aug</td>\n",
       "      <td>thu</td>\n",
       "      <td>nonexistent</td>\n",
       "      <td>yes</td>\n",
       "    </tr>\n",
       "    <tr>\n",
       "      <th>40404</th>\n",
       "      <td>41</td>\n",
       "      <td>1</td>\n",
       "      <td>999</td>\n",
       "      <td>0</td>\n",
       "      <td>-1.7</td>\n",
       "      <td>94.027</td>\n",
       "      <td>-38.3</td>\n",
       "      <td>0.904</td>\n",
       "      <td>4991.6</td>\n",
       "      <td>entrepreneur</td>\n",
       "      <td>married</td>\n",
       "      <td>university.degree</td>\n",
       "      <td>no</td>\n",
       "      <td>yes</td>\n",
       "      <td>no</td>\n",
       "      <td>cellular</td>\n",
       "      <td>aug</td>\n",
       "      <td>thu</td>\n",
       "      <td>nonexistent</td>\n",
       "      <td>yes</td>\n",
       "    </tr>\n",
       "    <tr>\n",
       "      <th>40806</th>\n",
       "      <td>35</td>\n",
       "      <td>1</td>\n",
       "      <td>999</td>\n",
       "      <td>2</td>\n",
       "      <td>-1.1</td>\n",
       "      <td>94.199</td>\n",
       "      <td>-37.5</td>\n",
       "      <td>0.878</td>\n",
       "      <td>4963.6</td>\n",
       "      <td>technician</td>\n",
       "      <td>married</td>\n",
       "      <td>professional.course</td>\n",
       "      <td>no</td>\n",
       "      <td>yes</td>\n",
       "      <td>no</td>\n",
       "      <td>cellular</td>\n",
       "      <td>sep</td>\n",
       "      <td>thu</td>\n",
       "      <td>failure</td>\n",
       "      <td>no</td>\n",
       "    </tr>\n",
       "    <tr>\n",
       "      <th>40840</th>\n",
       "      <td>32</td>\n",
       "      <td>4</td>\n",
       "      <td>999</td>\n",
       "      <td>0</td>\n",
       "      <td>-1.1</td>\n",
       "      <td>94.199</td>\n",
       "      <td>-37.5</td>\n",
       "      <td>0.879</td>\n",
       "      <td>4963.6</td>\n",
       "      <td>admin.</td>\n",
       "      <td>single</td>\n",
       "      <td>university.degree</td>\n",
       "      <td>no</td>\n",
       "      <td>yes</td>\n",
       "      <td>no</td>\n",
       "      <td>cellular</td>\n",
       "      <td>sep</td>\n",
       "      <td>mon</td>\n",
       "      <td>nonexistent</td>\n",
       "      <td>no</td>\n",
       "    </tr>\n",
       "  </tbody>\n",
       "</table>\n",
       "<p>2109 rows × 20 columns</p>\n",
       "</div>"
      ],
      "text/plain": [
       "       age  campaign  pdays  previous  emp.var.rate  cons.price.idx  \\\n",
       "10      41         1    999         0           1.1          93.994   \n",
       "11      25         1    999         0           1.1          93.994   \n",
       "16      35         1    999         0           1.1          93.994   \n",
       "31      59         1    999         0           1.1          93.994   \n",
       "104     52         1    999         0           1.1          93.994   \n",
       "...    ...       ...    ...       ...           ...             ...   \n",
       "39985   27         2    999         0          -1.7          94.055   \n",
       "40401   31         2    999         0          -1.7          94.027   \n",
       "40404   41         1    999         0          -1.7          94.027   \n",
       "40806   35         1    999         2          -1.1          94.199   \n",
       "40840   32         4    999         0          -1.1          94.199   \n",
       "\n",
       "       cons.conf.idx  euribor3m  nr.employed           job   marital  \\\n",
       "10             -36.4      4.857       5191.0   blue-collar   married   \n",
       "11             -36.4      4.857       5191.0      services    single   \n",
       "16             -36.4      4.857       5191.0   blue-collar   married   \n",
       "31             -36.4      4.857       5191.0    technician   married   \n",
       "104            -36.4      4.857       5191.0        admin.  divorced   \n",
       "...              ...        ...          ...           ...       ...   \n",
       "39985          -39.8      0.761       4991.6        admin.    single   \n",
       "40401          -38.3      0.904       4991.6       student    single   \n",
       "40404          -38.3      0.904       4991.6  entrepreneur   married   \n",
       "40806          -37.5      0.878       4963.6    technician   married   \n",
       "40840          -37.5      0.879       4963.6        admin.    single   \n",
       "\n",
       "                 education default housing loan    contact month day_of_week  \\\n",
       "10       university.degree      no      no   no  telephone   may         mon   \n",
       "11             high.school      no     yes   no  telephone   may         mon   \n",
       "16                basic.6y      no     yes   no  telephone   may         mon   \n",
       "31       university.degree      no     yes   no  telephone   may         mon   \n",
       "104      university.degree      no      no   no  telephone   may         mon   \n",
       "...                    ...     ...     ...  ...        ...   ...         ...   \n",
       "39985          high.school      no      no   no   cellular   jun         tue   \n",
       "40401    university.degree      no     yes   no   cellular   aug         thu   \n",
       "40404    university.degree      no     yes   no   cellular   aug         thu   \n",
       "40806  professional.course      no     yes   no   cellular   sep         thu   \n",
       "40840    university.degree      no     yes   no   cellular   sep         mon   \n",
       "\n",
       "          poutcome    y  \n",
       "10     nonexistent   no  \n",
       "11     nonexistent   no  \n",
       "16     nonexistent   no  \n",
       "31     nonexistent   no  \n",
       "104    nonexistent   no  \n",
       "...            ...  ...  \n",
       "39985  nonexistent  yes  \n",
       "40401  nonexistent  yes  \n",
       "40404  nonexistent  yes  \n",
       "40806      failure   no  \n",
       "40840  nonexistent   no  \n",
       "\n",
       "[2109 rows x 20 columns]"
      ]
     },
     "execution_count": 32,
     "metadata": {},
     "output_type": "execute_result"
    }
   ],
   "source": [
    "df[df.duplicated()]"
   ]
  },
  {
   "cell_type": "markdown",
   "id": "fe343299",
   "metadata": {},
   "source": [
    "**Melakukan penghapusan duplicated data**"
   ]
  },
  {
   "cell_type": "code",
   "execution_count": 33,
   "id": "a4d03c7f",
   "metadata": {},
   "outputs": [],
   "source": [
    "df.drop_duplicates(subset=df.columns,keep='first', inplace=True)"
   ]
  },
  {
   "cell_type": "markdown",
   "id": "8df97e6c",
   "metadata": {},
   "source": [
    "**Mengecek kembali jumlah duplicated data**"
   ]
  },
  {
   "cell_type": "code",
   "execution_count": 34,
   "id": "885adbd2",
   "metadata": {},
   "outputs": [
    {
     "data": {
      "text/plain": [
       "0"
      ]
     },
     "execution_count": 34,
     "metadata": {},
     "output_type": "execute_result"
    }
   ],
   "source": [
    "df.duplicated().sum()"
   ]
  },
  {
   "cell_type": "markdown",
   "id": "c39b723a",
   "metadata": {},
   "source": [
    "**Melakukan perubahan nama kolom**"
   ]
  },
  {
   "cell_type": "code",
   "execution_count": 35,
   "id": "a03f24d5",
   "metadata": {},
   "outputs": [],
   "source": [
    "df.rename(columns={'y':'deposito',},inplace=True)"
   ]
  },
  {
   "cell_type": "markdown",
   "id": "a41716df",
   "metadata": {},
   "source": [
    "**Melakukan reset index**"
   ]
  },
  {
   "cell_type": "code",
   "execution_count": 36,
   "id": "0d859231",
   "metadata": {},
   "outputs": [],
   "source": [
    "df = df.reset_index(drop=True)"
   ]
  },
  {
   "cell_type": "markdown",
   "id": "74e9f0d5",
   "metadata": {},
   "source": [
    "**Melihat data setelah dilakukan data cleaning**"
   ]
  },
  {
   "cell_type": "code",
   "execution_count": 37,
   "id": "230a21f8",
   "metadata": {
    "scrolled": true
   },
   "outputs": [
    {
     "data": {
      "text/html": [
       "<div>\n",
       "<style scoped>\n",
       "    .dataframe tbody tr th:only-of-type {\n",
       "        vertical-align: middle;\n",
       "    }\n",
       "\n",
       "    .dataframe tbody tr th {\n",
       "        vertical-align: top;\n",
       "    }\n",
       "\n",
       "    .dataframe thead th {\n",
       "        text-align: right;\n",
       "    }\n",
       "</style>\n",
       "<table border=\"1\" class=\"dataframe\">\n",
       "  <thead>\n",
       "    <tr style=\"text-align: right;\">\n",
       "      <th></th>\n",
       "      <th>age</th>\n",
       "      <th>campaign</th>\n",
       "      <th>pdays</th>\n",
       "      <th>previous</th>\n",
       "      <th>emp.var.rate</th>\n",
       "      <th>cons.price.idx</th>\n",
       "      <th>cons.conf.idx</th>\n",
       "      <th>euribor3m</th>\n",
       "      <th>nr.employed</th>\n",
       "      <th>job</th>\n",
       "      <th>marital</th>\n",
       "      <th>education</th>\n",
       "      <th>default</th>\n",
       "      <th>housing</th>\n",
       "      <th>loan</th>\n",
       "      <th>contact</th>\n",
       "      <th>month</th>\n",
       "      <th>day_of_week</th>\n",
       "      <th>poutcome</th>\n",
       "      <th>deposito</th>\n",
       "    </tr>\n",
       "  </thead>\n",
       "  <tbody>\n",
       "    <tr>\n",
       "      <th>0</th>\n",
       "      <td>56</td>\n",
       "      <td>1</td>\n",
       "      <td>999</td>\n",
       "      <td>0</td>\n",
       "      <td>1.1</td>\n",
       "      <td>93.994</td>\n",
       "      <td>-36.4</td>\n",
       "      <td>4.857</td>\n",
       "      <td>5191.0</td>\n",
       "      <td>housemaid</td>\n",
       "      <td>married</td>\n",
       "      <td>basic.4y</td>\n",
       "      <td>no</td>\n",
       "      <td>no</td>\n",
       "      <td>no</td>\n",
       "      <td>telephone</td>\n",
       "      <td>may</td>\n",
       "      <td>mon</td>\n",
       "      <td>nonexistent</td>\n",
       "      <td>no</td>\n",
       "    </tr>\n",
       "    <tr>\n",
       "      <th>1</th>\n",
       "      <td>57</td>\n",
       "      <td>1</td>\n",
       "      <td>999</td>\n",
       "      <td>0</td>\n",
       "      <td>1.1</td>\n",
       "      <td>93.994</td>\n",
       "      <td>-36.4</td>\n",
       "      <td>4.857</td>\n",
       "      <td>5191.0</td>\n",
       "      <td>services</td>\n",
       "      <td>married</td>\n",
       "      <td>high.school</td>\n",
       "      <td>no</td>\n",
       "      <td>no</td>\n",
       "      <td>no</td>\n",
       "      <td>telephone</td>\n",
       "      <td>may</td>\n",
       "      <td>mon</td>\n",
       "      <td>nonexistent</td>\n",
       "      <td>no</td>\n",
       "    </tr>\n",
       "    <tr>\n",
       "      <th>2</th>\n",
       "      <td>37</td>\n",
       "      <td>1</td>\n",
       "      <td>999</td>\n",
       "      <td>0</td>\n",
       "      <td>1.1</td>\n",
       "      <td>93.994</td>\n",
       "      <td>-36.4</td>\n",
       "      <td>4.857</td>\n",
       "      <td>5191.0</td>\n",
       "      <td>services</td>\n",
       "      <td>married</td>\n",
       "      <td>high.school</td>\n",
       "      <td>no</td>\n",
       "      <td>yes</td>\n",
       "      <td>no</td>\n",
       "      <td>telephone</td>\n",
       "      <td>may</td>\n",
       "      <td>mon</td>\n",
       "      <td>nonexistent</td>\n",
       "      <td>no</td>\n",
       "    </tr>\n",
       "    <tr>\n",
       "      <th>3</th>\n",
       "      <td>40</td>\n",
       "      <td>1</td>\n",
       "      <td>999</td>\n",
       "      <td>0</td>\n",
       "      <td>1.1</td>\n",
       "      <td>93.994</td>\n",
       "      <td>-36.4</td>\n",
       "      <td>4.857</td>\n",
       "      <td>5191.0</td>\n",
       "      <td>admin.</td>\n",
       "      <td>married</td>\n",
       "      <td>basic.6y</td>\n",
       "      <td>no</td>\n",
       "      <td>no</td>\n",
       "      <td>no</td>\n",
       "      <td>telephone</td>\n",
       "      <td>may</td>\n",
       "      <td>mon</td>\n",
       "      <td>nonexistent</td>\n",
       "      <td>no</td>\n",
       "    </tr>\n",
       "    <tr>\n",
       "      <th>4</th>\n",
       "      <td>56</td>\n",
       "      <td>1</td>\n",
       "      <td>999</td>\n",
       "      <td>0</td>\n",
       "      <td>1.1</td>\n",
       "      <td>93.994</td>\n",
       "      <td>-36.4</td>\n",
       "      <td>4.857</td>\n",
       "      <td>5191.0</td>\n",
       "      <td>services</td>\n",
       "      <td>married</td>\n",
       "      <td>high.school</td>\n",
       "      <td>no</td>\n",
       "      <td>no</td>\n",
       "      <td>yes</td>\n",
       "      <td>telephone</td>\n",
       "      <td>may</td>\n",
       "      <td>mon</td>\n",
       "      <td>nonexistent</td>\n",
       "      <td>no</td>\n",
       "    </tr>\n",
       "  </tbody>\n",
       "</table>\n",
       "</div>"
      ],
      "text/plain": [
       "   age  campaign  pdays  previous  emp.var.rate  cons.price.idx  \\\n",
       "0   56         1    999         0           1.1          93.994   \n",
       "1   57         1    999         0           1.1          93.994   \n",
       "2   37         1    999         0           1.1          93.994   \n",
       "3   40         1    999         0           1.1          93.994   \n",
       "4   56         1    999         0           1.1          93.994   \n",
       "\n",
       "   cons.conf.idx  euribor3m  nr.employed        job  marital    education  \\\n",
       "0          -36.4      4.857       5191.0  housemaid  married     basic.4y   \n",
       "1          -36.4      4.857       5191.0   services  married  high.school   \n",
       "2          -36.4      4.857       5191.0   services  married  high.school   \n",
       "3          -36.4      4.857       5191.0     admin.  married     basic.6y   \n",
       "4          -36.4      4.857       5191.0   services  married  high.school   \n",
       "\n",
       "  default housing loan    contact month day_of_week     poutcome deposito  \n",
       "0      no      no   no  telephone   may         mon  nonexistent       no  \n",
       "1      no      no   no  telephone   may         mon  nonexistent       no  \n",
       "2      no     yes   no  telephone   may         mon  nonexistent       no  \n",
       "3      no      no   no  telephone   may         mon  nonexistent       no  \n",
       "4      no      no  yes  telephone   may         mon  nonexistent       no  "
      ]
     },
     "execution_count": 37,
     "metadata": {},
     "output_type": "execute_result"
    }
   ],
   "source": [
    "df.head()"
   ]
  },
  {
   "cell_type": "markdown",
   "id": "d54498d2",
   "metadata": {},
   "source": [
    "**Melihat nilai deskriptif statistik dataset**"
   ]
  },
  {
   "cell_type": "code",
   "execution_count": 38,
   "id": "f37b10ca",
   "metadata": {
    "scrolled": false
   },
   "outputs": [
    {
     "data": {
      "text/html": [
       "<div>\n",
       "<style scoped>\n",
       "    .dataframe tbody tr th:only-of-type {\n",
       "        vertical-align: middle;\n",
       "    }\n",
       "\n",
       "    .dataframe tbody tr th {\n",
       "        vertical-align: top;\n",
       "    }\n",
       "\n",
       "    .dataframe thead th {\n",
       "        text-align: right;\n",
       "    }\n",
       "</style>\n",
       "<table border=\"1\" class=\"dataframe\">\n",
       "  <thead>\n",
       "    <tr style=\"text-align: right;\">\n",
       "      <th></th>\n",
       "      <th>age</th>\n",
       "      <th>campaign</th>\n",
       "      <th>pdays</th>\n",
       "      <th>previous</th>\n",
       "      <th>emp.var.rate</th>\n",
       "      <th>cons.price.idx</th>\n",
       "      <th>cons.conf.idx</th>\n",
       "      <th>euribor3m</th>\n",
       "      <th>nr.employed</th>\n",
       "    </tr>\n",
       "  </thead>\n",
       "  <tbody>\n",
       "    <tr>\n",
       "      <th>count</th>\n",
       "      <td>39079.000000</td>\n",
       "      <td>39079.000000</td>\n",
       "      <td>39079.000000</td>\n",
       "      <td>39079.000000</td>\n",
       "      <td>39079.000000</td>\n",
       "      <td>39079.000000</td>\n",
       "      <td>39079.000000</td>\n",
       "      <td>39079.000000</td>\n",
       "      <td>39079.000000</td>\n",
       "    </tr>\n",
       "    <tr>\n",
       "      <th>mean</th>\n",
       "      <td>40.121114</td>\n",
       "      <td>2.627780</td>\n",
       "      <td>960.529799</td>\n",
       "      <td>0.180046</td>\n",
       "      <td>0.058658</td>\n",
       "      <td>93.576543</td>\n",
       "      <td>-40.509225</td>\n",
       "      <td>3.595010</td>\n",
       "      <td>5165.756289</td>\n",
       "    </tr>\n",
       "    <tr>\n",
       "      <th>std</th>\n",
       "      <td>10.475117</td>\n",
       "      <td>2.823201</td>\n",
       "      <td>191.629394</td>\n",
       "      <td>0.504882</td>\n",
       "      <td>1.579010</td>\n",
       "      <td>0.584670</td>\n",
       "      <td>4.649252</td>\n",
       "      <td>1.744511</td>\n",
       "      <td>72.914492</td>\n",
       "    </tr>\n",
       "    <tr>\n",
       "      <th>min</th>\n",
       "      <td>17.000000</td>\n",
       "      <td>1.000000</td>\n",
       "      <td>0.000000</td>\n",
       "      <td>0.000000</td>\n",
       "      <td>-3.400000</td>\n",
       "      <td>92.201000</td>\n",
       "      <td>-50.800000</td>\n",
       "      <td>0.634000</td>\n",
       "      <td>4963.600000</td>\n",
       "    </tr>\n",
       "    <tr>\n",
       "      <th>25%</th>\n",
       "      <td>32.000000</td>\n",
       "      <td>1.000000</td>\n",
       "      <td>999.000000</td>\n",
       "      <td>0.000000</td>\n",
       "      <td>-1.800000</td>\n",
       "      <td>93.075000</td>\n",
       "      <td>-42.700000</td>\n",
       "      <td>1.334000</td>\n",
       "      <td>5099.100000</td>\n",
       "    </tr>\n",
       "    <tr>\n",
       "      <th>50%</th>\n",
       "      <td>38.000000</td>\n",
       "      <td>2.000000</td>\n",
       "      <td>999.000000</td>\n",
       "      <td>0.000000</td>\n",
       "      <td>1.100000</td>\n",
       "      <td>93.798000</td>\n",
       "      <td>-41.800000</td>\n",
       "      <td>4.857000</td>\n",
       "      <td>5191.000000</td>\n",
       "    </tr>\n",
       "    <tr>\n",
       "      <th>75%</th>\n",
       "      <td>47.000000</td>\n",
       "      <td>3.000000</td>\n",
       "      <td>999.000000</td>\n",
       "      <td>0.000000</td>\n",
       "      <td>1.400000</td>\n",
       "      <td>93.994000</td>\n",
       "      <td>-36.400000</td>\n",
       "      <td>4.961000</td>\n",
       "      <td>5228.100000</td>\n",
       "    </tr>\n",
       "    <tr>\n",
       "      <th>max</th>\n",
       "      <td>98.000000</td>\n",
       "      <td>56.000000</td>\n",
       "      <td>999.000000</td>\n",
       "      <td>7.000000</td>\n",
       "      <td>1.400000</td>\n",
       "      <td>94.767000</td>\n",
       "      <td>-26.900000</td>\n",
       "      <td>5.045000</td>\n",
       "      <td>5228.100000</td>\n",
       "    </tr>\n",
       "  </tbody>\n",
       "</table>\n",
       "</div>"
      ],
      "text/plain": [
       "                age      campaign         pdays      previous  emp.var.rate  \\\n",
       "count  39079.000000  39079.000000  39079.000000  39079.000000  39079.000000   \n",
       "mean      40.121114      2.627780    960.529799      0.180046      0.058658   \n",
       "std       10.475117      2.823201    191.629394      0.504882      1.579010   \n",
       "min       17.000000      1.000000      0.000000      0.000000     -3.400000   \n",
       "25%       32.000000      1.000000    999.000000      0.000000     -1.800000   \n",
       "50%       38.000000      2.000000    999.000000      0.000000      1.100000   \n",
       "75%       47.000000      3.000000    999.000000      0.000000      1.400000   \n",
       "max       98.000000     56.000000    999.000000      7.000000      1.400000   \n",
       "\n",
       "       cons.price.idx  cons.conf.idx     euribor3m   nr.employed  \n",
       "count    39079.000000   39079.000000  39079.000000  39079.000000  \n",
       "mean        93.576543     -40.509225      3.595010   5165.756289  \n",
       "std          0.584670       4.649252      1.744511     72.914492  \n",
       "min         92.201000     -50.800000      0.634000   4963.600000  \n",
       "25%         93.075000     -42.700000      1.334000   5099.100000  \n",
       "50%         93.798000     -41.800000      4.857000   5191.000000  \n",
       "75%         93.994000     -36.400000      4.961000   5228.100000  \n",
       "max         94.767000     -26.900000      5.045000   5228.100000  "
      ]
     },
     "execution_count": 38,
     "metadata": {},
     "output_type": "execute_result"
    }
   ],
   "source": [
    "df.describe()"
   ]
  },
  {
   "cell_type": "code",
   "execution_count": 39,
   "id": "42ac9378",
   "metadata": {},
   "outputs": [
    {
     "data": {
      "text/html": [
       "<div>\n",
       "<style scoped>\n",
       "    .dataframe tbody tr th:only-of-type {\n",
       "        vertical-align: middle;\n",
       "    }\n",
       "\n",
       "    .dataframe tbody tr th {\n",
       "        vertical-align: top;\n",
       "    }\n",
       "\n",
       "    .dataframe thead th {\n",
       "        text-align: right;\n",
       "    }\n",
       "</style>\n",
       "<table border=\"1\" class=\"dataframe\">\n",
       "  <thead>\n",
       "    <tr style=\"text-align: right;\">\n",
       "      <th></th>\n",
       "      <th>age</th>\n",
       "      <th>campaign</th>\n",
       "      <th>pdays</th>\n",
       "      <th>previous</th>\n",
       "      <th>emp.var.rate</th>\n",
       "      <th>cons.price.idx</th>\n",
       "      <th>cons.conf.idx</th>\n",
       "      <th>euribor3m</th>\n",
       "      <th>nr.employed</th>\n",
       "      <th>job</th>\n",
       "      <th>marital</th>\n",
       "      <th>education</th>\n",
       "      <th>default</th>\n",
       "      <th>housing</th>\n",
       "      <th>loan</th>\n",
       "      <th>contact</th>\n",
       "      <th>month</th>\n",
       "      <th>day_of_week</th>\n",
       "      <th>poutcome</th>\n",
       "      <th>deposito</th>\n",
       "    </tr>\n",
       "  </thead>\n",
       "  <tbody>\n",
       "    <tr>\n",
       "      <th>0</th>\n",
       "      <td>56</td>\n",
       "      <td>1</td>\n",
       "      <td>999</td>\n",
       "      <td>0</td>\n",
       "      <td>1.1</td>\n",
       "      <td>93.994</td>\n",
       "      <td>-36.4</td>\n",
       "      <td>4.857</td>\n",
       "      <td>5191.0</td>\n",
       "      <td>housemaid</td>\n",
       "      <td>married</td>\n",
       "      <td>basic.4y</td>\n",
       "      <td>no</td>\n",
       "      <td>no</td>\n",
       "      <td>no</td>\n",
       "      <td>telephone</td>\n",
       "      <td>may</td>\n",
       "      <td>mon</td>\n",
       "      <td>nonexistent</td>\n",
       "      <td>no</td>\n",
       "    </tr>\n",
       "    <tr>\n",
       "      <th>1</th>\n",
       "      <td>57</td>\n",
       "      <td>1</td>\n",
       "      <td>999</td>\n",
       "      <td>0</td>\n",
       "      <td>1.1</td>\n",
       "      <td>93.994</td>\n",
       "      <td>-36.4</td>\n",
       "      <td>4.857</td>\n",
       "      <td>5191.0</td>\n",
       "      <td>services</td>\n",
       "      <td>married</td>\n",
       "      <td>high.school</td>\n",
       "      <td>no</td>\n",
       "      <td>no</td>\n",
       "      <td>no</td>\n",
       "      <td>telephone</td>\n",
       "      <td>may</td>\n",
       "      <td>mon</td>\n",
       "      <td>nonexistent</td>\n",
       "      <td>no</td>\n",
       "    </tr>\n",
       "    <tr>\n",
       "      <th>2</th>\n",
       "      <td>37</td>\n",
       "      <td>1</td>\n",
       "      <td>999</td>\n",
       "      <td>0</td>\n",
       "      <td>1.1</td>\n",
       "      <td>93.994</td>\n",
       "      <td>-36.4</td>\n",
       "      <td>4.857</td>\n",
       "      <td>5191.0</td>\n",
       "      <td>services</td>\n",
       "      <td>married</td>\n",
       "      <td>high.school</td>\n",
       "      <td>no</td>\n",
       "      <td>yes</td>\n",
       "      <td>no</td>\n",
       "      <td>telephone</td>\n",
       "      <td>may</td>\n",
       "      <td>mon</td>\n",
       "      <td>nonexistent</td>\n",
       "      <td>no</td>\n",
       "    </tr>\n",
       "    <tr>\n",
       "      <th>3</th>\n",
       "      <td>40</td>\n",
       "      <td>1</td>\n",
       "      <td>999</td>\n",
       "      <td>0</td>\n",
       "      <td>1.1</td>\n",
       "      <td>93.994</td>\n",
       "      <td>-36.4</td>\n",
       "      <td>4.857</td>\n",
       "      <td>5191.0</td>\n",
       "      <td>admin.</td>\n",
       "      <td>married</td>\n",
       "      <td>basic.6y</td>\n",
       "      <td>no</td>\n",
       "      <td>no</td>\n",
       "      <td>no</td>\n",
       "      <td>telephone</td>\n",
       "      <td>may</td>\n",
       "      <td>mon</td>\n",
       "      <td>nonexistent</td>\n",
       "      <td>no</td>\n",
       "    </tr>\n",
       "    <tr>\n",
       "      <th>4</th>\n",
       "      <td>56</td>\n",
       "      <td>1</td>\n",
       "      <td>999</td>\n",
       "      <td>0</td>\n",
       "      <td>1.1</td>\n",
       "      <td>93.994</td>\n",
       "      <td>-36.4</td>\n",
       "      <td>4.857</td>\n",
       "      <td>5191.0</td>\n",
       "      <td>services</td>\n",
       "      <td>married</td>\n",
       "      <td>high.school</td>\n",
       "      <td>no</td>\n",
       "      <td>no</td>\n",
       "      <td>yes</td>\n",
       "      <td>telephone</td>\n",
       "      <td>may</td>\n",
       "      <td>mon</td>\n",
       "      <td>nonexistent</td>\n",
       "      <td>no</td>\n",
       "    </tr>\n",
       "    <tr>\n",
       "      <th>...</th>\n",
       "      <td>...</td>\n",
       "      <td>...</td>\n",
       "      <td>...</td>\n",
       "      <td>...</td>\n",
       "      <td>...</td>\n",
       "      <td>...</td>\n",
       "      <td>...</td>\n",
       "      <td>...</td>\n",
       "      <td>...</td>\n",
       "      <td>...</td>\n",
       "      <td>...</td>\n",
       "      <td>...</td>\n",
       "      <td>...</td>\n",
       "      <td>...</td>\n",
       "      <td>...</td>\n",
       "      <td>...</td>\n",
       "      <td>...</td>\n",
       "      <td>...</td>\n",
       "      <td>...</td>\n",
       "      <td>...</td>\n",
       "    </tr>\n",
       "    <tr>\n",
       "      <th>39074</th>\n",
       "      <td>73</td>\n",
       "      <td>1</td>\n",
       "      <td>999</td>\n",
       "      <td>0</td>\n",
       "      <td>-1.1</td>\n",
       "      <td>94.767</td>\n",
       "      <td>-50.8</td>\n",
       "      <td>1.028</td>\n",
       "      <td>4963.6</td>\n",
       "      <td>retired</td>\n",
       "      <td>married</td>\n",
       "      <td>professional.course</td>\n",
       "      <td>no</td>\n",
       "      <td>yes</td>\n",
       "      <td>no</td>\n",
       "      <td>cellular</td>\n",
       "      <td>nov</td>\n",
       "      <td>fri</td>\n",
       "      <td>nonexistent</td>\n",
       "      <td>yes</td>\n",
       "    </tr>\n",
       "    <tr>\n",
       "      <th>39075</th>\n",
       "      <td>46</td>\n",
       "      <td>1</td>\n",
       "      <td>999</td>\n",
       "      <td>0</td>\n",
       "      <td>-1.1</td>\n",
       "      <td>94.767</td>\n",
       "      <td>-50.8</td>\n",
       "      <td>1.028</td>\n",
       "      <td>4963.6</td>\n",
       "      <td>blue-collar</td>\n",
       "      <td>married</td>\n",
       "      <td>professional.course</td>\n",
       "      <td>no</td>\n",
       "      <td>no</td>\n",
       "      <td>no</td>\n",
       "      <td>cellular</td>\n",
       "      <td>nov</td>\n",
       "      <td>fri</td>\n",
       "      <td>nonexistent</td>\n",
       "      <td>no</td>\n",
       "    </tr>\n",
       "    <tr>\n",
       "      <th>39076</th>\n",
       "      <td>56</td>\n",
       "      <td>2</td>\n",
       "      <td>999</td>\n",
       "      <td>0</td>\n",
       "      <td>-1.1</td>\n",
       "      <td>94.767</td>\n",
       "      <td>-50.8</td>\n",
       "      <td>1.028</td>\n",
       "      <td>4963.6</td>\n",
       "      <td>retired</td>\n",
       "      <td>married</td>\n",
       "      <td>university.degree</td>\n",
       "      <td>no</td>\n",
       "      <td>yes</td>\n",
       "      <td>no</td>\n",
       "      <td>cellular</td>\n",
       "      <td>nov</td>\n",
       "      <td>fri</td>\n",
       "      <td>nonexistent</td>\n",
       "      <td>no</td>\n",
       "    </tr>\n",
       "    <tr>\n",
       "      <th>39077</th>\n",
       "      <td>44</td>\n",
       "      <td>1</td>\n",
       "      <td>999</td>\n",
       "      <td>0</td>\n",
       "      <td>-1.1</td>\n",
       "      <td>94.767</td>\n",
       "      <td>-50.8</td>\n",
       "      <td>1.028</td>\n",
       "      <td>4963.6</td>\n",
       "      <td>technician</td>\n",
       "      <td>married</td>\n",
       "      <td>professional.course</td>\n",
       "      <td>no</td>\n",
       "      <td>no</td>\n",
       "      <td>no</td>\n",
       "      <td>cellular</td>\n",
       "      <td>nov</td>\n",
       "      <td>fri</td>\n",
       "      <td>nonexistent</td>\n",
       "      <td>yes</td>\n",
       "    </tr>\n",
       "    <tr>\n",
       "      <th>39078</th>\n",
       "      <td>74</td>\n",
       "      <td>3</td>\n",
       "      <td>999</td>\n",
       "      <td>1</td>\n",
       "      <td>-1.1</td>\n",
       "      <td>94.767</td>\n",
       "      <td>-50.8</td>\n",
       "      <td>1.028</td>\n",
       "      <td>4963.6</td>\n",
       "      <td>retired</td>\n",
       "      <td>married</td>\n",
       "      <td>professional.course</td>\n",
       "      <td>no</td>\n",
       "      <td>yes</td>\n",
       "      <td>no</td>\n",
       "      <td>cellular</td>\n",
       "      <td>nov</td>\n",
       "      <td>fri</td>\n",
       "      <td>failure</td>\n",
       "      <td>no</td>\n",
       "    </tr>\n",
       "  </tbody>\n",
       "</table>\n",
       "<p>39079 rows × 20 columns</p>\n",
       "</div>"
      ],
      "text/plain": [
       "       age  campaign  pdays  previous  emp.var.rate  cons.price.idx  \\\n",
       "0       56         1    999         0           1.1          93.994   \n",
       "1       57         1    999         0           1.1          93.994   \n",
       "2       37         1    999         0           1.1          93.994   \n",
       "3       40         1    999         0           1.1          93.994   \n",
       "4       56         1    999         0           1.1          93.994   \n",
       "...    ...       ...    ...       ...           ...             ...   \n",
       "39074   73         1    999         0          -1.1          94.767   \n",
       "39075   46         1    999         0          -1.1          94.767   \n",
       "39076   56         2    999         0          -1.1          94.767   \n",
       "39077   44         1    999         0          -1.1          94.767   \n",
       "39078   74         3    999         1          -1.1          94.767   \n",
       "\n",
       "       cons.conf.idx  euribor3m  nr.employed          job  marital  \\\n",
       "0              -36.4      4.857       5191.0    housemaid  married   \n",
       "1              -36.4      4.857       5191.0     services  married   \n",
       "2              -36.4      4.857       5191.0     services  married   \n",
       "3              -36.4      4.857       5191.0       admin.  married   \n",
       "4              -36.4      4.857       5191.0     services  married   \n",
       "...              ...        ...          ...          ...      ...   \n",
       "39074          -50.8      1.028       4963.6      retired  married   \n",
       "39075          -50.8      1.028       4963.6  blue-collar  married   \n",
       "39076          -50.8      1.028       4963.6      retired  married   \n",
       "39077          -50.8      1.028       4963.6   technician  married   \n",
       "39078          -50.8      1.028       4963.6      retired  married   \n",
       "\n",
       "                 education default housing loan    contact month day_of_week  \\\n",
       "0                 basic.4y      no      no   no  telephone   may         mon   \n",
       "1              high.school      no      no   no  telephone   may         mon   \n",
       "2              high.school      no     yes   no  telephone   may         mon   \n",
       "3                 basic.6y      no      no   no  telephone   may         mon   \n",
       "4              high.school      no      no  yes  telephone   may         mon   \n",
       "...                    ...     ...     ...  ...        ...   ...         ...   \n",
       "39074  professional.course      no     yes   no   cellular   nov         fri   \n",
       "39075  professional.course      no      no   no   cellular   nov         fri   \n",
       "39076    university.degree      no     yes   no   cellular   nov         fri   \n",
       "39077  professional.course      no      no   no   cellular   nov         fri   \n",
       "39078  professional.course      no     yes   no   cellular   nov         fri   \n",
       "\n",
       "          poutcome deposito  \n",
       "0      nonexistent       no  \n",
       "1      nonexistent       no  \n",
       "2      nonexistent       no  \n",
       "3      nonexistent       no  \n",
       "4      nonexistent       no  \n",
       "...            ...      ...  \n",
       "39074  nonexistent      yes  \n",
       "39075  nonexistent       no  \n",
       "39076  nonexistent       no  \n",
       "39077  nonexistent      yes  \n",
       "39078      failure       no  \n",
       "\n",
       "[39079 rows x 20 columns]"
      ]
     },
     "execution_count": 39,
     "metadata": {},
     "output_type": "execute_result"
    }
   ],
   "source": [
    "df"
   ]
  },
  {
   "cell_type": "markdown",
   "id": "f05a1e4f",
   "metadata": {},
   "source": [
    "# Visualization Data "
   ]
  },
  {
   "cell_type": "markdown",
   "id": "fda5eedb",
   "metadata": {},
   "source": [
    "**Mendefinisikan kembali variabel numerik dan kategorik**"
   ]
  },
  {
   "cell_type": "code",
   "execution_count": 40,
   "id": "853224c1",
   "metadata": {},
   "outputs": [],
   "source": [
    "numerical_columns = list(df.select_dtypes(include=['int64']).columns.values) + list(df.select_dtypes(include=['float64']).columns.values)\n",
    "categorical_columns = list(df.select_dtypes(include=['object']))"
   ]
  },
  {
   "cell_type": "markdown",
   "id": "efc31bac",
   "metadata": {},
   "source": [
    "## Categorical"
   ]
  },
  {
   "cell_type": "code",
   "execution_count": 41,
   "id": "0844caf3",
   "metadata": {
    "scrolled": false
   },
   "outputs": [
    {
     "data": {
      "image/png": "[encoded data removed]",
      "text/plain": [
       "<Figure size 1080x1080 with 11 Axes>"
      ]
     },
     "metadata": {
      "needs_background": "light"
     },
     "output_type": "display_data"
    }
   ],
   "source": [
    "plt.figure(figsize=(15, 15))\n",
    "\n",
    "for i, column in enumerate(categorical_columns, 1):\n",
    "    plt.subplot(4, 3, i)\n",
    "    df[df[\"deposito\"] == 'no'][column].hist(bins=35, color='blue', label='Deposito = NO', alpha=0.6)\n",
    "    df[df[\"deposito\"] == 'yes'][column].hist(bins=35, color='red', label='Deposito = YES', alpha=0.6)\n",
    "    plt.legend()\n",
    "    plt.xlabel(column)\n",
    "    plt.tight_layout()\n",
    "    plt.xticks(rotation=30)"
   ]
  },
  {
   "cell_type": "markdown",
   "id": "b1e741ad",
   "metadata": {},
   "source": [
    "**Melihat nilai unik dan value_count kolom kategorik**"
   ]
  },
  {
   "cell_type": "code",
   "execution_count": 42,
   "id": "52489270",
   "metadata": {
    "scrolled": true
   },
   "outputs": [
    {
     "name": "stdout",
     "output_type": "stream",
     "text": [
      "Unique Values for:  JOB\n",
      "Count:  11\n",
      "-------------------------\n",
      "admin.           10106\n",
      "blue-collar       8717\n",
      "technician        6357\n",
      "services          3767\n",
      "management        2806\n",
      "retired           1676\n",
      "entrepreneur      1402\n",
      "self-employed     1381\n",
      "housemaid         1028\n",
      "unemployed         988\n",
      "student            851\n",
      "Name: job, dtype: int64\n",
      "==================================================\n",
      "Unique Values for:  MARITAL\n",
      "Count:  3\n",
      "-------------------------\n",
      "married     23693\n",
      "single      10938\n",
      "divorced     4448\n",
      "Name: marital, dtype: int64\n",
      "==================================================\n",
      "Unique Values for:  EDUCATION\n",
      "Count:  7\n",
      "-------------------------\n",
      "university.degree      13144\n",
      "high.school             9060\n",
      "basic.9y                5718\n",
      "professional.course     4985\n",
      "basic.4y                3947\n",
      "basic.6y                2207\n",
      "illiterate                18\n",
      "Name: education, dtype: int64\n",
      "==================================================\n",
      "Unique Values for:  DEFAULT\n",
      "Count:  2\n",
      "-------------------------\n",
      "no     39076\n",
      "yes        3\n",
      "Name: default, dtype: int64\n",
      "==================================================\n",
      "Unique Values for:  HOUSING\n",
      "Count:  2\n",
      "-------------------------\n",
      "yes    21329\n",
      "no     17750\n",
      "Name: housing, dtype: int64\n",
      "==================================================\n",
      "Unique Values for:  LOAN\n",
      "Count:  2\n",
      "-------------------------\n",
      "no     32913\n",
      "yes     6166\n",
      "Name: loan, dtype: int64\n",
      "==================================================\n",
      "Unique Values for:  CONTACT\n",
      "Count:  2\n",
      "-------------------------\n",
      "cellular     24495\n",
      "telephone    14584\n",
      "Name: contact, dtype: int64\n",
      "==================================================\n",
      "Unique Values for:  MONTH\n",
      "Count:  10\n",
      "-------------------------\n",
      "may    13163\n",
      "jul     6644\n",
      "aug     5656\n",
      "jun     5220\n",
      "nov     3886\n",
      "apr     2529\n",
      "oct      706\n",
      "sep      564\n",
      "mar      530\n",
      "dec      181\n",
      "Name: month, dtype: int64\n",
      "==================================================\n",
      "Unique Values for:  DAY_OF_WEEK\n",
      "Count:  5\n",
      "-------------------------\n",
      "mon    8122\n",
      "thu    8119\n",
      "wed    7713\n",
      "tue    7622\n",
      "fri    7503\n",
      "Name: day_of_week, dtype: int64\n",
      "==================================================\n",
      "Unique Values for:  POUTCOME\n",
      "Count:  3\n",
      "-------------------------\n",
      "nonexistent    33540\n",
      "failure         4167\n",
      "success         1372\n",
      "Name: poutcome, dtype: int64\n",
      "==================================================\n",
      "Unique Values for:  DEPOSITO\n",
      "Count:  2\n",
      "-------------------------\n",
      "no     34484\n",
      "yes     4595\n",
      "Name: deposito, dtype: int64\n",
      "==================================================\n"
     ]
    }
   ],
   "source": [
    "for cat_col in categorical_columns:\n",
    "    print(\"Unique Values for: \", cat_col.upper())\n",
    "    print(\"Count: \", df[cat_col].nunique())\n",
    "    print(\"-\"*25)\n",
    "    print(df[cat_col].value_counts())\n",
    "    print('='*50)"
   ]
  },
  {
   "cell_type": "code",
   "execution_count": 43,
   "id": "9ab737bc",
   "metadata": {},
   "outputs": [
    {
     "data": {
      "text/plain": [
       "no     39076\n",
       "yes        3\n",
       "Name: default, dtype: int64"
      ]
     },
     "execution_count": 43,
     "metadata": {},
     "output_type": "execute_result"
    }
   ],
   "source": [
    "df['default'].value_counts()"
   ]
  },
  {
   "cell_type": "markdown",
   "id": "d647825e",
   "metadata": {},
   "source": [
    "Dapat dilihat dari grafik dan dari nilai value_count, bahwa terdapat kolom yang sangat tidak seimbang dan memiliki nilai yang tidak unik, yakni variabel 'default'. Sehingga akan dilakukan penghapusan kolom tersebut."
   ]
  },
  {
   "cell_type": "markdown",
   "id": "5c98e4b7",
   "metadata": {},
   "source": [
    "**Penghapusan kolom 'default'**"
   ]
  },
  {
   "cell_type": "code",
   "execution_count": 44,
   "id": "a3a2dd5d",
   "metadata": {},
   "outputs": [
    {
     "data": {
      "text/html": [
       "<div>\n",
       "<style scoped>\n",
       "    .dataframe tbody tr th:only-of-type {\n",
       "        vertical-align: middle;\n",
       "    }\n",
       "\n",
       "    .dataframe tbody tr th {\n",
       "        vertical-align: top;\n",
       "    }\n",
       "\n",
       "    .dataframe thead th {\n",
       "        text-align: right;\n",
       "    }\n",
       "</style>\n",
       "<table border=\"1\" class=\"dataframe\">\n",
       "  <thead>\n",
       "    <tr style=\"text-align: right;\">\n",
       "      <th></th>\n",
       "      <th>age</th>\n",
       "      <th>campaign</th>\n",
       "      <th>pdays</th>\n",
       "      <th>previous</th>\n",
       "      <th>emp.var.rate</th>\n",
       "      <th>cons.price.idx</th>\n",
       "      <th>cons.conf.idx</th>\n",
       "      <th>euribor3m</th>\n",
       "      <th>nr.employed</th>\n",
       "      <th>job</th>\n",
       "      <th>marital</th>\n",
       "      <th>education</th>\n",
       "      <th>housing</th>\n",
       "      <th>loan</th>\n",
       "      <th>contact</th>\n",
       "      <th>month</th>\n",
       "      <th>day_of_week</th>\n",
       "      <th>poutcome</th>\n",
       "      <th>deposito</th>\n",
       "    </tr>\n",
       "  </thead>\n",
       "  <tbody>\n",
       "    <tr>\n",
       "      <th>0</th>\n",
       "      <td>56</td>\n",
       "      <td>1</td>\n",
       "      <td>999</td>\n",
       "      <td>0</td>\n",
       "      <td>1.1</td>\n",
       "      <td>93.994</td>\n",
       "      <td>-36.4</td>\n",
       "      <td>4.857</td>\n",
       "      <td>5191.0</td>\n",
       "      <td>housemaid</td>\n",
       "      <td>married</td>\n",
       "      <td>basic.4y</td>\n",
       "      <td>no</td>\n",
       "      <td>no</td>\n",
       "      <td>telephone</td>\n",
       "      <td>may</td>\n",
       "      <td>mon</td>\n",
       "      <td>nonexistent</td>\n",
       "      <td>no</td>\n",
       "    </tr>\n",
       "    <tr>\n",
       "      <th>1</th>\n",
       "      <td>57</td>\n",
       "      <td>1</td>\n",
       "      <td>999</td>\n",
       "      <td>0</td>\n",
       "      <td>1.1</td>\n",
       "      <td>93.994</td>\n",
       "      <td>-36.4</td>\n",
       "      <td>4.857</td>\n",
       "      <td>5191.0</td>\n",
       "      <td>services</td>\n",
       "      <td>married</td>\n",
       "      <td>high.school</td>\n",
       "      <td>no</td>\n",
       "      <td>no</td>\n",
       "      <td>telephone</td>\n",
       "      <td>may</td>\n",
       "      <td>mon</td>\n",
       "      <td>nonexistent</td>\n",
       "      <td>no</td>\n",
       "    </tr>\n",
       "    <tr>\n",
       "      <th>2</th>\n",
       "      <td>37</td>\n",
       "      <td>1</td>\n",
       "      <td>999</td>\n",
       "      <td>0</td>\n",
       "      <td>1.1</td>\n",
       "      <td>93.994</td>\n",
       "      <td>-36.4</td>\n",
       "      <td>4.857</td>\n",
       "      <td>5191.0</td>\n",
       "      <td>services</td>\n",
       "      <td>married</td>\n",
       "      <td>high.school</td>\n",
       "      <td>yes</td>\n",
       "      <td>no</td>\n",
       "      <td>telephone</td>\n",
       "      <td>may</td>\n",
       "      <td>mon</td>\n",
       "      <td>nonexistent</td>\n",
       "      <td>no</td>\n",
       "    </tr>\n",
       "    <tr>\n",
       "      <th>3</th>\n",
       "      <td>40</td>\n",
       "      <td>1</td>\n",
       "      <td>999</td>\n",
       "      <td>0</td>\n",
       "      <td>1.1</td>\n",
       "      <td>93.994</td>\n",
       "      <td>-36.4</td>\n",
       "      <td>4.857</td>\n",
       "      <td>5191.0</td>\n",
       "      <td>admin.</td>\n",
       "      <td>married</td>\n",
       "      <td>basic.6y</td>\n",
       "      <td>no</td>\n",
       "      <td>no</td>\n",
       "      <td>telephone</td>\n",
       "      <td>may</td>\n",
       "      <td>mon</td>\n",
       "      <td>nonexistent</td>\n",
       "      <td>no</td>\n",
       "    </tr>\n",
       "    <tr>\n",
       "      <th>4</th>\n",
       "      <td>56</td>\n",
       "      <td>1</td>\n",
       "      <td>999</td>\n",
       "      <td>0</td>\n",
       "      <td>1.1</td>\n",
       "      <td>93.994</td>\n",
       "      <td>-36.4</td>\n",
       "      <td>4.857</td>\n",
       "      <td>5191.0</td>\n",
       "      <td>services</td>\n",
       "      <td>married</td>\n",
       "      <td>high.school</td>\n",
       "      <td>no</td>\n",
       "      <td>yes</td>\n",
       "      <td>telephone</td>\n",
       "      <td>may</td>\n",
       "      <td>mon</td>\n",
       "      <td>nonexistent</td>\n",
       "      <td>no</td>\n",
       "    </tr>\n",
       "  </tbody>\n",
       "</table>\n",
       "</div>"
      ],
      "text/plain": [
       "   age  campaign  pdays  previous  emp.var.rate  cons.price.idx  \\\n",
       "0   56         1    999         0           1.1          93.994   \n",
       "1   57         1    999         0           1.1          93.994   \n",
       "2   37         1    999         0           1.1          93.994   \n",
       "3   40         1    999         0           1.1          93.994   \n",
       "4   56         1    999         0           1.1          93.994   \n",
       "\n",
       "   cons.conf.idx  euribor3m  nr.employed        job  marital    education  \\\n",
       "0          -36.4      4.857       5191.0  housemaid  married     basic.4y   \n",
       "1          -36.4      4.857       5191.0   services  married  high.school   \n",
       "2          -36.4      4.857       5191.0   services  married  high.school   \n",
       "3          -36.4      4.857       5191.0     admin.  married     basic.6y   \n",
       "4          -36.4      4.857       5191.0   services  married  high.school   \n",
       "\n",
       "  housing loan    contact month day_of_week     poutcome deposito  \n",
       "0      no   no  telephone   may         mon  nonexistent       no  \n",
       "1      no   no  telephone   may         mon  nonexistent       no  \n",
       "2     yes   no  telephone   may         mon  nonexistent       no  \n",
       "3      no   no  telephone   may         mon  nonexistent       no  \n",
       "4      no  yes  telephone   may         mon  nonexistent       no  "
      ]
     },
     "execution_count": 44,
     "metadata": {},
     "output_type": "execute_result"
    }
   ],
   "source": [
    "df.drop('default',inplace=True, axis=1)\n",
    "df.head()"
   ]
  },
  {
   "cell_type": "markdown",
   "id": "137e979c",
   "metadata": {},
   "source": [
    "## Numerical"
   ]
  },
  {
   "cell_type": "code",
   "execution_count": 45,
   "id": "f3cfbad9",
   "metadata": {
    "scrolled": false
   },
   "outputs": [
    {
     "data": {
      "image/png": "[encoded data removed]",
      "text/plain": [
       "<Figure size 1440x1440 with 9 Axes>"
      ]
     },
     "metadata": {
      "needs_background": "light"
     },
     "output_type": "display_data"
    }
   ],
   "source": [
    "plt.figure(figsize=(20, 20))\n",
    "\n",
    "for i, column in enumerate(numerical_columns, 1):\n",
    "    plt.subplot(4, 3, i)\n",
    "    df[df[\"deposito\"] == 'no'][column].hist(bins=35, color='blue', label='Deposito = NO', alpha=0.6)\n",
    "    df[df[\"deposito\"] == 'yes'][column].hist(bins=35, color='red', label='Deposito = YES', alpha=0.6)\n",
    "    plt.legend()\n",
    "    plt.xlabel(column)"
   ]
  },
  {
   "cell_type": "code",
   "execution_count": 46,
   "id": "dd507e2a",
   "metadata": {
    "scrolled": true
   },
   "outputs": [
    {
     "name": "stdout",
     "output_type": "stream",
     "text": [
      "Unique Values for:  AGE\n",
      "Count:  78\n",
      "-------------------------\n",
      "31    1809\n",
      "32    1746\n",
      "33    1719\n",
      "35    1659\n",
      "36    1653\n",
      "      ... \n",
      "89       2\n",
      "91       2\n",
      "94       1\n",
      "87       1\n",
      "95       1\n",
      "Name: age, Length: 78, dtype: int64\n",
      "==================================================\n",
      "Unique Values for:  CAMPAIGN\n",
      "Count:  42\n",
      "-------------------------\n",
      "1     16155\n",
      "2     10145\n",
      "3      5206\n",
      "4      2621\n",
      "5      1585\n",
      "6       972\n",
      "7       622\n",
      "8       399\n",
      "9       282\n",
      "10      224\n",
      "11      177\n",
      "12      125\n",
      "13       91\n",
      "14       69\n",
      "17       58\n",
      "16       51\n",
      "15       51\n",
      "18       33\n",
      "20       30\n",
      "19       26\n",
      "21       24\n",
      "22       17\n",
      "23       16\n",
      "24       15\n",
      "27       11\n",
      "29       10\n",
      "28        8\n",
      "26        8\n",
      "25        8\n",
      "31        7\n",
      "30        7\n",
      "35        5\n",
      "32        4\n",
      "33        4\n",
      "34        3\n",
      "42        2\n",
      "40        2\n",
      "43        2\n",
      "56        1\n",
      "39        1\n",
      "41        1\n",
      "37        1\n",
      "Name: campaign, dtype: int64\n",
      "==================================================\n",
      "Unique Values for:  PDAYS\n",
      "Count:  27\n",
      "-------------------------\n",
      "999    37565\n",
      "3        438\n",
      "6        412\n",
      "4        118\n",
      "9         64\n",
      "2         61\n",
      "7         60\n",
      "12        58\n",
      "10        52\n",
      "5         46\n",
      "13        36\n",
      "11        28\n",
      "1         26\n",
      "15        24\n",
      "14        20\n",
      "8         18\n",
      "0         15\n",
      "16        11\n",
      "17         8\n",
      "18         7\n",
      "22         3\n",
      "19         3\n",
      "21         2\n",
      "25         1\n",
      "26         1\n",
      "27         1\n",
      "20         1\n",
      "Name: pdays, dtype: int64\n",
      "==================================================\n",
      "Unique Values for:  PREVIOUS\n",
      "Count:  8\n",
      "-------------------------\n",
      "0    33540\n",
      "1     4477\n",
      "2      752\n",
      "3      216\n",
      "4       70\n",
      "5       18\n",
      "6        5\n",
      "7        1\n",
      "Name: previous, dtype: int64\n",
      "==================================================\n",
      "Unique Values for:  EMP.VAR.RATE\n",
      "Count:  10\n",
      "-------------------------\n",
      " 1.4    15122\n",
      "-1.8     8814\n",
      " 1.1     7408\n",
      "-0.1     3472\n",
      "-2.9     1628\n",
      "-3.4     1051\n",
      "-1.7      770\n",
      "-1.1      633\n",
      "-3.0      171\n",
      "-0.2       10\n",
      "Name: emp.var.rate, dtype: int64\n",
      "==================================================\n",
      "Unique Values for:  CONS.PRICE.IDX\n",
      "Count:  26\n",
      "-------------------------\n",
      "93.994    7408\n",
      "93.918    6156\n",
      "92.893    5543\n",
      "93.444    4671\n",
      "94.465    4295\n",
      "93.200    3405\n",
      "93.075    2356\n",
      "92.201     754\n",
      "92.963     697\n",
      "92.431     435\n",
      "92.649     353\n",
      "94.215     311\n",
      "94.199     301\n",
      "92.843     266\n",
      "93.369     264\n",
      "92.379     263\n",
      "94.027     231\n",
      "94.055     228\n",
      "93.876     212\n",
      "94.601     204\n",
      "92.469     177\n",
      "93.749     173\n",
      "92.713     171\n",
      "94.767     128\n",
      "93.798      67\n",
      "92.756      10\n",
      "Name: cons.price.idx, dtype: int64\n",
      "==================================================\n",
      "Unique Values for:  CONS.CONF.IDX\n",
      "Count:  26\n",
      "-------------------------\n",
      "-36.4    7408\n",
      "-42.7    6156\n",
      "-46.2    5543\n",
      "-36.1    4671\n",
      "-41.8    4295\n",
      "-42.0    3405\n",
      "-47.1    2356\n",
      "-31.4     754\n",
      "-40.8     697\n",
      "-26.9     435\n",
      "-30.1     353\n",
      "-40.3     311\n",
      "-37.5     301\n",
      "-50.0     266\n",
      "-34.8     264\n",
      "-29.8     263\n",
      "-38.3     231\n",
      "-39.8     228\n",
      "-40.0     212\n",
      "-49.5     204\n",
      "-33.6     177\n",
      "-34.6     173\n",
      "-33.0     171\n",
      "-50.8     128\n",
      "-40.4      67\n",
      "-45.9      10\n",
      "Name: cons.conf.idx, dtype: int64\n",
      "==================================================\n",
      "Unique Values for:  EURIBOR3M\n",
      "Count:  316\n",
      "-------------------------\n",
      "4.857    2715\n",
      "4.962    2410\n",
      "4.963    2247\n",
      "4.961    1821\n",
      "4.856    1140\n",
      "         ... \n",
      "3.853       1\n",
      "3.329       1\n",
      "3.488       1\n",
      "0.956       1\n",
      "3.816       1\n",
      "Name: euribor3m, Length: 316, dtype: int64\n",
      "==================================================\n",
      "Unique Values for:  NR.EMPLOYED\n",
      "Count:  11\n",
      "-------------------------\n",
      "5228.1    15122\n",
      "5099.1     8165\n",
      "5191.0     7408\n",
      "5195.8     3472\n",
      "5076.2     1628\n",
      "5017.5     1051\n",
      "4991.6      770\n",
      "5008.7      649\n",
      "4963.6      633\n",
      "5023.5      171\n",
      "5176.3       10\n",
      "Name: nr.employed, dtype: int64\n",
      "==================================================\n"
     ]
    }
   ],
   "source": [
    "for num_col in numerical_columns:\n",
    "    print(\"Unique Values for: \", num_col.upper())\n",
    "    print(\"Count: \", df[num_col].nunique())\n",
    "    print(\"-\"*25)\n",
    "    print(df[num_col].value_counts())\n",
    "    print('='*50)"
   ]
  },
  {
   "cell_type": "code",
   "execution_count": 47,
   "id": "fbead31f",
   "metadata": {},
   "outputs": [
    {
     "data": {
      "text/plain": [
       "999    37565\n",
       "3        438\n",
       "6        412\n",
       "4        118\n",
       "9         64\n",
       "2         61\n",
       "7         60\n",
       "12        58\n",
       "10        52\n",
       "5         46\n",
       "13        36\n",
       "11        28\n",
       "1         26\n",
       "15        24\n",
       "14        20\n",
       "8         18\n",
       "0         15\n",
       "16        11\n",
       "17         8\n",
       "18         7\n",
       "22         3\n",
       "19         3\n",
       "21         2\n",
       "25         1\n",
       "26         1\n",
       "27         1\n",
       "20         1\n",
       "Name: pdays, dtype: int64"
      ]
     },
     "execution_count": 47,
     "metadata": {},
     "output_type": "execute_result"
    }
   ],
   "source": [
    "df['pdays'].value_counts()"
   ]
  },
  {
   "cell_type": "markdown",
   "id": "20604e8d",
   "metadata": {},
   "source": [
    "**Penghapusan kolom 'pdays'**"
   ]
  },
  {
   "cell_type": "markdown",
   "id": "ee24341a",
   "metadata": {},
   "source": [
    "Dapat dilihat dari grafik dan dari nilai value_count, bahwa kolom 'pdays' memiliki value dengan nilai range yang sangat jauh terhadap value lainnya. Hal ini dikarenakan terdapat value '999' yang dikategorikan sebagai customer yang tidak pernah dikontak dari campaign sebelumnya, sehingga tidak bisa dikategorikan terhadap value lainnya. Maka akan dilakukan penghapusan kolom tersebut."
   ]
  },
  {
   "cell_type": "code",
   "execution_count": 48,
   "id": "883cd8ac",
   "metadata": {},
   "outputs": [
    {
     "data": {
      "text/html": [
       "<div>\n",
       "<style scoped>\n",
       "    .dataframe tbody tr th:only-of-type {\n",
       "        vertical-align: middle;\n",
       "    }\n",
       "\n",
       "    .dataframe tbody tr th {\n",
       "        vertical-align: top;\n",
       "    }\n",
       "\n",
       "    .dataframe thead th {\n",
       "        text-align: right;\n",
       "    }\n",
       "</style>\n",
       "<table border=\"1\" class=\"dataframe\">\n",
       "  <thead>\n",
       "    <tr style=\"text-align: right;\">\n",
       "      <th></th>\n",
       "      <th>age</th>\n",
       "      <th>campaign</th>\n",
       "      <th>previous</th>\n",
       "      <th>emp.var.rate</th>\n",
       "      <th>cons.price.idx</th>\n",
       "      <th>cons.conf.idx</th>\n",
       "      <th>euribor3m</th>\n",
       "      <th>nr.employed</th>\n",
       "      <th>job</th>\n",
       "      <th>marital</th>\n",
       "      <th>education</th>\n",
       "      <th>housing</th>\n",
       "      <th>loan</th>\n",
       "      <th>contact</th>\n",
       "      <th>month</th>\n",
       "      <th>day_of_week</th>\n",
       "      <th>poutcome</th>\n",
       "      <th>deposito</th>\n",
       "    </tr>\n",
       "  </thead>\n",
       "  <tbody>\n",
       "    <tr>\n",
       "      <th>0</th>\n",
       "      <td>56</td>\n",
       "      <td>1</td>\n",
       "      <td>0</td>\n",
       "      <td>1.1</td>\n",
       "      <td>93.994</td>\n",
       "      <td>-36.4</td>\n",
       "      <td>4.857</td>\n",
       "      <td>5191.0</td>\n",
       "      <td>housemaid</td>\n",
       "      <td>married</td>\n",
       "      <td>basic.4y</td>\n",
       "      <td>no</td>\n",
       "      <td>no</td>\n",
       "      <td>telephone</td>\n",
       "      <td>may</td>\n",
       "      <td>mon</td>\n",
       "      <td>nonexistent</td>\n",
       "      <td>no</td>\n",
       "    </tr>\n",
       "    <tr>\n",
       "      <th>1</th>\n",
       "      <td>57</td>\n",
       "      <td>1</td>\n",
       "      <td>0</td>\n",
       "      <td>1.1</td>\n",
       "      <td>93.994</td>\n",
       "      <td>-36.4</td>\n",
       "      <td>4.857</td>\n",
       "      <td>5191.0</td>\n",
       "      <td>services</td>\n",
       "      <td>married</td>\n",
       "      <td>high.school</td>\n",
       "      <td>no</td>\n",
       "      <td>no</td>\n",
       "      <td>telephone</td>\n",
       "      <td>may</td>\n",
       "      <td>mon</td>\n",
       "      <td>nonexistent</td>\n",
       "      <td>no</td>\n",
       "    </tr>\n",
       "    <tr>\n",
       "      <th>2</th>\n",
       "      <td>37</td>\n",
       "      <td>1</td>\n",
       "      <td>0</td>\n",
       "      <td>1.1</td>\n",
       "      <td>93.994</td>\n",
       "      <td>-36.4</td>\n",
       "      <td>4.857</td>\n",
       "      <td>5191.0</td>\n",
       "      <td>services</td>\n",
       "      <td>married</td>\n",
       "      <td>high.school</td>\n",
       "      <td>yes</td>\n",
       "      <td>no</td>\n",
       "      <td>telephone</td>\n",
       "      <td>may</td>\n",
       "      <td>mon</td>\n",
       "      <td>nonexistent</td>\n",
       "      <td>no</td>\n",
       "    </tr>\n",
       "    <tr>\n",
       "      <th>3</th>\n",
       "      <td>40</td>\n",
       "      <td>1</td>\n",
       "      <td>0</td>\n",
       "      <td>1.1</td>\n",
       "      <td>93.994</td>\n",
       "      <td>-36.4</td>\n",
       "      <td>4.857</td>\n",
       "      <td>5191.0</td>\n",
       "      <td>admin.</td>\n",
       "      <td>married</td>\n",
       "      <td>basic.6y</td>\n",
       "      <td>no</td>\n",
       "      <td>no</td>\n",
       "      <td>telephone</td>\n",
       "      <td>may</td>\n",
       "      <td>mon</td>\n",
       "      <td>nonexistent</td>\n",
       "      <td>no</td>\n",
       "    </tr>\n",
       "    <tr>\n",
       "      <th>4</th>\n",
       "      <td>56</td>\n",
       "      <td>1</td>\n",
       "      <td>0</td>\n",
       "      <td>1.1</td>\n",
       "      <td>93.994</td>\n",
       "      <td>-36.4</td>\n",
       "      <td>4.857</td>\n",
       "      <td>5191.0</td>\n",
       "      <td>services</td>\n",
       "      <td>married</td>\n",
       "      <td>high.school</td>\n",
       "      <td>no</td>\n",
       "      <td>yes</td>\n",
       "      <td>telephone</td>\n",
       "      <td>may</td>\n",
       "      <td>mon</td>\n",
       "      <td>nonexistent</td>\n",
       "      <td>no</td>\n",
       "    </tr>\n",
       "  </tbody>\n",
       "</table>\n",
       "</div>"
      ],
      "text/plain": [
       "   age  campaign  previous  emp.var.rate  cons.price.idx  cons.conf.idx  \\\n",
       "0   56         1         0           1.1          93.994          -36.4   \n",
       "1   57         1         0           1.1          93.994          -36.4   \n",
       "2   37         1         0           1.1          93.994          -36.4   \n",
       "3   40         1         0           1.1          93.994          -36.4   \n",
       "4   56         1         0           1.1          93.994          -36.4   \n",
       "\n",
       "   euribor3m  nr.employed        job  marital    education housing loan  \\\n",
       "0      4.857       5191.0  housemaid  married     basic.4y      no   no   \n",
       "1      4.857       5191.0   services  married  high.school      no   no   \n",
       "2      4.857       5191.0   services  married  high.school     yes   no   \n",
       "3      4.857       5191.0     admin.  married     basic.6y      no   no   \n",
       "4      4.857       5191.0   services  married  high.school      no  yes   \n",
       "\n",
       "     contact month day_of_week     poutcome deposito  \n",
       "0  telephone   may         mon  nonexistent       no  \n",
       "1  telephone   may         mon  nonexistent       no  \n",
       "2  telephone   may         mon  nonexistent       no  \n",
       "3  telephone   may         mon  nonexistent       no  \n",
       "4  telephone   may         mon  nonexistent       no  "
      ]
     },
     "execution_count": 48,
     "metadata": {},
     "output_type": "execute_result"
    }
   ],
   "source": [
    "df.drop('pdays',inplace=True, axis=1)\n",
    "df.head()"
   ]
  },
  {
   "cell_type": "markdown",
   "id": "f6cd4ac9",
   "metadata": {},
   "source": [
    "## Deposito (Target)"
   ]
  },
  {
   "cell_type": "markdown",
   "id": "2d3a8b27",
   "metadata": {},
   "source": [
    "**Melihat value_count pada kolom 'deposito'**"
   ]
  },
  {
   "cell_type": "code",
   "execution_count": 49,
   "id": "3216f2ef",
   "metadata": {
    "scrolled": true
   },
   "outputs": [
    {
     "data": {
      "text/plain": [
       "no     34484\n",
       "yes     4595\n",
       "Name: deposito, dtype: int64"
      ]
     },
     "execution_count": 49,
     "metadata": {},
     "output_type": "execute_result"
    }
   ],
   "source": [
    "df['deposito'].value_counts()"
   ]
  },
  {
   "cell_type": "markdown",
   "id": "50cc7663",
   "metadata": {},
   "source": [
    "**Membuat plot proporsi nilai pada kolom 'deposito'**"
   ]
  },
  {
   "cell_type": "code",
   "execution_count": 50,
   "id": "c8869e6e",
   "metadata": {},
   "outputs": [
    {
     "data": {
      "text/plain": [
       "<matplotlib.legend.Legend at 0x2a55cbdbf70>"
      ]
     },
     "execution_count": 50,
     "metadata": {},
     "output_type": "execute_result"
    },
    {
     "data": {
      "image/png": "[encoded data removed]",
      "text/plain": [
       "<Figure size 1152x432 with 2 Axes>"
      ]
     },
     "metadata": {
      "needs_background": "light"
     },
     "output_type": "display_data"
    }
   ],
   "source": [
    "fig, ax = plt.subplots(1,2,figsize=(16,6))\n",
    "\n",
    "# persentase \"berlangganan deposito\"\n",
    "df['deposito'].value_counts().plot(\n",
    "    kind='pie',\n",
    "    autopct='%.1f%%',\n",
    "    explode=[0,0.05], \n",
    "    cmap='cool',\n",
    "    shadow=True,\n",
    "    ax=ax[0]\n",
    ")\n",
    "ax[0].set_title('Persentase Berlangganan Deposito')\n",
    "ax[0].set_ylabel('')\n",
    "\n",
    "# Barchart besaran setiap nilai pada kelas target\n",
    "df.groupby('deposito').agg({'deposito':'count'}).plot(\n",
    "    kind='bar',\n",
    "    ax=ax[1]\n",
    ")\n",
    "ax[1].set_title('Grafik Proporsi Data Target (Deposito)')\n",
    "ax[1].set_ylabel('Jumlah')\n",
    "ax[1].set_xlabel('Berlangganan Deposito')\n",
    "ax[1].legend(title='Deposit')"
   ]
  },
  {
   "cell_type": "markdown",
   "id": "0df508f6",
   "metadata": {},
   "source": [
    "# Data Preprocessing"
   ]
  },
  {
   "cell_type": "markdown",
   "id": "82fc9b1e",
   "metadata": {},
   "source": [
    "## Encoding (Categorical)"
   ]
  },
  {
   "cell_type": "markdown",
   "id": "c1dda9cc",
   "metadata": {},
   "source": [
    "**Mendefinisikan kembali variabel numerik dan kategorik**"
   ]
  },
  {
   "cell_type": "code",
   "execution_count": 51,
   "id": "9f84fc66",
   "metadata": {},
   "outputs": [],
   "source": [
    "numerical_columns = list(df.select_dtypes(include=['int64']).columns.values) + list(df.select_dtypes(include=['float64']).columns.values)\n",
    "categorical_columns = list(df.select_dtypes(include=['object']))"
   ]
  },
  {
   "cell_type": "markdown",
   "id": "fda5ffc5",
   "metadata": {},
   "source": [
    "**Mengelompokkan data nominal dan ordinal dari variabel kategorik**"
   ]
  },
  {
   "cell_type": "code",
   "execution_count": 52,
   "id": "9ffef0f6",
   "metadata": {},
   "outputs": [],
   "source": [
    "nominal_columns = ['job', 'education', 'contact', 'month', 'day_of_week', 'poutcome']\n",
    "ordinal_columns = [col for col in categorical_columns if col not in nominal_columns]"
   ]
  },
  {
   "cell_type": "markdown",
   "id": "4c029c5a",
   "metadata": {},
   "source": [
    "**One Hot Encoding (Nominal)**"
   ]
  },
  {
   "cell_type": "code",
   "execution_count": 53,
   "id": "be2d285c",
   "metadata": {},
   "outputs": [
    {
     "data": {
      "text/html": [
       "<div>\n",
       "<style scoped>\n",
       "    .dataframe tbody tr th:only-of-type {\n",
       "        vertical-align: middle;\n",
       "    }\n",
       "\n",
       "    .dataframe tbody tr th {\n",
       "        vertical-align: top;\n",
       "    }\n",
       "\n",
       "    .dataframe thead th {\n",
       "        text-align: right;\n",
       "    }\n",
       "</style>\n",
       "<table border=\"1\" class=\"dataframe\">\n",
       "  <thead>\n",
       "    <tr style=\"text-align: right;\">\n",
       "      <th></th>\n",
       "      <th>job_admin.</th>\n",
       "      <th>job_blue-collar</th>\n",
       "      <th>job_entrepreneur</th>\n",
       "      <th>job_housemaid</th>\n",
       "      <th>job_management</th>\n",
       "      <th>job_retired</th>\n",
       "      <th>job_self-employed</th>\n",
       "      <th>job_services</th>\n",
       "      <th>job_student</th>\n",
       "      <th>job_technician</th>\n",
       "      <th>...</th>\n",
       "      <th>month_oct</th>\n",
       "      <th>month_sep</th>\n",
       "      <th>day_of_week_fri</th>\n",
       "      <th>day_of_week_mon</th>\n",
       "      <th>day_of_week_thu</th>\n",
       "      <th>day_of_week_tue</th>\n",
       "      <th>day_of_week_wed</th>\n",
       "      <th>poutcome_failure</th>\n",
       "      <th>poutcome_nonexistent</th>\n",
       "      <th>poutcome_success</th>\n",
       "    </tr>\n",
       "  </thead>\n",
       "  <tbody>\n",
       "    <tr>\n",
       "      <th>0</th>\n",
       "      <td>0</td>\n",
       "      <td>0</td>\n",
       "      <td>0</td>\n",
       "      <td>1</td>\n",
       "      <td>0</td>\n",
       "      <td>0</td>\n",
       "      <td>0</td>\n",
       "      <td>0</td>\n",
       "      <td>0</td>\n",
       "      <td>0</td>\n",
       "      <td>...</td>\n",
       "      <td>0</td>\n",
       "      <td>0</td>\n",
       "      <td>0</td>\n",
       "      <td>1</td>\n",
       "      <td>0</td>\n",
       "      <td>0</td>\n",
       "      <td>0</td>\n",
       "      <td>0</td>\n",
       "      <td>1</td>\n",
       "      <td>0</td>\n",
       "    </tr>\n",
       "    <tr>\n",
       "      <th>1</th>\n",
       "      <td>0</td>\n",
       "      <td>0</td>\n",
       "      <td>0</td>\n",
       "      <td>0</td>\n",
       "      <td>0</td>\n",
       "      <td>0</td>\n",
       "      <td>0</td>\n",
       "      <td>1</td>\n",
       "      <td>0</td>\n",
       "      <td>0</td>\n",
       "      <td>...</td>\n",
       "      <td>0</td>\n",
       "      <td>0</td>\n",
       "      <td>0</td>\n",
       "      <td>1</td>\n",
       "      <td>0</td>\n",
       "      <td>0</td>\n",
       "      <td>0</td>\n",
       "      <td>0</td>\n",
       "      <td>1</td>\n",
       "      <td>0</td>\n",
       "    </tr>\n",
       "    <tr>\n",
       "      <th>2</th>\n",
       "      <td>0</td>\n",
       "      <td>0</td>\n",
       "      <td>0</td>\n",
       "      <td>0</td>\n",
       "      <td>0</td>\n",
       "      <td>0</td>\n",
       "      <td>0</td>\n",
       "      <td>1</td>\n",
       "      <td>0</td>\n",
       "      <td>0</td>\n",
       "      <td>...</td>\n",
       "      <td>0</td>\n",
       "      <td>0</td>\n",
       "      <td>0</td>\n",
       "      <td>1</td>\n",
       "      <td>0</td>\n",
       "      <td>0</td>\n",
       "      <td>0</td>\n",
       "      <td>0</td>\n",
       "      <td>1</td>\n",
       "      <td>0</td>\n",
       "    </tr>\n",
       "    <tr>\n",
       "      <th>3</th>\n",
       "      <td>1</td>\n",
       "      <td>0</td>\n",
       "      <td>0</td>\n",
       "      <td>0</td>\n",
       "      <td>0</td>\n",
       "      <td>0</td>\n",
       "      <td>0</td>\n",
       "      <td>0</td>\n",
       "      <td>0</td>\n",
       "      <td>0</td>\n",
       "      <td>...</td>\n",
       "      <td>0</td>\n",
       "      <td>0</td>\n",
       "      <td>0</td>\n",
       "      <td>1</td>\n",
       "      <td>0</td>\n",
       "      <td>0</td>\n",
       "      <td>0</td>\n",
       "      <td>0</td>\n",
       "      <td>1</td>\n",
       "      <td>0</td>\n",
       "    </tr>\n",
       "    <tr>\n",
       "      <th>4</th>\n",
       "      <td>0</td>\n",
       "      <td>0</td>\n",
       "      <td>0</td>\n",
       "      <td>0</td>\n",
       "      <td>0</td>\n",
       "      <td>0</td>\n",
       "      <td>0</td>\n",
       "      <td>1</td>\n",
       "      <td>0</td>\n",
       "      <td>0</td>\n",
       "      <td>...</td>\n",
       "      <td>0</td>\n",
       "      <td>0</td>\n",
       "      <td>0</td>\n",
       "      <td>1</td>\n",
       "      <td>0</td>\n",
       "      <td>0</td>\n",
       "      <td>0</td>\n",
       "      <td>0</td>\n",
       "      <td>1</td>\n",
       "      <td>0</td>\n",
       "    </tr>\n",
       "  </tbody>\n",
       "</table>\n",
       "<p>5 rows × 38 columns</p>\n",
       "</div>"
      ],
      "text/plain": [
       "   job_admin.  job_blue-collar  job_entrepreneur  job_housemaid  \\\n",
       "0           0                0                 0              1   \n",
       "1           0                0                 0              0   \n",
       "2           0                0                 0              0   \n",
       "3           1                0                 0              0   \n",
       "4           0                0                 0              0   \n",
       "\n",
       "   job_management  job_retired  job_self-employed  job_services  job_student  \\\n",
       "0               0            0                  0             0            0   \n",
       "1               0            0                  0             1            0   \n",
       "2               0            0                  0             1            0   \n",
       "3               0            0                  0             0            0   \n",
       "4               0            0                  0             1            0   \n",
       "\n",
       "   job_technician  ...  month_oct  month_sep  day_of_week_fri  \\\n",
       "0               0  ...          0          0                0   \n",
       "1               0  ...          0          0                0   \n",
       "2               0  ...          0          0                0   \n",
       "3               0  ...          0          0                0   \n",
       "4               0  ...          0          0                0   \n",
       "\n",
       "   day_of_week_mon  day_of_week_thu  day_of_week_tue  day_of_week_wed  \\\n",
       "0                1                0                0                0   \n",
       "1                1                0                0                0   \n",
       "2                1                0                0                0   \n",
       "3                1                0                0                0   \n",
       "4                1                0                0                0   \n",
       "\n",
       "   poutcome_failure  poutcome_nonexistent  poutcome_success  \n",
       "0                 0                     1                 0  \n",
       "1                 0                     1                 0  \n",
       "2                 0                     1                 0  \n",
       "3                 0                     1                 0  \n",
       "4                 0                     1                 0  \n",
       "\n",
       "[5 rows x 38 columns]"
      ]
     },
     "execution_count": 53,
     "metadata": {},
     "output_type": "execute_result"
    }
   ],
   "source": [
    "df_ohe = pd.get_dummies(df[nominal_columns], columns=nominal_columns, prefix=nominal_columns)\n",
    "df_ohe.head()"
   ]
  },
  {
   "cell_type": "markdown",
   "id": "436962e0",
   "metadata": {},
   "source": [
    "**Label Encoding (Ordinal)**"
   ]
  },
  {
   "cell_type": "code",
   "execution_count": 54,
   "id": "9aaa3adc",
   "metadata": {},
   "outputs": [
    {
     "data": {
      "text/html": [
       "<div>\n",
       "<style scoped>\n",
       "    .dataframe tbody tr th:only-of-type {\n",
       "        vertical-align: middle;\n",
       "    }\n",
       "\n",
       "    .dataframe tbody tr th {\n",
       "        vertical-align: top;\n",
       "    }\n",
       "\n",
       "    .dataframe thead th {\n",
       "        text-align: right;\n",
       "    }\n",
       "</style>\n",
       "<table border=\"1\" class=\"dataframe\">\n",
       "  <thead>\n",
       "    <tr style=\"text-align: right;\">\n",
       "      <th></th>\n",
       "      <th>marital</th>\n",
       "      <th>housing</th>\n",
       "      <th>loan</th>\n",
       "      <th>deposito</th>\n",
       "    </tr>\n",
       "  </thead>\n",
       "  <tbody>\n",
       "    <tr>\n",
       "      <th>0</th>\n",
       "      <td>1</td>\n",
       "      <td>0</td>\n",
       "      <td>0</td>\n",
       "      <td>0</td>\n",
       "    </tr>\n",
       "    <tr>\n",
       "      <th>1</th>\n",
       "      <td>1</td>\n",
       "      <td>0</td>\n",
       "      <td>0</td>\n",
       "      <td>0</td>\n",
       "    </tr>\n",
       "    <tr>\n",
       "      <th>2</th>\n",
       "      <td>1</td>\n",
       "      <td>1</td>\n",
       "      <td>0</td>\n",
       "      <td>0</td>\n",
       "    </tr>\n",
       "    <tr>\n",
       "      <th>3</th>\n",
       "      <td>1</td>\n",
       "      <td>0</td>\n",
       "      <td>0</td>\n",
       "      <td>0</td>\n",
       "    </tr>\n",
       "    <tr>\n",
       "      <th>4</th>\n",
       "      <td>1</td>\n",
       "      <td>0</td>\n",
       "      <td>1</td>\n",
       "      <td>0</td>\n",
       "    </tr>\n",
       "  </tbody>\n",
       "</table>\n",
       "</div>"
      ],
      "text/plain": [
       "   marital  housing  loan  deposito\n",
       "0        1        0     0         0\n",
       "1        1        0     0         0\n",
       "2        1        1     0         0\n",
       "3        1        0     0         0\n",
       "4        1        0     1         0"
      ]
     },
     "execution_count": 54,
     "metadata": {},
     "output_type": "execute_result"
    }
   ],
   "source": [
    "df_le = df.loc[:,ordinal_columns]\n",
    "\n",
    "# instansiasi kelas LabelEncoder\n",
    "encoder = LabelEncoder()\n",
    "\n",
    "# label encoding\n",
    "for ord_col in ordinal_columns:\n",
    "    df_le[ord_col] = encoder.fit_transform(df_le[ord_col])\n",
    "\n",
    "# Menampilkan data\n",
    "df_le.head()"
   ]
  },
  {
   "cell_type": "markdown",
   "id": "032475c3",
   "metadata": {},
   "source": [
    "**Melakukan concate data One Hot Encoding & Label Encoding**"
   ]
  },
  {
   "cell_type": "code",
   "execution_count": 55,
   "id": "9ca15dfa",
   "metadata": {
    "scrolled": true
   },
   "outputs": [
    {
     "data": {
      "text/html": [
       "<div>\n",
       "<style scoped>\n",
       "    .dataframe tbody tr th:only-of-type {\n",
       "        vertical-align: middle;\n",
       "    }\n",
       "\n",
       "    .dataframe tbody tr th {\n",
       "        vertical-align: top;\n",
       "    }\n",
       "\n",
       "    .dataframe thead th {\n",
       "        text-align: right;\n",
       "    }\n",
       "</style>\n",
       "<table border=\"1\" class=\"dataframe\">\n",
       "  <thead>\n",
       "    <tr style=\"text-align: right;\">\n",
       "      <th></th>\n",
       "      <th>job_admin.</th>\n",
       "      <th>job_blue-collar</th>\n",
       "      <th>job_entrepreneur</th>\n",
       "      <th>job_housemaid</th>\n",
       "      <th>job_management</th>\n",
       "      <th>job_retired</th>\n",
       "      <th>job_self-employed</th>\n",
       "      <th>job_services</th>\n",
       "      <th>job_student</th>\n",
       "      <th>job_technician</th>\n",
       "      <th>...</th>\n",
       "      <th>day_of_week_thu</th>\n",
       "      <th>day_of_week_tue</th>\n",
       "      <th>day_of_week_wed</th>\n",
       "      <th>poutcome_failure</th>\n",
       "      <th>poutcome_nonexistent</th>\n",
       "      <th>poutcome_success</th>\n",
       "      <th>marital</th>\n",
       "      <th>housing</th>\n",
       "      <th>loan</th>\n",
       "      <th>deposito</th>\n",
       "    </tr>\n",
       "  </thead>\n",
       "  <tbody>\n",
       "    <tr>\n",
       "      <th>0</th>\n",
       "      <td>0</td>\n",
       "      <td>0</td>\n",
       "      <td>0</td>\n",
       "      <td>1</td>\n",
       "      <td>0</td>\n",
       "      <td>0</td>\n",
       "      <td>0</td>\n",
       "      <td>0</td>\n",
       "      <td>0</td>\n",
       "      <td>0</td>\n",
       "      <td>...</td>\n",
       "      <td>0</td>\n",
       "      <td>0</td>\n",
       "      <td>0</td>\n",
       "      <td>0</td>\n",
       "      <td>1</td>\n",
       "      <td>0</td>\n",
       "      <td>1</td>\n",
       "      <td>0</td>\n",
       "      <td>0</td>\n",
       "      <td>0</td>\n",
       "    </tr>\n",
       "    <tr>\n",
       "      <th>1</th>\n",
       "      <td>0</td>\n",
       "      <td>0</td>\n",
       "      <td>0</td>\n",
       "      <td>0</td>\n",
       "      <td>0</td>\n",
       "      <td>0</td>\n",
       "      <td>0</td>\n",
       "      <td>1</td>\n",
       "      <td>0</td>\n",
       "      <td>0</td>\n",
       "      <td>...</td>\n",
       "      <td>0</td>\n",
       "      <td>0</td>\n",
       "      <td>0</td>\n",
       "      <td>0</td>\n",
       "      <td>1</td>\n",
       "      <td>0</td>\n",
       "      <td>1</td>\n",
       "      <td>0</td>\n",
       "      <td>0</td>\n",
       "      <td>0</td>\n",
       "    </tr>\n",
       "    <tr>\n",
       "      <th>2</th>\n",
       "      <td>0</td>\n",
       "      <td>0</td>\n",
       "      <td>0</td>\n",
       "      <td>0</td>\n",
       "      <td>0</td>\n",
       "      <td>0</td>\n",
       "      <td>0</td>\n",
       "      <td>1</td>\n",
       "      <td>0</td>\n",
       "      <td>0</td>\n",
       "      <td>...</td>\n",
       "      <td>0</td>\n",
       "      <td>0</td>\n",
       "      <td>0</td>\n",
       "      <td>0</td>\n",
       "      <td>1</td>\n",
       "      <td>0</td>\n",
       "      <td>1</td>\n",
       "      <td>1</td>\n",
       "      <td>0</td>\n",
       "      <td>0</td>\n",
       "    </tr>\n",
       "    <tr>\n",
       "      <th>3</th>\n",
       "      <td>1</td>\n",
       "      <td>0</td>\n",
       "      <td>0</td>\n",
       "      <td>0</td>\n",
       "      <td>0</td>\n",
       "      <td>0</td>\n",
       "      <td>0</td>\n",
       "      <td>0</td>\n",
       "      <td>0</td>\n",
       "      <td>0</td>\n",
       "      <td>...</td>\n",
       "      <td>0</td>\n",
       "      <td>0</td>\n",
       "      <td>0</td>\n",
       "      <td>0</td>\n",
       "      <td>1</td>\n",
       "      <td>0</td>\n",
       "      <td>1</td>\n",
       "      <td>0</td>\n",
       "      <td>0</td>\n",
       "      <td>0</td>\n",
       "    </tr>\n",
       "    <tr>\n",
       "      <th>4</th>\n",
       "      <td>0</td>\n",
       "      <td>0</td>\n",
       "      <td>0</td>\n",
       "      <td>0</td>\n",
       "      <td>0</td>\n",
       "      <td>0</td>\n",
       "      <td>0</td>\n",
       "      <td>1</td>\n",
       "      <td>0</td>\n",
       "      <td>0</td>\n",
       "      <td>...</td>\n",
       "      <td>0</td>\n",
       "      <td>0</td>\n",
       "      <td>0</td>\n",
       "      <td>0</td>\n",
       "      <td>1</td>\n",
       "      <td>0</td>\n",
       "      <td>1</td>\n",
       "      <td>0</td>\n",
       "      <td>1</td>\n",
       "      <td>0</td>\n",
       "    </tr>\n",
       "  </tbody>\n",
       "</table>\n",
       "<p>5 rows × 42 columns</p>\n",
       "</div>"
      ],
      "text/plain": [
       "   job_admin.  job_blue-collar  job_entrepreneur  job_housemaid  \\\n",
       "0           0                0                 0              1   \n",
       "1           0                0                 0              0   \n",
       "2           0                0                 0              0   \n",
       "3           1                0                 0              0   \n",
       "4           0                0                 0              0   \n",
       "\n",
       "   job_management  job_retired  job_self-employed  job_services  job_student  \\\n",
       "0               0            0                  0             0            0   \n",
       "1               0            0                  0             1            0   \n",
       "2               0            0                  0             1            0   \n",
       "3               0            0                  0             0            0   \n",
       "4               0            0                  0             1            0   \n",
       "\n",
       "   job_technician  ...  day_of_week_thu  day_of_week_tue  day_of_week_wed  \\\n",
       "0               0  ...                0                0                0   \n",
       "1               0  ...                0                0                0   \n",
       "2               0  ...                0                0                0   \n",
       "3               0  ...                0                0                0   \n",
       "4               0  ...                0                0                0   \n",
       "\n",
       "   poutcome_failure  poutcome_nonexistent  poutcome_success  marital  housing  \\\n",
       "0                 0                     1                 0        1        0   \n",
       "1                 0                     1                 0        1        0   \n",
       "2                 0                     1                 0        1        1   \n",
       "3                 0                     1                 0        1        0   \n",
       "4                 0                     1                 0        1        0   \n",
       "\n",
       "   loan  deposito  \n",
       "0     0         0  \n",
       "1     0         0  \n",
       "2     0         0  \n",
       "3     0         0  \n",
       "4     1         0  \n",
       "\n",
       "[5 rows x 42 columns]"
      ]
     },
     "execution_count": 55,
     "metadata": {},
     "output_type": "execute_result"
    }
   ],
   "source": [
    "df_categorical_encoded = pd.concat([df_ohe,df_le],axis=1)\n",
    "df_categorical_encoded.head()"
   ]
  },
  {
   "cell_type": "markdown",
   "id": "a1776a86",
   "metadata": {},
   "source": [
    "**Melakukan concate data Categorical Encoded & Numerical**"
   ]
  },
  {
   "cell_type": "code",
   "execution_count": 56,
   "id": "2f90225f",
   "metadata": {},
   "outputs": [
    {
     "data": {
      "text/html": [
       "<div>\n",
       "<style scoped>\n",
       "    .dataframe tbody tr th:only-of-type {\n",
       "        vertical-align: middle;\n",
       "    }\n",
       "\n",
       "    .dataframe tbody tr th {\n",
       "        vertical-align: top;\n",
       "    }\n",
       "\n",
       "    .dataframe thead th {\n",
       "        text-align: right;\n",
       "    }\n",
       "</style>\n",
       "<table border=\"1\" class=\"dataframe\">\n",
       "  <thead>\n",
       "    <tr style=\"text-align: right;\">\n",
       "      <th></th>\n",
       "      <th>age</th>\n",
       "      <th>campaign</th>\n",
       "      <th>previous</th>\n",
       "      <th>emp.var.rate</th>\n",
       "      <th>cons.price.idx</th>\n",
       "      <th>cons.conf.idx</th>\n",
       "      <th>euribor3m</th>\n",
       "      <th>nr.employed</th>\n",
       "      <th>job_admin.</th>\n",
       "      <th>job_blue-collar</th>\n",
       "      <th>...</th>\n",
       "      <th>day_of_week_thu</th>\n",
       "      <th>day_of_week_tue</th>\n",
       "      <th>day_of_week_wed</th>\n",
       "      <th>poutcome_failure</th>\n",
       "      <th>poutcome_nonexistent</th>\n",
       "      <th>poutcome_success</th>\n",
       "      <th>marital</th>\n",
       "      <th>housing</th>\n",
       "      <th>loan</th>\n",
       "      <th>deposito</th>\n",
       "    </tr>\n",
       "  </thead>\n",
       "  <tbody>\n",
       "    <tr>\n",
       "      <th>0</th>\n",
       "      <td>56</td>\n",
       "      <td>1</td>\n",
       "      <td>0</td>\n",
       "      <td>1.1</td>\n",
       "      <td>93.994</td>\n",
       "      <td>-36.4</td>\n",
       "      <td>4.857</td>\n",
       "      <td>5191.0</td>\n",
       "      <td>0</td>\n",
       "      <td>0</td>\n",
       "      <td>...</td>\n",
       "      <td>0</td>\n",
       "      <td>0</td>\n",
       "      <td>0</td>\n",
       "      <td>0</td>\n",
       "      <td>1</td>\n",
       "      <td>0</td>\n",
       "      <td>1</td>\n",
       "      <td>0</td>\n",
       "      <td>0</td>\n",
       "      <td>0</td>\n",
       "    </tr>\n",
       "    <tr>\n",
       "      <th>1</th>\n",
       "      <td>57</td>\n",
       "      <td>1</td>\n",
       "      <td>0</td>\n",
       "      <td>1.1</td>\n",
       "      <td>93.994</td>\n",
       "      <td>-36.4</td>\n",
       "      <td>4.857</td>\n",
       "      <td>5191.0</td>\n",
       "      <td>0</td>\n",
       "      <td>0</td>\n",
       "      <td>...</td>\n",
       "      <td>0</td>\n",
       "      <td>0</td>\n",
       "      <td>0</td>\n",
       "      <td>0</td>\n",
       "      <td>1</td>\n",
       "      <td>0</td>\n",
       "      <td>1</td>\n",
       "      <td>0</td>\n",
       "      <td>0</td>\n",
       "      <td>0</td>\n",
       "    </tr>\n",
       "    <tr>\n",
       "      <th>2</th>\n",
       "      <td>37</td>\n",
       "      <td>1</td>\n",
       "      <td>0</td>\n",
       "      <td>1.1</td>\n",
       "      <td>93.994</td>\n",
       "      <td>-36.4</td>\n",
       "      <td>4.857</td>\n",
       "      <td>5191.0</td>\n",
       "      <td>0</td>\n",
       "      <td>0</td>\n",
       "      <td>...</td>\n",
       "      <td>0</td>\n",
       "      <td>0</td>\n",
       "      <td>0</td>\n",
       "      <td>0</td>\n",
       "      <td>1</td>\n",
       "      <td>0</td>\n",
       "      <td>1</td>\n",
       "      <td>1</td>\n",
       "      <td>0</td>\n",
       "      <td>0</td>\n",
       "    </tr>\n",
       "    <tr>\n",
       "      <th>3</th>\n",
       "      <td>40</td>\n",
       "      <td>1</td>\n",
       "      <td>0</td>\n",
       "      <td>1.1</td>\n",
       "      <td>93.994</td>\n",
       "      <td>-36.4</td>\n",
       "      <td>4.857</td>\n",
       "      <td>5191.0</td>\n",
       "      <td>1</td>\n",
       "      <td>0</td>\n",
       "      <td>...</td>\n",
       "      <td>0</td>\n",
       "      <td>0</td>\n",
       "      <td>0</td>\n",
       "      <td>0</td>\n",
       "      <td>1</td>\n",
       "      <td>0</td>\n",
       "      <td>1</td>\n",
       "      <td>0</td>\n",
       "      <td>0</td>\n",
       "      <td>0</td>\n",
       "    </tr>\n",
       "    <tr>\n",
       "      <th>4</th>\n",
       "      <td>56</td>\n",
       "      <td>1</td>\n",
       "      <td>0</td>\n",
       "      <td>1.1</td>\n",
       "      <td>93.994</td>\n",
       "      <td>-36.4</td>\n",
       "      <td>4.857</td>\n",
       "      <td>5191.0</td>\n",
       "      <td>0</td>\n",
       "      <td>0</td>\n",
       "      <td>...</td>\n",
       "      <td>0</td>\n",
       "      <td>0</td>\n",
       "      <td>0</td>\n",
       "      <td>0</td>\n",
       "      <td>1</td>\n",
       "      <td>0</td>\n",
       "      <td>1</td>\n",
       "      <td>0</td>\n",
       "      <td>1</td>\n",
       "      <td>0</td>\n",
       "    </tr>\n",
       "  </tbody>\n",
       "</table>\n",
       "<p>5 rows × 50 columns</p>\n",
       "</div>"
      ],
      "text/plain": [
       "   age  campaign  previous  emp.var.rate  cons.price.idx  cons.conf.idx  \\\n",
       "0   56         1         0           1.1          93.994          -36.4   \n",
       "1   57         1         0           1.1          93.994          -36.4   \n",
       "2   37         1         0           1.1          93.994          -36.4   \n",
       "3   40         1         0           1.1          93.994          -36.4   \n",
       "4   56         1         0           1.1          93.994          -36.4   \n",
       "\n",
       "   euribor3m  nr.employed  job_admin.  job_blue-collar  ...  day_of_week_thu  \\\n",
       "0      4.857       5191.0           0                0  ...                0   \n",
       "1      4.857       5191.0           0                0  ...                0   \n",
       "2      4.857       5191.0           0                0  ...                0   \n",
       "3      4.857       5191.0           1                0  ...                0   \n",
       "4      4.857       5191.0           0                0  ...                0   \n",
       "\n",
       "   day_of_week_tue  day_of_week_wed  poutcome_failure  poutcome_nonexistent  \\\n",
       "0                0                0                 0                     1   \n",
       "1                0                0                 0                     1   \n",
       "2                0                0                 0                     1   \n",
       "3                0                0                 0                     1   \n",
       "4                0                0                 0                     1   \n",
       "\n",
       "   poutcome_success  marital  housing  loan  deposito  \n",
       "0                 0        1        0     0         0  \n",
       "1                 0        1        0     0         0  \n",
       "2                 0        1        1     0         0  \n",
       "3                 0        1        0     0         0  \n",
       "4                 0        1        0     1         0  \n",
       "\n",
       "[5 rows x 50 columns]"
      ]
     },
     "execution_count": 56,
     "metadata": {},
     "output_type": "execute_result"
    }
   ],
   "source": [
    "df = pd.concat([df[numerical_columns],df_categorical_encoded],axis=1)\n",
    "df.head()"
   ]
  },
  {
   "cell_type": "markdown",
   "id": "42461477",
   "metadata": {},
   "source": [
    "## Train-test data split\n",
    "\n",
    "Dataset akan dibagi menjadi 80:20 (80% Training dan 20% Test)"
   ]
  },
  {
   "cell_type": "markdown",
   "id": "be53234e",
   "metadata": {},
   "source": [
    "**Mendefinisikan variabel X dan y**"
   ]
  },
  {
   "cell_type": "code",
   "execution_count": 57,
   "id": "b682003f",
   "metadata": {},
   "outputs": [],
   "source": [
    "X = df.drop('deposito',axis=1)\n",
    "y = df['deposito']"
   ]
  },
  {
   "cell_type": "markdown",
   "id": "1172e9a0",
   "metadata": {},
   "source": [
    "**Melakukan train-test split**"
   ]
  },
  {
   "cell_type": "code",
   "execution_count": 58,
   "id": "b09e18dc",
   "metadata": {},
   "outputs": [],
   "source": [
    "X_train,X_test,y_train,y_test = train_test_split(X,y,test_size=0.2,random_state=42)"
   ]
  },
  {
   "cell_type": "markdown",
   "id": "f4c83c45",
   "metadata": {},
   "source": [
    "**Mengetahui dimensi data Training dan Test**"
   ]
  },
  {
   "cell_type": "code",
   "execution_count": 59,
   "id": "3d280f4c",
   "metadata": {},
   "outputs": [
    {
     "name": "stdout",
     "output_type": "stream",
     "text": [
      "Dimensi X_train =  (31263, 49)\n",
      "Dimensi y_train =  (31263,)\n",
      "Dimensi X_test =  (7816, 49)\n",
      "Dimensi y_test =  (7816,)\n"
     ]
    }
   ],
   "source": [
    "print(\"Dimensi X_train = \", X_train.shape)\n",
    "print(\"Dimensi y_train = \", y_train.shape)\n",
    "print(\"Dimensi X_test = \", X_test.shape)\n",
    "print(\"Dimensi y_test = \", y_test.shape)"
   ]
  },
  {
   "cell_type": "markdown",
   "id": "207d1da1",
   "metadata": {},
   "source": [
    "## Normalization Data (Standard Scaler)"
   ]
  },
  {
   "cell_type": "code",
   "execution_count": 60,
   "id": "c8505257",
   "metadata": {},
   "outputs": [],
   "source": [
    "# Instansiasi kelas StandardScaler\n",
    "standard_scaler = StandardScaler()\n",
    "\n",
    "# fit scaler into train data\n",
    "standard_scaler.fit(X_train)\n",
    "\n",
    "# transform data with scaler\n",
    "X_train = standard_scaler.transform(X_train)\n",
    "X_test = standard_scaler.transform(X_test)"
   ]
  },
  {
   "cell_type": "markdown",
   "id": "a9242e26",
   "metadata": {},
   "source": [
    "## Handling Imbalance Data"
   ]
  },
  {
   "cell_type": "markdown",
   "id": "33573373",
   "metadata": {},
   "source": [
    "**Melihat nilai value_counts y_train**"
   ]
  },
  {
   "cell_type": "code",
   "execution_count": 61,
   "id": "3d0debd4",
   "metadata": {},
   "outputs": [
    {
     "data": {
      "text/plain": [
       "0    27559\n",
       "1     3704\n",
       "Name: deposito, dtype: int64"
      ]
     },
     "execution_count": 61,
     "metadata": {},
     "output_type": "execute_result"
    }
   ],
   "source": [
    "y_train.value_counts()"
   ]
  },
  {
   "cell_type": "markdown",
   "id": "f6c3b793",
   "metadata": {},
   "source": [
    "**Menerapkan SMOTE**"
   ]
  },
  {
   "cell_type": "code",
   "execution_count": 62,
   "id": "77c0ff3b",
   "metadata": {},
   "outputs": [],
   "source": [
    "os = SMOTE(random_state = 42)\n",
    "X_train_smote,y_train_smote = os.fit_resample(X_train,y_train)\n",
    "X_train_smote = pd.DataFrame(data = X_train_smote,columns=X.columns)\n",
    "y_train_smote = pd.DataFrame(data = y_train_smote)"
   ]
  },
  {
   "cell_type": "code",
   "execution_count": 63,
   "id": "8f3cc908",
   "metadata": {},
   "outputs": [
    {
     "data": {
      "text/plain": [
       "deposito\n",
       "0           27559\n",
       "1           27559\n",
       "dtype: int64"
      ]
     },
     "execution_count": 63,
     "metadata": {},
     "output_type": "execute_result"
    }
   ],
   "source": [
    "y_train_smote.value_counts()"
   ]
  },
  {
   "cell_type": "markdown",
   "id": "f4418dbd",
   "metadata": {},
   "source": [
    "# Modelling"
   ]
  },
  {
   "cell_type": "markdown",
   "id": "8bf219d1",
   "metadata": {},
   "source": [
    "**Mendefinisikan program print_score**"
   ]
  },
  {
   "cell_type": "code",
   "execution_count": 64,
   "id": "894f3eba",
   "metadata": {},
   "outputs": [],
   "source": [
    "from sklearn.metrics import accuracy_score, confusion_matrix, classification_report\n",
    "\n",
    "def print_score(clf, X_train, y_train, X_test, y_test, train=True):\n",
    "    if train:\n",
    "        pred = clf.predict(X_train)\n",
    "        clf_report = pd.DataFrame(classification_report(y_train, pred, output_dict=True))\n",
    "        print(\"Train Result:\\n================================================\")\n",
    "        print(f\"Accuracy Score: {accuracy_score(y_train, pred) * 100:.2f}%\")\n",
    "        print(\"_______________________________________________\")\n",
    "        print(f\"CLASSIFICATION REPORT:\\n{clf_report}\")\n",
    "        print(\"_______________________________________________\")\n",
    "        print(f\"Confusion Matrix: \\n {confusion_matrix(y_train, pred)}\\n\")\n",
    "        \n",
    "    elif train==False:\n",
    "        pred = clf.predict(X_test)\n",
    "        clf_report = pd.DataFrame(classification_report(y_test, pred, output_dict=True))\n",
    "        print(\"Test Result:\\n================================================\")        \n",
    "        print(f\"Accuracy Score: {accuracy_score(y_test, pred) * 100:.2f}%\")\n",
    "        print(\"_______________________________________________\")\n",
    "        print(f\"CLASSIFICATION REPORT:\\n{clf_report}\")\n",
    "        print(\"_______________________________________________\")\n",
    "        print(f\"Confusion Matrix: \\n {confusion_matrix(y_test, pred)}\\n\")"
   ]
  },
  {
   "cell_type": "markdown",
   "id": "2be9bad6",
   "metadata": {},
   "source": [
    "**Mendefinisikan program cm_heatmap**"
   ]
  },
  {
   "cell_type": "code",
   "execution_count": 65,
   "id": "624a43e7",
   "metadata": {},
   "outputs": [],
   "source": [
    "def cm_heatmap(clf, X_train, y_train, X_test, y_test, train=True):\n",
    "    if train:\n",
    "        pred = clf.predict(X_train)\n",
    "        clf_report = pd.DataFrame(classification_report(y_train, pred, output_dict=True))\n",
    "        cm = confusion_matrix(y_train, pred)\n",
    "        print(f\"Confusion Matrix (Train): \\n {sns.heatmap(cm, annot=True)}\\n\")\n",
    "\n",
    "    elif train==False:\n",
    "        pred = clf.predict(X_test)\n",
    "        clf_report = pd.DataFrame(classification_report(y_test, pred, output_dict=True))\n",
    "        cm = confusion_matrix(y_test, pred)\n",
    "        print(f\"Confusion Matrix (Test): \\n {sns.heatmap(cm, annot=True)}\\n\")"
   ]
  },
  {
   "cell_type": "markdown",
   "id": "c5613968",
   "metadata": {},
   "source": [
    "## Logistic Regression"
   ]
  },
  {
   "cell_type": "markdown",
   "id": "a4a3d96a",
   "metadata": {},
   "source": [
    "### Default"
   ]
  },
  {
   "cell_type": "markdown",
   "id": "c0155a1a",
   "metadata": {},
   "source": [
    "**Melihat Classification Report (LogisticRegression)**"
   ]
  },
  {
   "cell_type": "code",
   "execution_count": 66,
   "id": "4e6de58a",
   "metadata": {
    "scrolled": false
   },
   "outputs": [
    {
     "name": "stdout",
     "output_type": "stream",
     "text": [
      "Train Result:\n",
      "================================================\n",
      "Accuracy Score: 89.50%\n",
      "_______________________________________________\n",
      "CLASSIFICATION REPORT:\n",
      "                      0            1  accuracy     macro avg  weighted avg\n",
      "precision      0.904789     0.664839  0.894988      0.784814      0.876360\n",
      "recall         0.984470     0.229212  0.894988      0.606841      0.894988\n",
      "f1-score       0.942949     0.340895  0.894988      0.641922      0.871618\n",
      "support    27559.000000  3704.000000  0.894988  31263.000000  31263.000000\n",
      "_______________________________________________\n",
      "Confusion Matrix: \n",
      " [[27131   428]\n",
      " [ 2855   849]]\n",
      "\n",
      "Test Result:\n",
      "================================================\n",
      "Accuracy Score: 89.82%\n",
      "_______________________________________________\n",
      "CLASSIFICATION REPORT:\n",
      "                     0           1  accuracy    macro avg  weighted avg\n",
      "precision     0.908982    0.647059  0.898158     0.778020      0.879123\n",
      "recall        0.983538    0.234568  0.898158     0.609053      0.898158\n",
      "f1-score      0.944791    0.344316  0.898158     0.644554      0.876339\n",
      "support    6925.000000  891.000000  0.898158  7816.000000   7816.000000\n",
      "_______________________________________________\n",
      "Confusion Matrix: \n",
      " [[6811  114]\n",
      " [ 682  209]]\n",
      "\n"
     ]
    }
   ],
   "source": [
    "lr_clf = LogisticRegression()\n",
    "lr_clf.fit(X_train, y_train)\n",
    "\n",
    "print_score(lr_clf, X_train, y_train, X_test, y_test, train=True)\n",
    "print_score(lr_clf, X_train, y_train, X_test, y_test, train=False)"
   ]
  },
  {
   "cell_type": "markdown",
   "id": "0cd45676",
   "metadata": {},
   "source": [
    "**Melihat Confusion Matriks secara visual**"
   ]
  },
  {
   "cell_type": "code",
   "execution_count": 67,
   "id": "ae84d45b",
   "metadata": {
    "scrolled": true
   },
   "outputs": [
    {
     "name": "stdout",
     "output_type": "stream",
     "text": [
      "Confusion Matrix (Test): \n",
      " AxesSubplot(0.125,0.125;0.62x0.755)\n",
      "\n",
      "None\n"
     ]
    },
    {
     "data": {
      "image/png": "[encoded data removed]",
      "text/plain": [
       "<Figure size 432x288 with 2 Axes>"
      ]
     },
     "metadata": {
      "needs_background": "light"
     },
     "output_type": "display_data"
    }
   ],
   "source": [
    "print(cm_heatmap(lr_clf, X_train, y_train, X_test, y_test, train=False))"
   ]
  },
  {
   "cell_type": "markdown",
   "id": "77955df0",
   "metadata": {},
   "source": [
    "**Menghitung koefisien model logistic regression**"
   ]
  },
  {
   "cell_type": "code",
   "execution_count": 68,
   "id": "6a61174b",
   "metadata": {},
   "outputs": [
    {
     "name": "stdout",
     "output_type": "stream",
     "text": [
      "[-2.42851735] [[-1.99503680e-02 -1.47607969e-01  1.69746054e-02 -2.00243566e+00\n",
      "   1.02691079e+00  1.19712713e-01  3.74975259e-01  2.39656232e-01\n",
      "   3.47274328e-03 -2.88361181e-02 -8.70036556e-03 -1.69015287e-02\n",
      "  -2.89137506e-03  6.81680235e-02 -7.35441257e-03 -3.54385896e-02\n",
      "   2.53673964e-02  2.64506069e-02  1.38624826e-04 -5.76144412e-03\n",
      "   1.33336001e-04 -3.74771369e-02  9.05386573e-03  2.58503350e-02\n",
      "  -1.61674231e-02  3.35997102e-02  1.77205314e-01 -1.77205314e-01\n",
      "   2.72062722e-02  1.99945958e-01  3.59715730e-02  9.20569317e-02\n",
      "  -1.31975260e-01  1.78817746e-01 -1.55194662e-01 -7.94119155e-02\n",
      "   1.90494076e-02  3.99487005e-02 -1.24745404e-02 -8.79838243e-02\n",
      "   2.56237001e-02  1.85217738e-02  5.79123684e-02 -1.54771354e-01\n",
      "   1.61401200e-02  2.28103876e-01  2.07912178e-02 -3.09146147e-02\n",
      "  -1.02679078e-02]]\n"
     ]
    }
   ],
   "source": [
    "print(lr_clf.intercept_, lr_clf.coef_)"
   ]
  },
  {
   "cell_type": "markdown",
   "id": "310bd13e",
   "metadata": {},
   "source": [
    "**Merangkum hasil akurasi uji test**"
   ]
  },
  {
   "cell_type": "code",
   "execution_count": 69,
   "id": "591c9258",
   "metadata": {},
   "outputs": [
    {
     "data": {
      "text/html": [
       "<div>\n",
       "<style scoped>\n",
       "    .dataframe tbody tr th:only-of-type {\n",
       "        vertical-align: middle;\n",
       "    }\n",
       "\n",
       "    .dataframe tbody tr th {\n",
       "        vertical-align: top;\n",
       "    }\n",
       "\n",
       "    .dataframe thead th {\n",
       "        text-align: right;\n",
       "    }\n",
       "</style>\n",
       "<table border=\"1\" class=\"dataframe\">\n",
       "  <thead>\n",
       "    <tr style=\"text-align: right;\">\n",
       "      <th></th>\n",
       "      <th>Model</th>\n",
       "      <th>Testing Accuracy %</th>\n",
       "    </tr>\n",
       "  </thead>\n",
       "  <tbody>\n",
       "    <tr>\n",
       "      <th>0</th>\n",
       "      <td>Logistic Regression</td>\n",
       "      <td>89.82</td>\n",
       "    </tr>\n",
       "  </tbody>\n",
       "</table>\n",
       "</div>"
      ],
      "text/plain": [
       "                 Model  Testing Accuracy %\n",
       "0  Logistic Regression               89.82"
      ]
     },
     "execution_count": 69,
     "metadata": {},
     "output_type": "execute_result"
    }
   ],
   "source": [
    "ts_lr = (accuracy_score(y_test, lr_clf.predict(X_test))*100).round(2)\n",
    "\n",
    "df_results= pd.DataFrame(data=[[\"Logistic Regression\", ts_lr]], \n",
    "                          columns=['Model', 'Testing Accuracy %'])\n",
    "df_results"
   ]
  },
  {
   "cell_type": "markdown",
   "id": "2c78268f",
   "metadata": {},
   "source": [
    "### SMOTE"
   ]
  },
  {
   "cell_type": "markdown",
   "id": "e322813a",
   "metadata": {},
   "source": [
    "**Melihat Classification Report (LogisticRegression - SMOTE)**"
   ]
  },
  {
   "cell_type": "code",
   "execution_count": 70,
   "id": "4956c30d",
   "metadata": {
    "scrolled": false
   },
   "outputs": [
    {
     "name": "stdout",
     "output_type": "stream",
     "text": [
      "Train Result:\n",
      "================================================\n",
      "Accuracy Score: 73.76%\n",
      "_______________________________________________\n",
      "CLASSIFICATION REPORT:\n",
      "                      0             1  accuracy     macro avg  weighted avg\n",
      "precision      0.696116      0.801399  0.737617      0.748757      0.748757\n",
      "recall         0.843427      0.631808  0.737617      0.737617      0.737617\n",
      "f1-score       0.762724      0.706570  0.737617      0.734647      0.734647\n",
      "support    27559.000000  27559.000000  0.737617  55118.000000  55118.000000\n",
      "_______________________________________________\n",
      "Confusion Matrix: \n",
      " [[23244  4315]\n",
      " [10147 17412]]\n",
      "\n",
      "Test Result:\n",
      "================================================\n",
      "Accuracy Score: 81.60%\n",
      "_______________________________________________\n",
      "CLASSIFICATION REPORT:\n",
      "                     0           1  accuracy    macro avg  weighted avg\n",
      "precision     0.946751    0.336716  0.816018     0.641734      0.877209\n",
      "recall        0.839567    0.632997  0.816018     0.736282      0.816018\n",
      "f1-score      0.889943    0.439595  0.816018     0.664769      0.838605\n",
      "support    6925.000000  891.000000  0.816018  7816.000000   7816.000000\n",
      "_______________________________________________\n",
      "Confusion Matrix: \n",
      " [[5814 1111]\n",
      " [ 327  564]]\n",
      "\n"
     ]
    }
   ],
   "source": [
    "#Logistic Regression\n",
    "\n",
    "lr_clf_sm = LogisticRegression()\n",
    "lr_clf_sm.fit(X_train_smote, y_train_smote)\n",
    "\n",
    "print_score(lr_clf_sm, X_train_smote, y_train_smote, X_test, y_test, train=True)\n",
    "print_score(lr_clf_sm, X_train_smote, y_train_smote, X_test, y_test, train=False)"
   ]
  },
  {
   "cell_type": "markdown",
   "id": "adc0872a",
   "metadata": {},
   "source": [
    "**Melihat Confusion Matriks secara visual**"
   ]
  },
  {
   "cell_type": "code",
   "execution_count": 71,
   "id": "3339cd6b",
   "metadata": {},
   "outputs": [
    {
     "name": "stdout",
     "output_type": "stream",
     "text": [
      "Confusion Matrix (Test): \n",
      " AxesSubplot(0.125,0.125;0.62x0.755)\n",
      "\n",
      "None\n"
     ]
    },
    {
     "data": {
      "image/png": "[encoded data removed]",
      "text/plain": [
       "<Figure size 432x288 with 2 Axes>"
      ]
     },
     "metadata": {
      "needs_background": "light"
     },
     "output_type": "display_data"
    }
   ],
   "source": [
    "print(cm_heatmap(lr_clf_sm, X_train_smote, y_train_smote, X_test, y_test, train=False))"
   ]
  },
  {
   "cell_type": "markdown",
   "id": "a5d945bc",
   "metadata": {},
   "source": [
    "**Menghitung koefisien model logistic regression**"
   ]
  },
  {
   "cell_type": "code",
   "execution_count": 72,
   "id": "3c571843",
   "metadata": {},
   "outputs": [
    {
     "name": "stdout",
     "output_type": "stream",
     "text": [
      "[-0.44860266] [[-5.42026233e-02 -1.98994016e-01 -5.12586288e-02 -2.66246309e+00\n",
      "   1.40052914e+00  1.61849617e-01  4.97116729e-01  5.72930639e-01\n",
      "  -4.60504719e-03  1.43326658e-02  1.61436498e-02 -3.50523906e-02\n",
      "  -3.60261442e-02  8.30503418e-02 -1.69726348e-02 -3.86538448e-02\n",
      "   2.71931322e-02  8.56700231e-03 -9.61651502e-03 -2.57912020e-02\n",
      "  -1.21740097e-02 -3.17321958e-02 -2.89225924e-03  1.72428647e-02\n",
      "  -4.59874720e-02  8.01076087e-02  2.43533141e-01 -2.43533141e-01\n",
      "   1.28814697e-02  2.62855902e-01  4.63866005e-02  8.05793048e-02\n",
      "  -2.14513242e-01  2.00830904e-01 -1.14191091e-01 -1.14450174e-01\n",
      "   2.68418231e-02  4.52153325e-02  5.18054121e-04 -6.83384886e-02\n",
      "   9.86650519e-03 -5.16024393e-03  6.45438545e-02 -1.38596592e-01\n",
      "  -8.45594838e-03  2.47561338e-01  2.46027830e-02 -3.25368746e-02\n",
      "  -7.95586983e-02]]\n"
     ]
    }
   ],
   "source": [
    "print(lr_clf_sm.intercept_, lr_clf_sm.coef_)"
   ]
  },
  {
   "cell_type": "markdown",
   "id": "b3c52bf4",
   "metadata": {},
   "source": [
    "**Merangkum hasil akurasi uji test**"
   ]
  },
  {
   "cell_type": "code",
   "execution_count": 73,
   "id": "7c78d1fd",
   "metadata": {},
   "outputs": [
    {
     "data": {
      "text/html": [
       "<div>\n",
       "<style scoped>\n",
       "    .dataframe tbody tr th:only-of-type {\n",
       "        vertical-align: middle;\n",
       "    }\n",
       "\n",
       "    .dataframe tbody tr th {\n",
       "        vertical-align: top;\n",
       "    }\n",
       "\n",
       "    .dataframe thead th {\n",
       "        text-align: right;\n",
       "    }\n",
       "</style>\n",
       "<table border=\"1\" class=\"dataframe\">\n",
       "  <thead>\n",
       "    <tr style=\"text-align: right;\">\n",
       "      <th></th>\n",
       "      <th>Model</th>\n",
       "      <th>Testing Accuracy %</th>\n",
       "      <th>Testing Accuracy (SMOTE) %</th>\n",
       "    </tr>\n",
       "  </thead>\n",
       "  <tbody>\n",
       "    <tr>\n",
       "      <th>0</th>\n",
       "      <td>Logistic Regression</td>\n",
       "      <td>89.82</td>\n",
       "      <td>81.6</td>\n",
       "    </tr>\n",
       "  </tbody>\n",
       "</table>\n",
       "</div>"
      ],
      "text/plain": [
       "                 Model  Testing Accuracy %  Testing Accuracy (SMOTE) %\n",
       "0  Logistic Regression               89.82                        81.6"
      ]
     },
     "execution_count": 73,
     "metadata": {},
     "output_type": "execute_result"
    }
   ],
   "source": [
    "ts_lr_sm = (accuracy_score(y_test, lr_clf_sm.predict(X_test))*100).round(2)\n",
    "\n",
    "df_results.insert(2, 'Testing Accuracy (SMOTE) %', ts_lr_sm)\n",
    "df_results"
   ]
  },
  {
   "cell_type": "markdown",
   "id": "a1459905",
   "metadata": {},
   "source": [
    "## K-Nearest Neighbour"
   ]
  },
  {
   "cell_type": "markdown",
   "id": "2767218f",
   "metadata": {},
   "source": [
    "### Default"
   ]
  },
  {
   "cell_type": "markdown",
   "id": "5c1312c7",
   "metadata": {},
   "source": [
    "**Melihat Classification Report (KNeighborsClassifier)**"
   ]
  },
  {
   "cell_type": "code",
   "execution_count": 74,
   "id": "a9a67ee6",
   "metadata": {},
   "outputs": [
    {
     "name": "stdout",
     "output_type": "stream",
     "text": [
      "Train Result:\n",
      "================================================\n",
      "Accuracy Score: 90.74%\n",
      "_______________________________________________\n",
      "CLASSIFICATION REPORT:\n",
      "                      0            1  accuracy     macro avg  weighted avg\n",
      "precision      0.920402     0.710062  0.907431      0.815232      0.895481\n",
      "recall         0.979716     0.369600  0.907431      0.674658      0.907431\n",
      "f1-score       0.949133     0.486151  0.907431      0.717642      0.894280\n",
      "support    27559.000000  3704.000000  0.907431  31263.000000  31263.000000\n",
      "_______________________________________________\n",
      "Confusion Matrix: \n",
      " [[27000   559]\n",
      " [ 2335  1369]]\n",
      "\n",
      "Test Result:\n",
      "================================================\n",
      "Accuracy Score: 89.05%\n",
      "_______________________________________________\n",
      "CLASSIFICATION REPORT:\n",
      "                     0           1  accuracy    macro avg  weighted avg\n",
      "precision     0.912464    0.538126  0.890481     0.725295      0.869791\n",
      "recall        0.969386    0.277217  0.890481     0.623301      0.890481\n",
      "f1-score      0.940064    0.365926  0.890481     0.652995      0.874614\n",
      "support    6925.000000  891.000000  0.890481  7816.000000   7816.000000\n",
      "_______________________________________________\n",
      "Confusion Matrix: \n",
      " [[6713  212]\n",
      " [ 644  247]]\n",
      "\n"
     ]
    }
   ],
   "source": [
    "knn_clf = KNeighborsClassifier()\n",
    "knn_clf.fit(X_train, y_train)\n",
    "\n",
    "print_score(knn_clf, X_train, y_train, X_test, y_test, train=True)\n",
    "print_score(knn_clf, X_train, y_train, X_test, y_test, train=False)"
   ]
  },
  {
   "cell_type": "markdown",
   "id": "04f0f2b5",
   "metadata": {},
   "source": [
    "**Melihat Confusion Matriks secara visual**"
   ]
  },
  {
   "cell_type": "code",
   "execution_count": 75,
   "id": "d579dab9",
   "metadata": {},
   "outputs": [
    {
     "name": "stdout",
     "output_type": "stream",
     "text": [
      "Confusion Matrix (Test): \n",
      " AxesSubplot(0.125,0.125;0.62x0.755)\n",
      "\n",
      "None\n"
     ]
    },
    {
     "data": {
      "image/png": "[encoded data removed]",
      "text/plain": [
       "<Figure size 432x288 with 2 Axes>"
      ]
     },
     "metadata": {
      "needs_background": "light"
     },
     "output_type": "display_data"
    }
   ],
   "source": [
    "print(cm_heatmap(knn_clf, X_train, y_train, X_test, y_test, train=False))"
   ]
  },
  {
   "cell_type": "markdown",
   "id": "96b8ddf8",
   "metadata": {},
   "source": [
    "**Mendapatkan akurasi uji test**"
   ]
  },
  {
   "cell_type": "code",
   "execution_count": 76,
   "id": "098ad71a",
   "metadata": {},
   "outputs": [
    {
     "data": {
      "text/plain": [
       "89.05"
      ]
     },
     "execution_count": 76,
     "metadata": {},
     "output_type": "execute_result"
    }
   ],
   "source": [
    "ts_knn = (accuracy_score(y_test, knn_clf.predict(X_test))*100).round(2)\n",
    "ts_knn"
   ]
  },
  {
   "cell_type": "markdown",
   "id": "51c6e005",
   "metadata": {},
   "source": [
    "### SMOTE"
   ]
  },
  {
   "cell_type": "markdown",
   "id": "d8e20158",
   "metadata": {},
   "source": [
    "**Melihat Classification Report (KNeighborsClassifier - SMOTE)**"
   ]
  },
  {
   "cell_type": "code",
   "execution_count": 77,
   "id": "da844876",
   "metadata": {},
   "outputs": [
    {
     "name": "stdout",
     "output_type": "stream",
     "text": [
      "Train Result:\n",
      "================================================\n",
      "Accuracy Score: 91.41%\n",
      "_______________________________________________\n",
      "CLASSIFICATION REPORT:\n",
      "                      0             1  accuracy     macro avg  weighted avg\n",
      "precision      0.978048      0.865175  0.914057      0.921612      0.921612\n",
      "recall         0.847128      0.980986  0.914057      0.914057      0.914057\n",
      "f1-score       0.907892      0.919448  0.914057      0.913670      0.913670\n",
      "support    27559.000000  27559.000000  0.914057  55118.000000  55118.000000\n",
      "_______________________________________________\n",
      "Confusion Matrix: \n",
      " [[23346  4213]\n",
      " [  524 27035]]\n",
      "\n",
      "Test Result:\n",
      "================================================\n",
      "Accuracy Score: 76.36%\n",
      "_______________________________________________\n",
      "CLASSIFICATION REPORT:\n",
      "                     0           1  accuracy    macro avg  weighted avg\n",
      "precision     0.936393    0.260630  0.763562     0.598512      0.859358\n",
      "recall        0.786570    0.584736  0.763562     0.685653      0.763562\n",
      "f1-score      0.854968    0.360554  0.763562     0.607761      0.798606\n",
      "support    6925.000000  891.000000  0.763562  7816.000000   7816.000000\n",
      "_______________________________________________\n",
      "Confusion Matrix: \n",
      " [[5447 1478]\n",
      " [ 370  521]]\n",
      "\n"
     ]
    }
   ],
   "source": [
    "knn_clf_sm = KNeighborsClassifier()\n",
    "knn_clf_sm.fit(X_train_smote, y_train_smote)\n",
    "\n",
    "print_score(knn_clf_sm, X_train_smote, y_train_smote, X_test, y_test, train=True)\n",
    "print_score(knn_clf_sm, X_train_smote, y_train_smote, X_test, y_test, train=False)"
   ]
  },
  {
   "cell_type": "markdown",
   "id": "225eb6d2",
   "metadata": {},
   "source": [
    "**Melihat Confusion Matriks secara visual**"
   ]
  },
  {
   "cell_type": "code",
   "execution_count": 78,
   "id": "197eeae3",
   "metadata": {},
   "outputs": [
    {
     "name": "stdout",
     "output_type": "stream",
     "text": [
      "Confusion Matrix (Test): \n",
      " AxesSubplot(0.125,0.125;0.62x0.755)\n",
      "\n",
      "None\n"
     ]
    },
    {
     "data": {
      "image/png": "[encoded data removed]",
      "text/plain": [
       "<Figure size 432x288 with 2 Axes>"
      ]
     },
     "metadata": {
      "needs_background": "light"
     },
     "output_type": "display_data"
    }
   ],
   "source": [
    "print(cm_heatmap(knn_clf_sm, X_train_smote, y_train_smote, X_test, y_test, train=False))"
   ]
  },
  {
   "cell_type": "markdown",
   "id": "c599f2b6",
   "metadata": {},
   "source": [
    "**Mendapatkan akurasi uji test**"
   ]
  },
  {
   "cell_type": "code",
   "execution_count": 79,
   "id": "3bf2c144",
   "metadata": {},
   "outputs": [
    {
     "data": {
      "text/plain": [
       "76.36"
      ]
     },
     "execution_count": 79,
     "metadata": {},
     "output_type": "execute_result"
    }
   ],
   "source": [
    "ts_knn_sm = (accuracy_score(y_test, knn_clf_sm.predict(X_test))*100).round(2)\n",
    "ts_knn_sm"
   ]
  },
  {
   "cell_type": "markdown",
   "id": "be5a6371",
   "metadata": {},
   "source": [
    "**Merangkum hasil akurasi uji test**"
   ]
  },
  {
   "cell_type": "code",
   "execution_count": 80,
   "id": "b7398776",
   "metadata": {},
   "outputs": [
    {
     "data": {
      "text/html": [
       "<div>\n",
       "<style scoped>\n",
       "    .dataframe tbody tr th:only-of-type {\n",
       "        vertical-align: middle;\n",
       "    }\n",
       "\n",
       "    .dataframe tbody tr th {\n",
       "        vertical-align: top;\n",
       "    }\n",
       "\n",
       "    .dataframe thead th {\n",
       "        text-align: right;\n",
       "    }\n",
       "</style>\n",
       "<table border=\"1\" class=\"dataframe\">\n",
       "  <thead>\n",
       "    <tr style=\"text-align: right;\">\n",
       "      <th></th>\n",
       "      <th>Model</th>\n",
       "      <th>Testing Accuracy %</th>\n",
       "      <th>Testing Accuracy (SMOTE) %</th>\n",
       "    </tr>\n",
       "  </thead>\n",
       "  <tbody>\n",
       "    <tr>\n",
       "      <th>0</th>\n",
       "      <td>Logistic Regression</td>\n",
       "      <td>89.82</td>\n",
       "      <td>81.60</td>\n",
       "    </tr>\n",
       "    <tr>\n",
       "      <th>1</th>\n",
       "      <td>K-Nearest Neighbors</td>\n",
       "      <td>89.05</td>\n",
       "      <td>76.36</td>\n",
       "    </tr>\n",
       "  </tbody>\n",
       "</table>\n",
       "</div>"
      ],
      "text/plain": [
       "                 Model  Testing Accuracy %  Testing Accuracy (SMOTE) %\n",
       "0  Logistic Regression               89.82                       81.60\n",
       "1  K-Nearest Neighbors               89.05                       76.36"
      ]
     },
     "execution_count": 80,
     "metadata": {},
     "output_type": "execute_result"
    }
   ],
   "source": [
    "ts_knn_row = {'Model':'K-Nearest Neighbors', 'Testing Accuracy %':ts_knn, 'Testing Accuracy (SMOTE) %': ts_knn_sm}\n",
    "\n",
    "#append row to the dataframe\n",
    "df_results = df_results.append(ts_knn_row, ignore_index=True)\n",
    "df_results "
   ]
  },
  {
   "cell_type": "markdown",
   "id": "3dd68402",
   "metadata": {},
   "source": [
    "## Support Vector Machine "
   ]
  },
  {
   "cell_type": "markdown",
   "id": "872be091",
   "metadata": {},
   "source": [
    "### Default"
   ]
  },
  {
   "cell_type": "markdown",
   "id": "d97ea73d",
   "metadata": {},
   "source": [
    "**Melihat Classification Report (SVC)**"
   ]
  },
  {
   "cell_type": "code",
   "execution_count": 81,
   "id": "1ee6407f",
   "metadata": {
    "scrolled": false
   },
   "outputs": [
    {
     "name": "stdout",
     "output_type": "stream",
     "text": [
      "Train Result:\n",
      "================================================\n",
      "Accuracy Score: 90.62%\n",
      "_______________________________________________\n",
      "CLASSIFICATION REPORT:\n",
      "                      0            1  accuracy     macro avg  weighted avg\n",
      "precision      0.912441     0.773598  0.906183      0.843019      0.895991\n",
      "recall         0.988425     0.294276  0.906183      0.641351      0.906183\n",
      "f1-score       0.948914     0.426364  0.906183      0.687639      0.887003\n",
      "support    27559.000000  3704.000000  0.906183  31263.000000  31263.000000\n",
      "_______________________________________________\n",
      "Confusion Matrix: \n",
      " [[27240   319]\n",
      " [ 2614  1090]]\n",
      "\n",
      "Test Result:\n",
      "================================================\n",
      "Accuracy Score: 89.84%\n",
      "_______________________________________________\n",
      "CLASSIFICATION REPORT:\n",
      "                     0           1  accuracy    macro avg  weighted avg\n",
      "precision     0.909552    0.646526  0.898414     0.778039      0.879568\n",
      "recall        0.983105    0.240180  0.898414     0.611642      0.898414\n",
      "f1-score      0.944899    0.350245  0.898414     0.647572      0.877111\n",
      "support    6925.000000  891.000000  0.898414  7816.000000   7816.000000\n",
      "_______________________________________________\n",
      "Confusion Matrix: \n",
      " [[6808  117]\n",
      " [ 677  214]]\n",
      "\n"
     ]
    }
   ],
   "source": [
    "svm_clf = SVC()\n",
    "svm_clf.fit(X_train, y_train)\n",
    "\n",
    "print_score(svm_clf, X_train, y_train, X_test, y_test, train=True)\n",
    "print_score(svm_clf, X_train, y_train, X_test, y_test, train=False)"
   ]
  },
  {
   "cell_type": "markdown",
   "id": "d59be2eb",
   "metadata": {},
   "source": [
    "**Melihat Confusion Matrisk secara visual**"
   ]
  },
  {
   "cell_type": "code",
   "execution_count": 82,
   "id": "45fbb2d9",
   "metadata": {},
   "outputs": [
    {
     "name": "stdout",
     "output_type": "stream",
     "text": [
      "Confusion Matrix (Test): \n",
      " AxesSubplot(0.125,0.125;0.62x0.755)\n",
      "\n",
      "None\n"
     ]
    },
    {
     "data": {
      "image/png": "[encoded data removed]",
      "text/plain": [
       "<Figure size 432x288 with 2 Axes>"
      ]
     },
     "metadata": {
      "needs_background": "light"
     },
     "output_type": "display_data"
    }
   ],
   "source": [
    "print(cm_heatmap(svm_clf, X_train, y_train, X_test, y_test, train=False))"
   ]
  },
  {
   "cell_type": "markdown",
   "id": "6ec4fe66",
   "metadata": {},
   "source": [
    "**Mendapatkan akurasi uji test**"
   ]
  },
  {
   "cell_type": "code",
   "execution_count": 83,
   "id": "f9a79008",
   "metadata": {},
   "outputs": [
    {
     "data": {
      "text/plain": [
       "89.84"
      ]
     },
     "execution_count": 83,
     "metadata": {},
     "output_type": "execute_result"
    }
   ],
   "source": [
    "ts_svm = (accuracy_score(y_test, svm_clf.predict(X_test))*100).round(2)\n",
    "ts_svm"
   ]
  },
  {
   "cell_type": "markdown",
   "id": "5758fa49",
   "metadata": {},
   "source": [
    "### SMOTE"
   ]
  },
  {
   "cell_type": "markdown",
   "id": "512a1a25",
   "metadata": {},
   "source": [
    "**Melihat Classification Report (SVC - SMOTE)**"
   ]
  },
  {
   "cell_type": "code",
   "execution_count": 84,
   "id": "6b19c6d3",
   "metadata": {},
   "outputs": [
    {
     "name": "stdout",
     "output_type": "stream",
     "text": [
      "Train Result:\n",
      "================================================\n",
      "Accuracy Score: 85.11%\n",
      "_______________________________________________\n",
      "CLASSIFICATION REPORT:\n",
      "                      0             1  accuracy     macro avg  weighted avg\n",
      "precision      0.812922      0.899938  0.851119      0.856430      0.856430\n",
      "recall         0.912152      0.790087  0.851119      0.851119      0.851119\n",
      "f1-score       0.859683      0.841442  0.851119      0.850563      0.850563\n",
      "support    27559.000000  27559.000000  0.851119  55118.000000  55118.000000\n",
      "_______________________________________________\n",
      "Confusion Matrix: \n",
      " [[25138  2421]\n",
      " [ 5785 21774]]\n",
      "\n",
      "Test Result:\n",
      "================================================\n",
      "Accuracy Score: 86.18%\n",
      "_______________________________________________\n",
      "CLASSIFICATION REPORT:\n",
      "                     0           1  accuracy    macro avg  weighted avg\n",
      "precision     0.936520    0.415700  0.861822     0.676110      0.877148\n",
      "recall        0.905415    0.523008  0.861822     0.714212      0.861822\n",
      "f1-score      0.920705    0.463221  0.861822     0.691963      0.868553\n",
      "support    6925.000000  891.000000  0.861822  7816.000000   7816.000000\n",
      "_______________________________________________\n",
      "Confusion Matrix: \n",
      " [[6270  655]\n",
      " [ 425  466]]\n",
      "\n"
     ]
    }
   ],
   "source": [
    "svm_clf_sm = SVC()\n",
    "svm_clf_sm.fit(X_train_smote, y_train_smote)\n",
    "\n",
    "print_score(svm_clf_sm, X_train_smote, y_train_smote, X_test, y_test, train=True)\n",
    "print_score(svm_clf_sm, X_train_smote, y_train_smote, X_test, y_test, train=False)"
   ]
  },
  {
   "cell_type": "markdown",
   "id": "35c75f5a",
   "metadata": {},
   "source": [
    "**Melihat Confusion Matriks secara visual**"
   ]
  },
  {
   "cell_type": "code",
   "execution_count": 85,
   "id": "89afbb83",
   "metadata": {},
   "outputs": [
    {
     "name": "stdout",
     "output_type": "stream",
     "text": [
      "Confusion Matrix (Test): \n",
      " AxesSubplot(0.125,0.125;0.62x0.755)\n",
      "\n",
      "None\n"
     ]
    },
    {
     "data": {
      "image/png": "[encoded data removed]",
      "text/plain": [
       "<Figure size 432x288 with 2 Axes>"
      ]
     },
     "metadata": {
      "needs_background": "light"
     },
     "output_type": "display_data"
    }
   ],
   "source": [
    "print(cm_heatmap(svm_clf_sm, X_train_smote, y_train_smote, X_test, y_test, train=False))"
   ]
  },
  {
   "cell_type": "markdown",
   "id": "ecb14797",
   "metadata": {},
   "source": [
    "**Mendapatkan akurasi uji test**"
   ]
  },
  {
   "cell_type": "code",
   "execution_count": 86,
   "id": "5447a7eb",
   "metadata": {},
   "outputs": [
    {
     "data": {
      "text/plain": [
       "86.18"
      ]
     },
     "execution_count": 86,
     "metadata": {},
     "output_type": "execute_result"
    }
   ],
   "source": [
    "ts_svm_sm = (accuracy_score(y_test, svm_clf_sm.predict(X_test))*100).round(2)\n",
    "ts_svm_sm"
   ]
  },
  {
   "cell_type": "markdown",
   "id": "cae5cf74",
   "metadata": {},
   "source": [
    "**Merangkum hasil akurasi uji test**"
   ]
  },
  {
   "cell_type": "code",
   "execution_count": 87,
   "id": "25601770",
   "metadata": {},
   "outputs": [
    {
     "data": {
      "text/html": [
       "<div>\n",
       "<style scoped>\n",
       "    .dataframe tbody tr th:only-of-type {\n",
       "        vertical-align: middle;\n",
       "    }\n",
       "\n",
       "    .dataframe tbody tr th {\n",
       "        vertical-align: top;\n",
       "    }\n",
       "\n",
       "    .dataframe thead th {\n",
       "        text-align: right;\n",
       "    }\n",
       "</style>\n",
       "<table border=\"1\" class=\"dataframe\">\n",
       "  <thead>\n",
       "    <tr style=\"text-align: right;\">\n",
       "      <th></th>\n",
       "      <th>Model</th>\n",
       "      <th>Testing Accuracy %</th>\n",
       "      <th>Testing Accuracy (SMOTE) %</th>\n",
       "    </tr>\n",
       "  </thead>\n",
       "  <tbody>\n",
       "    <tr>\n",
       "      <th>0</th>\n",
       "      <td>Logistic Regression</td>\n",
       "      <td>89.82</td>\n",
       "      <td>81.60</td>\n",
       "    </tr>\n",
       "    <tr>\n",
       "      <th>1</th>\n",
       "      <td>K-Nearest Neighbors</td>\n",
       "      <td>89.05</td>\n",
       "      <td>76.36</td>\n",
       "    </tr>\n",
       "    <tr>\n",
       "      <th>2</th>\n",
       "      <td>Support Vector Machine</td>\n",
       "      <td>89.84</td>\n",
       "      <td>86.18</td>\n",
       "    </tr>\n",
       "  </tbody>\n",
       "</table>\n",
       "</div>"
      ],
      "text/plain": [
       "                    Model  Testing Accuracy %  Testing Accuracy (SMOTE) %\n",
       "0     Logistic Regression               89.82                       81.60\n",
       "1     K-Nearest Neighbors               89.05                       76.36\n",
       "2  Support Vector Machine               89.84                       86.18"
      ]
     },
     "execution_count": 87,
     "metadata": {},
     "output_type": "execute_result"
    }
   ],
   "source": [
    "ts_svm_row = {'Model':'Support Vector Machine', 'Testing Accuracy %':ts_svm, 'Testing Accuracy (SMOTE) %': ts_svm_sm}\n",
    "\n",
    "#append row to the dataframe\n",
    "df_results = df_results.append(ts_svm_row, ignore_index=True)\n",
    "df_results "
   ]
  },
  {
   "cell_type": "markdown",
   "id": "6f1b254b",
   "metadata": {},
   "source": [
    "## Decision Tree"
   ]
  },
  {
   "cell_type": "markdown",
   "id": "5dcee025",
   "metadata": {},
   "source": [
    "### Default"
   ]
  },
  {
   "cell_type": "markdown",
   "id": "b424217e",
   "metadata": {},
   "source": [
    "**Melihat Classification Report (DecisionTreeClassifier)**"
   ]
  },
  {
   "cell_type": "code",
   "execution_count": 88,
   "id": "e4bceaac",
   "metadata": {},
   "outputs": [
    {
     "name": "stdout",
     "output_type": "stream",
     "text": [
      "Train Result:\n",
      "================================================\n",
      "Accuracy Score: 99.39%\n",
      "_______________________________________________\n",
      "CLASSIFICATION REPORT:\n",
      "                      0            1  accuracy     macro avg  weighted avg\n",
      "precision      0.993153     1.000000  0.993923      0.996576      0.993964\n",
      "recall         1.000000     0.948704  0.993923      0.974352      0.993923\n",
      "f1-score       0.996565     0.973677  0.993923      0.985121      0.993853\n",
      "support    27559.000000  3704.000000  0.993923  31263.000000  31263.000000\n",
      "_______________________________________________\n",
      "Confusion Matrix: \n",
      " [[27559     0]\n",
      " [  190  3514]]\n",
      "\n",
      "Test Result:\n",
      "================================================\n",
      "Accuracy Score: 84.01%\n",
      "_______________________________________________\n",
      "CLASSIFICATION REPORT:\n",
      "                     0           1  accuracy    macro avg  weighted avg\n",
      "precision     0.914900    0.316274  0.840072     0.615587      0.846658\n",
      "recall        0.903538    0.346801  0.840072     0.625170      0.840072\n",
      "f1-score      0.909183    0.330835  0.840072     0.620009      0.843253\n",
      "support    6925.000000  891.000000  0.840072  7816.000000   7816.000000\n",
      "_______________________________________________\n",
      "Confusion Matrix: \n",
      " [[6257  668]\n",
      " [ 582  309]]\n",
      "\n"
     ]
    }
   ],
   "source": [
    "dt_clf = DecisionTreeClassifier()\n",
    "dt_clf.fit(X_train, y_train)\n",
    "\n",
    "print_score(dt_clf, X_train, y_train, X_test, y_test, train=True)\n",
    "print_score(dt_clf, X_train, y_train, X_test, y_test, train=False)"
   ]
  },
  {
   "cell_type": "markdown",
   "id": "cadcfad8",
   "metadata": {},
   "source": [
    "**Melihat Confusion Matriks secara visual**"
   ]
  },
  {
   "cell_type": "code",
   "execution_count": 89,
   "id": "f4067e71",
   "metadata": {},
   "outputs": [
    {
     "name": "stdout",
     "output_type": "stream",
     "text": [
      "Confusion Matrix (Test): \n",
      " AxesSubplot(0.125,0.125;0.62x0.755)\n",
      "\n",
      "None\n"
     ]
    },
    {
     "data": {
      "image/png": "[encoded data removed]",
      "text/plain": [
       "<Figure size 432x288 with 2 Axes>"
      ]
     },
     "metadata": {
      "needs_background": "light"
     },
     "output_type": "display_data"
    }
   ],
   "source": [
    "print(cm_heatmap(dt_clf, X_train, y_train, X_test, y_test, train=False))"
   ]
  },
  {
   "cell_type": "markdown",
   "id": "f017b785",
   "metadata": {},
   "source": [
    "**Mendapatkan akurasi uji test**"
   ]
  },
  {
   "cell_type": "code",
   "execution_count": 90,
   "id": "7a2fda31",
   "metadata": {},
   "outputs": [
    {
     "data": {
      "text/plain": [
       "84.01"
      ]
     },
     "execution_count": 90,
     "metadata": {},
     "output_type": "execute_result"
    }
   ],
   "source": [
    "ts_dt = (accuracy_score(y_test, dt_clf.predict(X_test))*100).round(2)\n",
    "ts_dt"
   ]
  },
  {
   "cell_type": "markdown",
   "id": "3e7c4b43",
   "metadata": {},
   "source": [
    "### SMOTE"
   ]
  },
  {
   "cell_type": "markdown",
   "id": "6dec5caa",
   "metadata": {},
   "source": [
    "**Melihat Classification Report (DecisionTreeClassifier - SMOTE)**"
   ]
  },
  {
   "cell_type": "code",
   "execution_count": 91,
   "id": "f1981423",
   "metadata": {},
   "outputs": [
    {
     "name": "stdout",
     "output_type": "stream",
     "text": [
      "Train Result:\n",
      "================================================\n",
      "Accuracy Score: 99.66%\n",
      "_______________________________________________\n",
      "CLASSIFICATION REPORT:\n",
      "                      0             1  accuracy     macro avg  weighted avg\n",
      "precision      0.993153      1.000000  0.996553      0.996576      0.996576\n",
      "recall         1.000000      0.993106  0.996553      0.996553      0.996553\n",
      "f1-score       0.996565      0.996541  0.996553      0.996553      0.996553\n",
      "support    27559.000000  27559.000000  0.996553  55118.000000  55118.000000\n",
      "_______________________________________________\n",
      "Confusion Matrix: \n",
      " [[27559     0]\n",
      " [  190 27369]]\n",
      "\n",
      "Test Result:\n",
      "================================================\n",
      "Accuracy Score: 82.96%\n",
      "_______________________________________________\n",
      "CLASSIFICATION REPORT:\n",
      "                     0           1  accuracy    macro avg  weighted avg\n",
      "precision     0.913745    0.291391   0.82958     0.602568      0.842798\n",
      "recall        0.891841    0.345679   0.82958     0.618760      0.829580\n",
      "f1-score      0.902660    0.316222   0.82958     0.609441      0.835808\n",
      "support    6925.000000  891.000000   0.82958  7816.000000   7816.000000\n",
      "_______________________________________________\n",
      "Confusion Matrix: \n",
      " [[6176  749]\n",
      " [ 583  308]]\n",
      "\n"
     ]
    }
   ],
   "source": [
    "dt_clf_sm = DecisionTreeClassifier()\n",
    "dt_clf_sm.fit(X_train_smote, y_train_smote)\n",
    "\n",
    "print_score(dt_clf_sm, X_train_smote, y_train_smote, X_test, y_test, train=True)\n",
    "print_score(dt_clf_sm, X_train_smote, y_train_smote, X_test, y_test, train=False)"
   ]
  },
  {
   "cell_type": "markdown",
   "id": "05b49e79",
   "metadata": {},
   "source": [
    "**Melihat Confusion Matriks secara visual**"
   ]
  },
  {
   "cell_type": "code",
   "execution_count": 92,
   "id": "34f038de",
   "metadata": {},
   "outputs": [
    {
     "name": "stdout",
     "output_type": "stream",
     "text": [
      "Confusion Matrix (Test): \n",
      " AxesSubplot(0.125,0.125;0.62x0.755)\n",
      "\n",
      "None\n"
     ]
    },
    {
     "data": {
      "image/png": "[encoded data removed]",
      "text/plain": [
       "<Figure size 432x288 with 2 Axes>"
      ]
     },
     "metadata": {
      "needs_background": "light"
     },
     "output_type": "display_data"
    }
   ],
   "source": [
    "print(cm_heatmap(dt_clf_sm, X_train_smote, y_train_smote, X_test, y_test, train=False))"
   ]
  },
  {
   "cell_type": "markdown",
   "id": "f2da1429",
   "metadata": {},
   "source": [
    "**Mendapatkan akurasi uji test**"
   ]
  },
  {
   "cell_type": "code",
   "execution_count": 93,
   "id": "8d61202f",
   "metadata": {},
   "outputs": [
    {
     "data": {
      "text/plain": [
       "82.96"
      ]
     },
     "execution_count": 93,
     "metadata": {},
     "output_type": "execute_result"
    }
   ],
   "source": [
    "ts_dt_sm = (accuracy_score(y_test, dt_clf_sm.predict(X_test))*100).round(2)\n",
    "ts_dt_sm"
   ]
  },
  {
   "cell_type": "markdown",
   "id": "162b0a72",
   "metadata": {},
   "source": [
    "**Merangkum hasil akurasi uji test**"
   ]
  },
  {
   "cell_type": "code",
   "execution_count": 94,
   "id": "e80f2143",
   "metadata": {},
   "outputs": [
    {
     "data": {
      "text/html": [
       "<div>\n",
       "<style scoped>\n",
       "    .dataframe tbody tr th:only-of-type {\n",
       "        vertical-align: middle;\n",
       "    }\n",
       "\n",
       "    .dataframe tbody tr th {\n",
       "        vertical-align: top;\n",
       "    }\n",
       "\n",
       "    .dataframe thead th {\n",
       "        text-align: right;\n",
       "    }\n",
       "</style>\n",
       "<table border=\"1\" class=\"dataframe\">\n",
       "  <thead>\n",
       "    <tr style=\"text-align: right;\">\n",
       "      <th></th>\n",
       "      <th>Model</th>\n",
       "      <th>Testing Accuracy %</th>\n",
       "      <th>Testing Accuracy (SMOTE) %</th>\n",
       "    </tr>\n",
       "  </thead>\n",
       "  <tbody>\n",
       "    <tr>\n",
       "      <th>0</th>\n",
       "      <td>Logistic Regression</td>\n",
       "      <td>89.82</td>\n",
       "      <td>81.60</td>\n",
       "    </tr>\n",
       "    <tr>\n",
       "      <th>1</th>\n",
       "      <td>K-Nearest Neighbors</td>\n",
       "      <td>89.05</td>\n",
       "      <td>76.36</td>\n",
       "    </tr>\n",
       "    <tr>\n",
       "      <th>2</th>\n",
       "      <td>Support Vector Machine</td>\n",
       "      <td>89.84</td>\n",
       "      <td>86.18</td>\n",
       "    </tr>\n",
       "    <tr>\n",
       "      <th>3</th>\n",
       "      <td>Decision Tree</td>\n",
       "      <td>84.01</td>\n",
       "      <td>82.96</td>\n",
       "    </tr>\n",
       "  </tbody>\n",
       "</table>\n",
       "</div>"
      ],
      "text/plain": [
       "                    Model  Testing Accuracy %  Testing Accuracy (SMOTE) %\n",
       "0     Logistic Regression               89.82                       81.60\n",
       "1     K-Nearest Neighbors               89.05                       76.36\n",
       "2  Support Vector Machine               89.84                       86.18\n",
       "3           Decision Tree               84.01                       82.96"
      ]
     },
     "execution_count": 94,
     "metadata": {},
     "output_type": "execute_result"
    }
   ],
   "source": [
    "ts_dt_row = {'Model':'Decision Tree', 'Testing Accuracy %':ts_dt, 'Testing Accuracy (SMOTE) %': ts_dt_sm}\n",
    "\n",
    "#append row to the dataframe\n",
    "df_results = df_results.append(ts_dt_row, ignore_index=True)\n",
    "df_results "
   ]
  },
  {
   "cell_type": "markdown",
   "id": "df310e85",
   "metadata": {},
   "source": [
    "## Random Forest"
   ]
  },
  {
   "cell_type": "markdown",
   "id": "0b97099a",
   "metadata": {},
   "source": [
    "### Default"
   ]
  },
  {
   "cell_type": "markdown",
   "id": "8afb8a54",
   "metadata": {},
   "source": [
    "**Melihat Classification Report (RandomForestClassifier)**"
   ]
  },
  {
   "cell_type": "code",
   "execution_count": 95,
   "id": "65e66b98",
   "metadata": {},
   "outputs": [
    {
     "name": "stdout",
     "output_type": "stream",
     "text": [
      "Train Result:\n",
      "================================================\n",
      "Accuracy Score: 99.39%\n",
      "_______________________________________________\n",
      "CLASSIFICATION REPORT:\n",
      "                      0            1  accuracy     macro avg  weighted avg\n",
      "precision      0.994436     0.989685  0.993891      0.992060      0.993873\n",
      "recall         0.998657     0.958423  0.993891      0.978540      0.993891\n",
      "f1-score       0.996542     0.973803  0.993891      0.985173      0.993848\n",
      "support    27559.000000  3704.000000  0.993891  31263.000000  31263.000000\n",
      "_______________________________________________\n",
      "Confusion Matrix: \n",
      " [[27522    37]\n",
      " [  154  3550]]\n",
      "\n",
      "Test Result:\n",
      "================================================\n",
      "Accuracy Score: 88.91%\n",
      "_______________________________________________\n",
      "CLASSIFICATION REPORT:\n",
      "                     0           1  accuracy    macro avg  weighted avg\n",
      "precision     0.912783    0.525105  0.889074     0.718944      0.868589\n",
      "recall        0.967220    0.281706  0.889074     0.624463      0.889074\n",
      "f1-score      0.939213    0.366691  0.889074     0.652952      0.873948\n",
      "support    6925.000000  891.000000  0.889074  7816.000000   7816.000000\n",
      "_______________________________________________\n",
      "Confusion Matrix: \n",
      " [[6698  227]\n",
      " [ 640  251]]\n",
      "\n"
     ]
    }
   ],
   "source": [
    "rf_clf = RandomForestClassifier()\n",
    "rf_clf.fit(X_train, y_train)\n",
    "\n",
    "print_score(rf_clf, X_train, y_train, X_test, y_test, train=True)\n",
    "print_score(rf_clf, X_train, y_train, X_test, y_test, train=False)"
   ]
  },
  {
   "cell_type": "markdown",
   "id": "ee8a6b71",
   "metadata": {},
   "source": [
    "**Melihat Confusion Matriks secara visual**"
   ]
  },
  {
   "cell_type": "code",
   "execution_count": 96,
   "id": "81495e3e",
   "metadata": {},
   "outputs": [
    {
     "name": "stdout",
     "output_type": "stream",
     "text": [
      "Confusion Matrix (Test): \n",
      " AxesSubplot(0.125,0.125;0.62x0.755)\n",
      "\n",
      "None\n"
     ]
    },
    {
     "data": {
      "image/png": "[encoded data removed]",
      "text/plain": [
       "<Figure size 432x288 with 2 Axes>"
      ]
     },
     "metadata": {
      "needs_background": "light"
     },
     "output_type": "display_data"
    }
   ],
   "source": [
    "print(cm_heatmap(rf_clf, X_train, y_train, X_test, y_test, train=False))"
   ]
  },
  {
   "cell_type": "markdown",
   "id": "48125d06",
   "metadata": {},
   "source": [
    "**Mendapatkan akurasi uji test**"
   ]
  },
  {
   "cell_type": "code",
   "execution_count": 97,
   "id": "0eacaffa",
   "metadata": {},
   "outputs": [
    {
     "data": {
      "text/plain": [
       "88.91"
      ]
     },
     "execution_count": 97,
     "metadata": {},
     "output_type": "execute_result"
    }
   ],
   "source": [
    "ts_rf = (accuracy_score(y_test, rf_clf.predict(X_test))*100).round(2)\n",
    "ts_rf"
   ]
  },
  {
   "cell_type": "markdown",
   "id": "5698f9b4",
   "metadata": {},
   "source": [
    "### SMOTE"
   ]
  },
  {
   "cell_type": "markdown",
   "id": "69cd87ce",
   "metadata": {},
   "source": [
    "**Melihat Classification Report (RandomForestClassifier - SMOTE)**"
   ]
  },
  {
   "cell_type": "code",
   "execution_count": 98,
   "id": "6342941c",
   "metadata": {},
   "outputs": [
    {
     "name": "stdout",
     "output_type": "stream",
     "text": [
      "Train Result:\n",
      "================================================\n",
      "Accuracy Score: 99.66%\n",
      "_______________________________________________\n",
      "CLASSIFICATION REPORT:\n",
      "                      0             1  accuracy     macro avg  weighted avg\n",
      "precision      0.993153      1.000000  0.996553      0.996576      0.996576\n",
      "recall         1.000000      0.993106  0.996553      0.996553      0.996553\n",
      "f1-score       0.996565      0.996541  0.996553      0.996553      0.996553\n",
      "support    27559.000000  27559.000000  0.996553  55118.000000  55118.000000\n",
      "_______________________________________________\n",
      "Confusion Matrix: \n",
      " [[27559     0]\n",
      " [  190 27369]]\n",
      "\n",
      "Test Result:\n",
      "================================================\n",
      "Accuracy Score: 83.19%\n",
      "_______________________________________________\n",
      "CLASSIFICATION REPORT:\n",
      "                     0           1  accuracy    macro avg  weighted avg\n",
      "precision     0.914463    0.297994  0.831883     0.606229      0.844187\n",
      "recall        0.893863    0.350168  0.831883     0.622016      0.831883\n",
      "f1-score      0.904046    0.321981  0.831883     0.613013      0.837692\n",
      "support    6925.000000  891.000000  0.831883  7816.000000   7816.000000\n",
      "_______________________________________________\n",
      "Confusion Matrix: \n",
      " [[6190  735]\n",
      " [ 579  312]]\n",
      "\n"
     ]
    }
   ],
   "source": [
    "rf_clf_sm = DecisionTreeClassifier()\n",
    "rf_clf_sm.fit(X_train_smote, y_train_smote)\n",
    "\n",
    "print_score(rf_clf_sm, X_train_smote, y_train_smote, X_test, y_test, train=True)\n",
    "print_score(rf_clf_sm, X_train_smote, y_train_smote, X_test, y_test, train=False)"
   ]
  },
  {
   "cell_type": "markdown",
   "id": "6f201148",
   "metadata": {},
   "source": [
    "**Melihat Confusion Matriks secara visual**"
   ]
  },
  {
   "cell_type": "code",
   "execution_count": 99,
   "id": "288bd44b",
   "metadata": {},
   "outputs": [
    {
     "name": "stdout",
     "output_type": "stream",
     "text": [
      "Confusion Matrix (Test): \n",
      " AxesSubplot(0.125,0.125;0.62x0.755)\n",
      "\n",
      "None\n"
     ]
    },
    {
     "data": {
      "image/png": "[encoded data removed]",
      "text/plain": [
       "<Figure size 432x288 with 2 Axes>"
      ]
     },
     "metadata": {
      "needs_background": "light"
     },
     "output_type": "display_data"
    }
   ],
   "source": [
    "print(cm_heatmap(rf_clf_sm, X_train_smote, y_train_smote, X_test, y_test, train=False))"
   ]
  },
  {
   "cell_type": "markdown",
   "id": "5e01995c",
   "metadata": {},
   "source": [
    "**Mendapatkan akurasi uji test**"
   ]
  },
  {
   "cell_type": "code",
   "execution_count": 100,
   "id": "6ece4a30",
   "metadata": {},
   "outputs": [
    {
     "data": {
      "text/plain": [
       "83.19"
      ]
     },
     "execution_count": 100,
     "metadata": {},
     "output_type": "execute_result"
    }
   ],
   "source": [
    "ts_rf_sm = (accuracy_score(y_test, rf_clf_sm.predict(X_test))*100).round(2)\n",
    "ts_rf_sm"
   ]
  },
  {
   "cell_type": "markdown",
   "id": "a5ee975f",
   "metadata": {},
   "source": [
    "**Merangkum hasil akurasi uji test**"
   ]
  },
  {
   "cell_type": "code",
   "execution_count": 101,
   "id": "3fc83a4f",
   "metadata": {
    "scrolled": false
   },
   "outputs": [
    {
     "data": {
      "text/html": [
       "<div>\n",
       "<style scoped>\n",
       "    .dataframe tbody tr th:only-of-type {\n",
       "        vertical-align: middle;\n",
       "    }\n",
       "\n",
       "    .dataframe tbody tr th {\n",
       "        vertical-align: top;\n",
       "    }\n",
       "\n",
       "    .dataframe thead th {\n",
       "        text-align: right;\n",
       "    }\n",
       "</style>\n",
       "<table border=\"1\" class=\"dataframe\">\n",
       "  <thead>\n",
       "    <tr style=\"text-align: right;\">\n",
       "      <th></th>\n",
       "      <th>Model</th>\n",
       "      <th>Testing Accuracy %</th>\n",
       "      <th>Testing Accuracy (SMOTE) %</th>\n",
       "    </tr>\n",
       "  </thead>\n",
       "  <tbody>\n",
       "    <tr>\n",
       "      <th>0</th>\n",
       "      <td>Logistic Regression</td>\n",
       "      <td>89.82</td>\n",
       "      <td>81.60</td>\n",
       "    </tr>\n",
       "    <tr>\n",
       "      <th>1</th>\n",
       "      <td>K-Nearest Neighbors</td>\n",
       "      <td>89.05</td>\n",
       "      <td>76.36</td>\n",
       "    </tr>\n",
       "    <tr>\n",
       "      <th>2</th>\n",
       "      <td>Support Vector Machine</td>\n",
       "      <td>89.84</td>\n",
       "      <td>86.18</td>\n",
       "    </tr>\n",
       "    <tr>\n",
       "      <th>3</th>\n",
       "      <td>Decision Tree</td>\n",
       "      <td>84.01</td>\n",
       "      <td>82.96</td>\n",
       "    </tr>\n",
       "    <tr>\n",
       "      <th>4</th>\n",
       "      <td>Random Forest</td>\n",
       "      <td>88.91</td>\n",
       "      <td>83.19</td>\n",
       "    </tr>\n",
       "  </tbody>\n",
       "</table>\n",
       "</div>"
      ],
      "text/plain": [
       "                    Model  Testing Accuracy %  Testing Accuracy (SMOTE) %\n",
       "0     Logistic Regression               89.82                       81.60\n",
       "1     K-Nearest Neighbors               89.05                       76.36\n",
       "2  Support Vector Machine               89.84                       86.18\n",
       "3           Decision Tree               84.01                       82.96\n",
       "4           Random Forest               88.91                       83.19"
      ]
     },
     "execution_count": 101,
     "metadata": {},
     "output_type": "execute_result"
    }
   ],
   "source": [
    "ts_rf_row = {'Model':'Random Forest', 'Testing Accuracy %':ts_rf, 'Testing Accuracy (SMOTE) %': ts_rf_sm}\n",
    "\n",
    "#append row to the dataframe\n",
    "df_results = df_results.append(ts_rf_row, ignore_index=True)\n",
    "df_results "
   ]
  },
  {
   "cell_type": "markdown",
   "id": "9d909be0",
   "metadata": {},
   "source": [
    "## Naive Bayes"
   ]
  },
  {
   "cell_type": "markdown",
   "id": "60f64a78",
   "metadata": {},
   "source": [
    "### Default"
   ]
  },
  {
   "cell_type": "markdown",
   "id": "a8a58c77",
   "metadata": {},
   "source": [
    "**Melihat Classification Report (Naive Bayes)**"
   ]
  },
  {
   "cell_type": "code",
   "execution_count": 102,
   "id": "8c0bb7b8",
   "metadata": {},
   "outputs": [
    {
     "name": "stdout",
     "output_type": "stream",
     "text": [
      "Train Result:\n",
      "================================================\n",
      "Accuracy Score: 85.33%\n",
      "_______________________________________________\n",
      "CLASSIFICATION REPORT:\n",
      "                      0            1  accuracy     macro avg  weighted avg\n",
      "precision      0.926044     0.397582  0.853341      0.661813      0.863433\n",
      "recall         0.905984     0.461663  0.853341      0.683823      0.853341\n",
      "f1-score       0.915904     0.427233  0.853341      0.671568      0.858007\n",
      "support    27559.000000  3704.000000  0.853341  31263.000000  31263.000000\n",
      "_______________________________________________\n",
      "Confusion Matrix: \n",
      " [[24968  2591]\n",
      " [ 1994  1710]]\n",
      "\n",
      "Test Result:\n",
      "================================================\n",
      "Accuracy Score: 85.61%\n",
      "_______________________________________________\n",
      "CLASSIFICATION REPORT:\n",
      "                     0           1  accuracy    macro avg  weighted avg\n",
      "precision     0.928360    0.388145  0.856064     0.658253      0.866778\n",
      "recall        0.907581    0.455668  0.856064     0.681625      0.856064\n",
      "f1-score      0.917853    0.419205  0.856064     0.668529      0.861009\n",
      "support    6925.000000  891.000000  0.856064  7816.000000   7816.000000\n",
      "_______________________________________________\n",
      "Confusion Matrix: \n",
      " [[6285  640]\n",
      " [ 485  406]]\n",
      "\n"
     ]
    }
   ],
   "source": [
    "gnb_clf = GaussianNB()\n",
    "gnb_clf.fit(X_train, y_train)\n",
    "\n",
    "print_score(gnb_clf, X_train, y_train, X_test, y_test, train=True)\n",
    "print_score(gnb_clf, X_train, y_train, X_test, y_test, train=False)"
   ]
  },
  {
   "cell_type": "markdown",
   "id": "dfec5d1d",
   "metadata": {},
   "source": [
    "**Melihat Confusion Matriks secara visual**"
   ]
  },
  {
   "cell_type": "code",
   "execution_count": 103,
   "id": "211d1306",
   "metadata": {},
   "outputs": [
    {
     "name": "stdout",
     "output_type": "stream",
     "text": [
      "Confusion Matrix (Test): \n",
      " AxesSubplot(0.125,0.125;0.62x0.755)\n",
      "\n",
      "None\n"
     ]
    },
    {
     "data": {
      "image/png": "[encoded data removed]",
      "text/plain": [
       "<Figure size 432x288 with 2 Axes>"
      ]
     },
     "metadata": {
      "needs_background": "light"
     },
     "output_type": "display_data"
    }
   ],
   "source": [
    "print(cm_heatmap(gnb_clf, X_train, y_train, X_test, y_test, train=False))"
   ]
  },
  {
   "cell_type": "markdown",
   "id": "2f0cb4c6",
   "metadata": {},
   "source": [
    "**Mendapatkan akurasi uji test**"
   ]
  },
  {
   "cell_type": "code",
   "execution_count": 104,
   "id": "8dc62d2f",
   "metadata": {},
   "outputs": [
    {
     "data": {
      "text/plain": [
       "85.61"
      ]
     },
     "execution_count": 104,
     "metadata": {},
     "output_type": "execute_result"
    }
   ],
   "source": [
    "ts_gnb = (accuracy_score(y_test, gnb_clf.predict(X_test))*100).round(2)\n",
    "ts_gnb"
   ]
  },
  {
   "cell_type": "markdown",
   "id": "2b3e7b3b",
   "metadata": {},
   "source": [
    "### SMOTE"
   ]
  },
  {
   "cell_type": "markdown",
   "id": "26ab3510",
   "metadata": {},
   "source": [
    "**Melihat Classification Report (Naive Bayes - SMOTE)**"
   ]
  },
  {
   "cell_type": "code",
   "execution_count": 105,
   "id": "a8a80b1a",
   "metadata": {},
   "outputs": [
    {
     "name": "stdout",
     "output_type": "stream",
     "text": [
      "Train Result:\n",
      "================================================\n",
      "Accuracy Score: 70.13%\n",
      "_______________________________________________\n",
      "CLASSIFICATION REPORT:\n",
      "                      0             1  accuracy     macro avg  weighted avg\n",
      "precision      0.651661      0.799385  0.701332      0.725523      0.725523\n",
      "recall         0.865089      0.537574  0.701332      0.701332      0.701332\n",
      "f1-score       0.743359      0.642845  0.701332      0.693102      0.693102\n",
      "support    27559.000000  27559.000000  0.701332  55118.000000  55118.000000\n",
      "_______________________________________________\n",
      "Confusion Matrix: \n",
      " [[23841  3718]\n",
      " [12744 14815]]\n",
      "\n",
      "Test Result:\n",
      "================================================\n",
      "Accuracy Score: 83.09%\n",
      "_______________________________________________\n",
      "CLASSIFICATION REPORT:\n",
      "                     0           1  accuracy    macro avg  weighted avg\n",
      "precision     0.935895    0.344852   0.83086     0.640374      0.868518\n",
      "recall        0.868592    0.537598   0.83086     0.703095      0.830860\n",
      "f1-score      0.900989    0.420175   0.83086     0.660582      0.846177\n",
      "support    6925.000000  891.000000   0.83086  7816.000000   7816.000000\n",
      "_______________________________________________\n",
      "Confusion Matrix: \n",
      " [[6015  910]\n",
      " [ 412  479]]\n",
      "\n"
     ]
    }
   ],
   "source": [
    "gnb_clf_sm = GaussianNB()\n",
    "gnb_clf_sm.fit(X_train_smote, y_train_smote)\n",
    "\n",
    "print_score(gnb_clf_sm, X_train_smote, y_train_smote, X_test, y_test, train=True)\n",
    "print_score(gnb_clf_sm, X_train_smote, y_train_smote, X_test, y_test, train=False)"
   ]
  },
  {
   "cell_type": "markdown",
   "id": "565999f0",
   "metadata": {},
   "source": [
    "**Melihat Confusion Matriks secara visual**"
   ]
  },
  {
   "cell_type": "code",
   "execution_count": 106,
   "id": "147c63a6",
   "metadata": {},
   "outputs": [
    {
     "name": "stdout",
     "output_type": "stream",
     "text": [
      "Confusion Matrix (Test): \n",
      " AxesSubplot(0.125,0.125;0.62x0.755)\n",
      "\n",
      "None\n"
     ]
    },
    {
     "data": {
      "image/png": "[encoded data removed]",
      "text/plain": [
       "<Figure size 432x288 with 2 Axes>"
      ]
     },
     "metadata": {
      "needs_background": "light"
     },
     "output_type": "display_data"
    }
   ],
   "source": [
    "print(cm_heatmap(gnb_clf_sm, X_train_smote, y_train_smote, X_test, y_test, train=False))"
   ]
  },
  {
   "cell_type": "markdown",
   "id": "cb47eb1e",
   "metadata": {},
   "source": [
    "**Mendapatkan akurasi uji test**"
   ]
  },
  {
   "cell_type": "code",
   "execution_count": 107,
   "id": "75ad863d",
   "metadata": {},
   "outputs": [
    {
     "data": {
      "text/plain": [
       "83.09"
      ]
     },
     "execution_count": 107,
     "metadata": {},
     "output_type": "execute_result"
    }
   ],
   "source": [
    "ts_gnb_sm = (accuracy_score(y_test, gnb_clf_sm.predict(X_test))*100).round(2)\n",
    "ts_gnb_sm"
   ]
  },
  {
   "cell_type": "markdown",
   "id": "9809d654",
   "metadata": {},
   "source": [
    "# Conclusion (Accuracy Model)"
   ]
  },
  {
   "cell_type": "markdown",
   "id": "3d463921",
   "metadata": {},
   "source": [
    "**Merangkum hasil akurasi uji test**"
   ]
  },
  {
   "cell_type": "code",
   "execution_count": 108,
   "id": "27d73849",
   "metadata": {},
   "outputs": [
    {
     "data": {
      "text/html": [
       "<div>\n",
       "<style scoped>\n",
       "    .dataframe tbody tr th:only-of-type {\n",
       "        vertical-align: middle;\n",
       "    }\n",
       "\n",
       "    .dataframe tbody tr th {\n",
       "        vertical-align: top;\n",
       "    }\n",
       "\n",
       "    .dataframe thead th {\n",
       "        text-align: right;\n",
       "    }\n",
       "</style>\n",
       "<table border=\"1\" class=\"dataframe\">\n",
       "  <thead>\n",
       "    <tr style=\"text-align: right;\">\n",
       "      <th></th>\n",
       "      <th>Model</th>\n",
       "      <th>Testing Accuracy %</th>\n",
       "      <th>Testing Accuracy (SMOTE) %</th>\n",
       "    </tr>\n",
       "  </thead>\n",
       "  <tbody>\n",
       "    <tr>\n",
       "      <th>0</th>\n",
       "      <td>Logistic Regression</td>\n",
       "      <td>89.82</td>\n",
       "      <td>81.60</td>\n",
       "    </tr>\n",
       "    <tr>\n",
       "      <th>1</th>\n",
       "      <td>K-Nearest Neighbors</td>\n",
       "      <td>89.05</td>\n",
       "      <td>76.36</td>\n",
       "    </tr>\n",
       "    <tr>\n",
       "      <th>2</th>\n",
       "      <td>Support Vector Machine</td>\n",
       "      <td>89.84</td>\n",
       "      <td>86.18</td>\n",
       "    </tr>\n",
       "    <tr>\n",
       "      <th>3</th>\n",
       "      <td>Decision Tree</td>\n",
       "      <td>84.01</td>\n",
       "      <td>82.96</td>\n",
       "    </tr>\n",
       "    <tr>\n",
       "      <th>4</th>\n",
       "      <td>Random Forest</td>\n",
       "      <td>88.91</td>\n",
       "      <td>83.19</td>\n",
       "    </tr>\n",
       "    <tr>\n",
       "      <th>5</th>\n",
       "      <td>Naive Bayes</td>\n",
       "      <td>85.61</td>\n",
       "      <td>83.09</td>\n",
       "    </tr>\n",
       "  </tbody>\n",
       "</table>\n",
       "</div>"
      ],
      "text/plain": [
       "                    Model  Testing Accuracy %  Testing Accuracy (SMOTE) %\n",
       "0     Logistic Regression               89.82                       81.60\n",
       "1     K-Nearest Neighbors               89.05                       76.36\n",
       "2  Support Vector Machine               89.84                       86.18\n",
       "3           Decision Tree               84.01                       82.96\n",
       "4           Random Forest               88.91                       83.19\n",
       "5             Naive Bayes               85.61                       83.09"
      ]
     },
     "execution_count": 108,
     "metadata": {},
     "output_type": "execute_result"
    }
   ],
   "source": [
    "ts_gnb_row = {'Model':'Naive Bayes', 'Testing Accuracy %':ts_gnb, 'Testing Accuracy (SMOTE) %': ts_gnb_sm}\n",
    "\n",
    "#append row to the dataframe\n",
    "df_results = df_results.append(ts_gnb_row, ignore_index=True)\n",
    "df_results "
   ]
  },
  {
   "cell_type": "markdown",
   "id": "6a0837b0",
   "metadata": {},
   "source": [
    "Dari hasil pengolahan model, baik secara default maupun menggunakan data train SMOTE, didapatkan hasil bahwa model terbaik adalah model **Support Vector Machine**, dengan menggunakan default parameter. Sehingga dapat disimpulkan bahwa jika menggunakan model tersebut, kita bisa memprediksi customer bank akan berlangganan deposito atau tidak, dengan akurasi yang cukup besar."
   ]
  }
 ],
 "metadata": {
  "kernelspec": {
   "display_name": "Python 3 (ipykernel)",
   "language": "python",
   "name": "python3"
  },
  "language_info": {
   "codemirror_mode": {
    "name": "ipython",
    "version": 3
   },
   "file_extension": ".py",
   "mimetype": "text/x-python",
   "name": "python",
   "nbconvert_exporter": "python",
   "pygments_lexer": "ipython3",
   "version": "3.8.8"
  },
  "toc": {
   "base_numbering": 1,
   "nav_menu": {},
   "number_sections": true,
   "sideBar": true,
   "skip_h1_title": false,
   "title_cell": "Table of Contents",
   "title_sidebar": "Contents",
   "toc_cell": false,
   "toc_position": {
    "height": "calc(100% - 180px)",
    "left": "10px",
    "top": "150px",
    "width": "236px"
   },
   "toc_section_display": true,
   "toc_window_display": true
  }
 },
 "nbformat": 4,
 "nbformat_minor": 5
}
