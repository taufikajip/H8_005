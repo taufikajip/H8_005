{
 "cells": [
  {
   "cell_type": "code",
   "execution_count": 1,
   "id": "e6aff4e2",
   "metadata": {},
   "outputs": [],
   "source": [
    "def my_function(p,l):\n",
    "    \"Function untuk menghitung luas \"\n",
    "    print(p*l)"
   ]
  },
  {
   "cell_type": "code",
   "execution_count": 2,
   "id": "eb95b66c",
   "metadata": {},
   "outputs": [
    {
     "name": "stdout",
     "output_type": "stream",
     "text": [
      "8\n"
     ]
    }
   ],
   "source": [
    "my_function(2,4)"
   ]
  },
  {
   "cell_type": "code",
   "execution_count": 3,
   "id": "81a177eb",
   "metadata": {},
   "outputs": [],
   "source": [
    "def get_info(name,age):\n",
    "    \"Function untuk menyimpan info peserta event \"\n",
    "    print(\"Name: \", name)\n",
    "    print(\"Age: \", age)"
   ]
  },
  {
   "cell_type": "code",
   "execution_count": 4,
   "id": "536c5c7e",
   "metadata": {},
   "outputs": [
    {
     "name": "stdout",
     "output_type": "stream",
     "text": [
      "Name:  Ani\n",
      "Age:  19\n"
     ]
    }
   ],
   "source": [
    "get_info(\"Ani\", 19)"
   ]
  },
  {
   "cell_type": "code",
   "execution_count": 5,
   "id": "7d12a051",
   "metadata": {},
   "outputs": [
    {
     "name": "stdout",
     "output_type": "stream",
     "text": [
      "Name:  19\n",
      "Age:  Ani\n"
     ]
    }
   ],
   "source": [
    "get_info(19, \"Ani\")"
   ]
  },
  {
   "cell_type": "code",
   "execution_count": 6,
   "id": "273a930c",
   "metadata": {},
   "outputs": [],
   "source": [
    "def printme(str):\n",
    "    \"This prints a passed string into this function\"\n",
    "    print(str)\n",
    "    return"
   ]
  },
  {
   "cell_type": "code",
   "execution_count": 7,
   "id": "b542dc15",
   "metadata": {},
   "outputs": [
    {
     "name": "stdout",
     "output_type": "stream",
     "text": [
      "hello world\n"
     ]
    }
   ],
   "source": [
    "printme('hello world')"
   ]
  },
  {
   "cell_type": "code",
   "execution_count": 8,
   "id": "41545a67",
   "metadata": {
    "scrolled": true
   },
   "outputs": [
    {
     "name": "stdout",
     "output_type": "stream",
     "text": [
      "string x13\n"
     ]
    }
   ],
   "source": [
    "printme('string x13')"
   ]
  },
  {
   "cell_type": "code",
   "execution_count": 9,
   "id": "24aff26a",
   "metadata": {
    "scrolled": true
   },
   "outputs": [
    {
     "name": "stdout",
     "output_type": "stream",
     "text": [
      "101\n"
     ]
    }
   ],
   "source": [
    "printme(101)"
   ]
  },
  {
   "cell_type": "code",
   "execution_count": 10,
   "id": "6dc6ecd2",
   "metadata": {},
   "outputs": [
    {
     "name": "stdout",
     "output_type": "stream",
     "text": [
      "I'm first call to user defined function!\n",
      "Again second call to the same function\n"
     ]
    }
   ],
   "source": [
    "def printme(str):\n",
    "    \"This prints a passed string into this function\"\n",
    "    print(str)\n",
    "    return #return None\n",
    "\n",
    "#Now you can call printme function\n",
    "printme(\"I'm first call to user defined function!\")\n",
    "printme('Again second call to the same function')"
   ]
  },
  {
   "cell_type": "code",
   "execution_count": 11,
   "id": "b4eb79e7",
   "metadata": {
    "scrolled": true
   },
   "outputs": [
    {
     "name": "stdout",
     "output_type": "stream",
     "text": [
      "Values inside the function:  [10, 20, 30, [1, 2, 3, 4]]\n",
      "Values outside the function:  [10, 20, 30, [1, 2, 3, 4]]\n"
     ]
    }
   ],
   "source": [
    "#Pass by Reference\n",
    "\n",
    "#Function definition is here\n",
    "def changeme(mylist): # mylist [10, 20, 30]\n",
    "    \"This changes a passed list into this function\"\n",
    "    mylist.append([1,2,3,4]);  # mylist[10, 20, 30, 1, 2, 3, 4]\n",
    "    print(\"Values inside the function: \", mylist)\n",
    "    return\n",
    "\n",
    "# Now you can call changeme function\n",
    "mylist = [10,20,30];\n",
    "changeme(mylist);\n",
    "print(\"Values outside the function: \", mylist)"
   ]
  },
  {
   "cell_type": "code",
   "execution_count": 12,
   "id": "0c958a90",
   "metadata": {},
   "outputs": [
    {
     "name": "stdout",
     "output_type": "stream",
     "text": [
      "Values inside the function:  [10, 20, 30, [1, 2, 3, 4]]\n",
      "Values outside the function:  [10, 20, 30]\n"
     ]
    }
   ],
   "source": [
    "# list --> mutable object --> .copy() jadi seolah-olah Pass by Value\n",
    "\n",
    "#Function definition is here\n",
    "def changeme(mylist): \n",
    "    \"This changes a passed list into this function\"\n",
    "    mylist.append([1,2,3,4]);\n",
    "    print(\"Values inside the function: \", mylist)\n",
    "    return\n",
    "\n",
    "# Now you can call changeme function\n",
    "mylist = [10,20,30];\n",
    "changeme(mylist.copy());\n",
    "print(\"Values outside the function: \", mylist)"
   ]
  },
  {
   "cell_type": "code",
   "execution_count": 13,
   "id": "80170903",
   "metadata": {},
   "outputs": [
    {
     "name": "stdout",
     "output_type": "stream",
     "text": [
      "8\n",
      "64\n",
      "Squared : 8\n"
     ]
    }
   ],
   "source": [
    "def squared(num):\n",
    "    num *= num # num = num * num\n",
    "    print(num)\n",
    "    \n",
    "num = 8\n",
    "print(num)\n",
    "squared(num)\n",
    "print(\"Squared :\", num)"
   ]
  },
  {
   "cell_type": "code",
   "execution_count": 14,
   "id": "e76f973e",
   "metadata": {
    "scrolled": true
   },
   "outputs": [
    {
     "name": "stdout",
     "output_type": "stream",
     "text": [
      "8\n",
      "In function squared, num =  64\n",
      "Num after being passed on function:  8\n"
     ]
    }
   ],
   "source": [
    "# pass by value\n",
    "def squared(num):\n",
    "   num *= num # num = num * num\n",
    "   print(\"In function squared, num = \", num)\n",
    "  \n",
    "num = 8\n",
    "print(num)\n",
    "squared(num)\n",
    "print(\"Num after being passed on function: \", num)"
   ]
  },
  {
   "cell_type": "markdown",
   "id": "ecc6e07d",
   "metadata": {},
   "source": [
    "## Function Arguments"
   ]
  },
  {
   "cell_type": "markdown",
   "id": "773d3498",
   "metadata": {},
   "source": [
    "### Keyword Arguments"
   ]
  },
  {
   "cell_type": "code",
   "execution_count": 15,
   "id": "3ac49748",
   "metadata": {},
   "outputs": [
    {
     "name": "stdout",
     "output_type": "stream",
     "text": [
      "Name:  Ani\n",
      "Age:  19\n"
     ]
    }
   ],
   "source": [
    "get_info(age=19, name=\"Ani\")"
   ]
  },
  {
   "cell_type": "code",
   "execution_count": 16,
   "id": "3fd4c364",
   "metadata": {
    "scrolled": true
   },
   "outputs": [
    {
     "name": "stdout",
     "output_type": "stream",
     "text": [
      "Name:  alden\n",
      "Age:  4\n"
     ]
    }
   ],
   "source": [
    "# Function definition is here\n",
    "def printinfo(name,age):\n",
    "    \"This prints a passed info into this function \"\n",
    "    print(\"Name: \", name)\n",
    "    print(\"Age: \", age)\n",
    "\n",
    "#Now you can call printinfo function\n",
    "printinfo( age=4, name=\"alden\")"
   ]
  },
  {
   "cell_type": "markdown",
   "id": "36352724",
   "metadata": {},
   "source": [
    "### Default Arguments \n",
    "Variable di function tetap akan berubah setiap kita menginputkan variabel berbeda"
   ]
  },
  {
   "cell_type": "code",
   "execution_count": 17,
   "id": "d58403d7",
   "metadata": {},
   "outputs": [],
   "source": [
    "def get_info(name,age=26):\n",
    "    \"Function untuk menyimpan info peserta event \"\n",
    "    print(\"Name: \", name)\n",
    "    print(\"Age: \", age)"
   ]
  },
  {
   "cell_type": "code",
   "execution_count": 18,
   "id": "63f55bd6",
   "metadata": {},
   "outputs": [
    {
     "name": "stdout",
     "output_type": "stream",
     "text": [
      "Name:  Budi\n",
      "Age:  26\n"
     ]
    }
   ],
   "source": [
    "get_info(\"Budi\")"
   ]
  },
  {
   "cell_type": "code",
   "execution_count": 19,
   "id": "104f80b3",
   "metadata": {
    "scrolled": true
   },
   "outputs": [
    {
     "name": "stdout",
     "output_type": "stream",
     "text": [
      "Name:  Budi\n",
      "Age:  23\n"
     ]
    }
   ],
   "source": [
    "get_info(\"Budi\", 23)"
   ]
  },
  {
   "cell_type": "markdown",
   "id": "9d34f970",
   "metadata": {},
   "source": [
    "### Variable-length arguments"
   ]
  },
  {
   "cell_type": "code",
   "execution_count": 20,
   "id": "dd5a468c",
   "metadata": {
    "scrolled": true
   },
   "outputs": [
    {
     "name": "stdout",
     "output_type": "stream",
     "text": [
      "Output is: \n",
      "10\n"
     ]
    }
   ],
   "source": [
    "def printinfo( arg1, *vartuple):           #(10, (empty tuple))\n",
    "    \"This prints a variable passed arguments\"\n",
    "    print(\"Output is: \")\n",
    "    print(arg1)                           #10\n",
    "    for var in vartuple:                  #  for var in ():\n",
    "        print(var)                        # xxxxx\n",
    "    return;\n",
    "\n",
    "#Now you can call printinfo function\n",
    "printinfo(10)"
   ]
  },
  {
   "cell_type": "code",
   "execution_count": 21,
   "id": "6c93d1f9",
   "metadata": {
    "scrolled": true
   },
   "outputs": [
    {
     "name": "stdout",
     "output_type": "stream",
     "text": [
      "Output is: \n",
      "70\n",
      "60\n",
      "50\n",
      "a\n"
     ]
    }
   ],
   "source": [
    "# Function definition is here\n",
    "def printinfo(arg1, *vartuple):           #(70, (60, 50, \"a\"))\n",
    "    \"This prints a variable passed arguments\"\n",
    "    print(\"Output is: \")\n",
    "    print(arg1)                           # 70\n",
    "    for var in vartuple:                  # for var in ((60, 50, \"a\")):\n",
    "        print(var)                        # 60 || 50 || \"a\"\n",
    "    return\n",
    "\n",
    "# Now you can call printinfo function\n",
    "printinfo(70, 60, 50, \"a\")"
   ]
  },
  {
   "cell_type": "code",
   "execution_count": 22,
   "id": "1620ad7b",
   "metadata": {
    "scrolled": true
   },
   "outputs": [
    {
     "name": "stdout",
     "output_type": "stream",
     "text": [
      "Output is: \n",
      "70\n",
      "60\n",
      "50\n",
      "a\n",
      "VAR-tuple indeks ke-0:  60\n",
      "VAR-tuple indeks ke-0:  50\n",
      "VAR-tuple indeks ke-0:  a\n"
     ]
    }
   ],
   "source": [
    "# Function definition is here\n",
    "def printinfo(arg1, *vartuple):           #(70, (60, 50, \"a\"))\n",
    "    \"This prints a variable passed arguments\"\n",
    "    print(\"Output is: \")\n",
    "    print(arg1)                           # 70\n",
    "    for var in vartuple:                  # for var in ((60, 50, \"a\")):\n",
    "        print(var)                        # 60 || 50 || \"a\"\n",
    "   \n",
    "    print(\"VAR-tuple indeks ke-0: \", vartuple[0])\n",
    "    print(\"VAR-tuple indeks ke-0: \", vartuple[1])\n",
    "    print(\"VAR-tuple indeks ke-0: \", vartuple[2])\n",
    "    return\n",
    "\n",
    "# Now you can call printinfo function\n",
    "printinfo(70, 60, 50, \"a\")"
   ]
  },
  {
   "cell_type": "code",
   "execution_count": 23,
   "id": "ad2e2c99",
   "metadata": {},
   "outputs": [
    {
     "ename": "SyntaxError",
     "evalue": "invalid syntax (<ipython-input-23-123b894a3582>, line 14)",
     "output_type": "error",
     "traceback": [
      "\u001b[1;36m  File \u001b[1;32m\"<ipython-input-23-123b894a3582>\"\u001b[1;36m, line \u001b[1;32m14\u001b[0m\n\u001b[1;33m    buy(\"Ani\", items=(\"egg,\"sugar\",\"salt\",\"baking powder\"))\u001b[0m\n\u001b[1;37m                            ^\u001b[0m\n\u001b[1;31mSyntaxError\u001b[0m\u001b[1;31m:\u001b[0m invalid syntax\n"
     ]
    }
   ],
   "source": [
    "# Function definition is here\n",
    "def buy(customer_name, **items):           #bintang 2 disimpan ke dict\n",
    "    \"This prints a variable passed arguments\"\n",
    "    print(customer_name)\n",
    "    for item in items:                  \n",
    "        print(item)                        # \n",
    "   \n",
    "    print(\"VAR-tuple indeks ke-0: \", vartuple[0])\n",
    "    print(\"VAR-tuple indeks ke-0: \", vartuple[1])\n",
    "    print(\"VAR-tuple indeks ke-0: \", vartuple[2])\n",
    "    return\n",
    "\n",
    "# Now you can call buy function\n",
    "buy(\"Ani\", items=(\"egg,\"sugar\",\"salt\",\"baking powder\"))"
   ]
  },
  {
   "cell_type": "markdown",
   "id": "476de1a3",
   "metadata": {},
   "source": [
    "# The Anonymous Functions"
   ]
  },
  {
   "cell_type": "code",
   "execution_count": 24,
   "id": "1302a094",
   "metadata": {},
   "outputs": [
    {
     "name": "stdout",
     "output_type": "stream",
     "text": [
      "Value of total :  30\n",
      "Value of total :  40\n"
     ]
    }
   ],
   "source": [
    "# Function definition is here\n",
    "sum = lambda arg1, arg2: arg1 + arg2\n",
    "\n",
    "def sum(arg1, arg2):\n",
    "    return arg1 + arg2\n",
    "\n",
    "#Now you can call sum as a function\n",
    "print(\"Value of total : \", sum(10,20))\n",
    "print(\"Value of total : \", sum(20,20))"
   ]
  },
  {
   "cell_type": "markdown",
   "id": "8015feba",
   "metadata": {},
   "source": [
    "# The Return Statement"
   ]
  },
  {
   "cell_type": "code",
   "execution_count": 25,
   "id": "7743bc23",
   "metadata": {},
   "outputs": [
    {
     "name": "stdout",
     "output_type": "stream",
     "text": [
      "Inside the function:  30\n",
      "Outside the function : 40\n"
     ]
    }
   ],
   "source": [
    "# Function definition is here\n",
    "def sum(arg1, arg2):                               #10, 20\n",
    "    # Add both the parameters and return them\n",
    "    total = arg1 + arg2\n",
    "    total2 = total + arg1\n",
    "    print(\"Inside the function: \", total)\n",
    "    return total2\n",
    "\n",
    "#Now you can call sum as a function\n",
    "total = sum(10,20)\n",
    "print(\"Outside the function :\", total)"
   ]
  },
  {
   "cell_type": "code",
   "execution_count": 26,
   "id": "e1721303",
   "metadata": {
    "scrolled": true
   },
   "outputs": [
    {
     "name": "stdout",
     "output_type": "stream",
     "text": [
      "Inside the function:  40\n",
      "a = 50\n",
      "b = 40\n"
     ]
    }
   ],
   "source": [
    "# Function definition is here\n",
    "def sum(arg1, arg2):                               #10, 20\n",
    "    # Add both the parameters and return them\n",
    "    total = arg1 + arg2                            #total = 30\n",
    "    total2 = total + arg1                          #total2 = 40\n",
    "    print(\"Inside the function: \", total)\n",
    "    return total2, total\n",
    "\n",
    "#Now you can call sum as a function\n",
    "(a, b) = sum(10, 30)\n",
    "print(\"a =\", a)\n",
    "print(\"b =\", b)"
   ]
  },
  {
   "cell_type": "code",
   "execution_count": 27,
   "id": "577ccbd7",
   "metadata": {},
   "outputs": [
    {
     "name": "stdout",
     "output_type": "stream",
     "text": [
      "Inside the function:  40\n",
      "a = 50\n",
      "b = 40\n"
     ]
    }
   ],
   "source": [
    "# Function definition is here\n",
    "def sum(arg1, arg2):                               #10, 20\n",
    "    # Add both the parameters and return them\n",
    "    total = arg1 + arg2\n",
    "    total2 = total + arg1\n",
    "    print(\"Inside the function: \", total)\n",
    "    return total2, total, 1000\n",
    "\n",
    "#Now you can call sum as a function\n",
    "(a, b, c) = sum(10, 30)\n",
    "print(\"a =\", a)\n",
    "print(\"b =\", b)"
   ]
  },
  {
   "cell_type": "markdown",
   "id": "008e3d33",
   "metadata": {},
   "source": [
    "# Scope of Variables"
   ]
  },
  {
   "cell_type": "markdown",
   "id": "c327767c",
   "metadata": {},
   "source": [
    "## Global vs Local Variables"
   ]
  },
  {
   "cell_type": "code",
   "execution_count": 28,
   "id": "c1551b01",
   "metadata": {
    "scrolled": true
   },
   "outputs": [
    {
     "name": "stdout",
     "output_type": "stream",
     "text": [
      "Inside the function:  30\n",
      "Outside the function : 40\n"
     ]
    },
    {
     "ename": "NameError",
     "evalue": "name 'arg1' is not defined",
     "output_type": "error",
     "traceback": [
      "\u001b[1;31m---------------------------------------------------------------------------\u001b[0m",
      "\u001b[1;31mNameError\u001b[0m                                 Traceback (most recent call last)",
      "\u001b[1;32m<ipython-input-28-d1544863a963>\u001b[0m in \u001b[0;36m<module>\u001b[1;34m\u001b[0m\n\u001b[0;32m     12\u001b[0m \u001b[0mprint\u001b[0m\u001b[1;33m(\u001b[0m\u001b[1;34m\"Outside the function :\"\u001b[0m\u001b[1;33m,\u001b[0m \u001b[0mtotal\u001b[0m\u001b[1;33m)\u001b[0m\u001b[1;33m\u001b[0m\u001b[1;33m\u001b[0m\u001b[0m\n\u001b[0;32m     13\u001b[0m \u001b[1;33m\u001b[0m\u001b[0m\n\u001b[1;32m---> 14\u001b[1;33m \u001b[0mprint\u001b[0m\u001b[1;33m(\u001b[0m\u001b[0marg1\u001b[0m\u001b[1;33m)\u001b[0m\u001b[1;33m\u001b[0m\u001b[1;33m\u001b[0m\u001b[0m\n\u001b[0m",
      "\u001b[1;31mNameError\u001b[0m: name 'arg1' is not defined"
     ]
    }
   ],
   "source": [
    "# Scope of Var :: Global vs Local\n",
    "\n",
    "def sum(arg1, arg2):                               #10, 20\n",
    "    # Add both the parameters and return them\n",
    "    total = arg1 + arg2\n",
    "    total2 = total + arg1\n",
    "    print(\"Inside the function: \", total)\n",
    "    return total2\n",
    "\n",
    "#Now you can call sum as a function\n",
    "total = sum(10,20)\n",
    "print(\"Outside the function :\", total)\n",
    "\n",
    "print(arg1)"
   ]
  },
  {
   "cell_type": "code",
   "execution_count": 29,
   "id": "ef0aef1d",
   "metadata": {},
   "outputs": [
    {
     "data": {
      "text/plain": [
       "50"
      ]
     },
     "execution_count": 29,
     "metadata": {},
     "output_type": "execute_result"
    }
   ],
   "source": [
    "jumlahKucing = 20\n",
    "\n",
    "def jumlahHewan():\n",
    "    jumlahAnjing = 30\n",
    "    return jumlahKucing + jumlahAnjing\n",
    "\n",
    "def jumlahKelinci():\n",
    "    return jumlahKucing + jumlahKucing\n",
    "\n",
    "jumlahHewan()"
   ]
  },
  {
   "cell_type": "code",
   "execution_count": null,
   "id": "12074508",
   "metadata": {},
   "outputs": [],
   "source": [
    "jumlahKelinci()"
   ]
  },
  {
   "cell_type": "markdown",
   "id": "f7293318",
   "metadata": {},
   "source": [
    "# Module and Package"
   ]
  },
  {
   "cell_type": "code",
   "execution_count": 30,
   "id": "c4f88869",
   "metadata": {},
   "outputs": [],
   "source": [
    "import mod"
   ]
  },
  {
   "cell_type": "code",
   "execution_count": 40,
   "id": "c3d9f37d",
   "metadata": {},
   "outputs": [
    {
     "name": "stdout",
     "output_type": "stream",
     "text": [
      "Hacktiv8-PTP Python for Data Science\n"
     ]
    }
   ],
   "source": [
    "print(mod.s)"
   ]
  },
  {
   "cell_type": "code",
   "execution_count": 41,
   "id": "3dc03b1b",
   "metadata": {
    "scrolled": true
   },
   "outputs": [
    {
     "data": {
      "text/plain": [
       "[100, 200, 300]"
      ]
     },
     "execution_count": 41,
     "metadata": {},
     "output_type": "execute_result"
    }
   ],
   "source": [
    "mod.a"
   ]
  },
  {
   "cell_type": "code",
   "execution_count": 42,
   "id": "91a411d3",
   "metadata": {},
   "outputs": [
    {
     "name": "stdout",
     "output_type": "stream",
     "text": [
      "arg = ['quux', 'corge', 'grault']\n"
     ]
    }
   ],
   "source": [
    "mod.foo(['quux','corge','grault'])"
   ]
  },
  {
   "cell_type": "code",
   "execution_count": 43,
   "id": "fb8510af",
   "metadata": {},
   "outputs": [
    {
     "data": {
      "text/plain": [
       "<mod.Foo at 0x27f63deb0d0>"
      ]
     },
     "execution_count": 43,
     "metadata": {},
     "output_type": "execute_result"
    }
   ],
   "source": [
    "x = mod.Foo()\n",
    "x"
   ]
  },
  {
   "cell_type": "code",
   "execution_count": 31,
   "id": "6c61fa3f",
   "metadata": {
    "scrolled": false
   },
   "outputs": [
    {
     "data": {
      "text/plain": [
       "'C:\\\\Users\\\\taufi\\\\PYTN-KS05\\\\SESI 3\\\\mod.py'"
      ]
     },
     "execution_count": 31,
     "metadata": {},
     "output_type": "execute_result"
    }
   ],
   "source": [
    "mod.__file__"
   ]
  },
  {
   "cell_type": "code",
   "execution_count": 32,
   "id": "e3059a71",
   "metadata": {
    "scrolled": false
   },
   "outputs": [],
   "source": [
    "import sys"
   ]
  },
  {
   "cell_type": "code",
   "execution_count": 33,
   "id": "32b62045",
   "metadata": {
    "scrolled": true
   },
   "outputs": [
    {
     "data": {
      "text/plain": [
       "['C:\\\\Users\\\\taufi\\\\PYTN-KS05\\\\SESI 3',\n",
       " 'C:\\\\ProgramData\\\\Anaconda3\\\\python38.zip',\n",
       " 'C:\\\\ProgramData\\\\Anaconda3\\\\DLLs',\n",
       " 'C:\\\\ProgramData\\\\Anaconda3\\\\lib',\n",
       " 'C:\\\\ProgramData\\\\Anaconda3',\n",
       " '',\n",
       " 'C:\\\\ProgramData\\\\Anaconda3\\\\lib\\\\site-packages',\n",
       " 'C:\\\\ProgramData\\\\Anaconda3\\\\lib\\\\site-packages\\\\locket-0.2.1-py3.8.egg',\n",
       " 'C:\\\\ProgramData\\\\Anaconda3\\\\lib\\\\site-packages\\\\win32',\n",
       " 'C:\\\\ProgramData\\\\Anaconda3\\\\lib\\\\site-packages\\\\win32\\\\lib',\n",
       " 'C:\\\\ProgramData\\\\Anaconda3\\\\lib\\\\site-packages\\\\Pythonwin',\n",
       " 'C:\\\\ProgramData\\\\Anaconda3\\\\lib\\\\site-packages\\\\IPython\\\\extensions',\n",
       " 'C:\\\\Users\\\\taufi\\\\.ipython']"
      ]
     },
     "execution_count": 33,
     "metadata": {},
     "output_type": "execute_result"
    }
   ],
   "source": [
    "sys.path"
   ]
  },
  {
   "cell_type": "code",
   "execution_count": 34,
   "id": "0a3f0a9a",
   "metadata": {},
   "outputs": [
    {
     "data": {
      "text/plain": [
       "['Foo',\n",
       " '__builtins__',\n",
       " '__cached__',\n",
       " '__doc__',\n",
       " '__file__',\n",
       " '__loader__',\n",
       " '__name__',\n",
       " '__package__',\n",
       " '__spec__',\n",
       " 'a',\n",
       " 'foo',\n",
       " 's']"
      ]
     },
     "execution_count": 34,
     "metadata": {},
     "output_type": "execute_result"
    }
   ],
   "source": [
    "dir(mod)"
   ]
  },
  {
   "cell_type": "code",
   "execution_count": 35,
   "id": "ff39aed2",
   "metadata": {},
   "outputs": [],
   "source": [
    "import re"
   ]
  },
  {
   "cell_type": "code",
   "execution_count": 36,
   "id": "c82f17af",
   "metadata": {},
   "outputs": [],
   "source": [
    "import modified_mod"
   ]
  },
  {
   "cell_type": "code",
   "execution_count": 37,
   "id": "05cca3c8",
   "metadata": {},
   "outputs": [
    {
     "data": {
      "text/plain": [
       "[100, 200, 300]"
      ]
     },
     "execution_count": 37,
     "metadata": {},
     "output_type": "execute_result"
    }
   ],
   "source": [
    "modified_mod.a"
   ]
  },
  {
   "cell_type": "code",
   "execution_count": 38,
   "id": "6f00bb9b",
   "metadata": {},
   "outputs": [
    {
     "name": "stdout",
     "output_type": "stream",
     "text": [
      "arg = grault\n"
     ]
    }
   ],
   "source": [
    "modified_mod.foo('grault')"
   ]
  },
  {
   "cell_type": "code",
   "execution_count": 39,
   "id": "1d8daa9d",
   "metadata": {},
   "outputs": [
    {
     "data": {
      "text/plain": [
       "720"
      ]
     },
     "execution_count": 39,
     "metadata": {},
     "output_type": "execute_result"
    }
   ],
   "source": [
    "from fact import fact\n",
    "fact(6)"
   ]
  },
  {
   "cell_type": "markdown",
   "id": "82ca621b",
   "metadata": {},
   "source": [
    "# Reloading a Module"
   ]
  },
  {
   "cell_type": "code",
   "execution_count": 44,
   "id": "a6c9bcf3",
   "metadata": {},
   "outputs": [],
   "source": [
    "import importlib"
   ]
  },
  {
   "cell_type": "code",
   "execution_count": 45,
   "id": "3ddb3296",
   "metadata": {},
   "outputs": [
    {
     "data": {
      "text/plain": [
       "<module 'modified_mod' from 'C:\\\\Users\\\\taufi\\\\PYTN-KS05\\\\SESI 3\\\\modified_mod.py'>"
      ]
     },
     "execution_count": 45,
     "metadata": {},
     "output_type": "execute_result"
    }
   ],
   "source": [
    "importlib.reload(modified_mod)"
   ]
  },
  {
   "cell_type": "code",
   "execution_count": 46,
   "id": "d493eea1",
   "metadata": {},
   "outputs": [
    {
     "data": {
      "text/plain": [
       "[100, 200, 300]"
      ]
     },
     "execution_count": 46,
     "metadata": {},
     "output_type": "execute_result"
    }
   ],
   "source": [
    "modified_mod.a"
   ]
  },
  {
   "cell_type": "code",
   "execution_count": 47,
   "id": "284f73d8",
   "metadata": {},
   "outputs": [],
   "source": [
    "import modified_mod"
   ]
  },
  {
   "cell_type": "code",
   "execution_count": 48,
   "id": "816edd76",
   "metadata": {},
   "outputs": [
    {
     "data": {
      "text/plain": [
       "[100, 200, 300]"
      ]
     },
     "execution_count": 48,
     "metadata": {},
     "output_type": "execute_result"
    }
   ],
   "source": [
    "modified_mod.a"
   ]
  },
  {
   "cell_type": "markdown",
   "id": "c059b90d",
   "metadata": {},
   "source": [
    "# Python Packages"
   ]
  },
  {
   "cell_type": "code",
   "execution_count": 49,
   "id": "69d6cc5d",
   "metadata": {
    "scrolled": true
   },
   "outputs": [
    {
     "name": "stdout",
     "output_type": "stream",
     "text": [
      "[mod1] foo()\n"
     ]
    }
   ],
   "source": [
    "import pkg.mod1, pkg.mod2\n",
    "pkg.mod1.foo()"
   ]
  },
  {
   "cell_type": "code",
   "execution_count": 50,
   "id": "67449368",
   "metadata": {
    "scrolled": true
   },
   "outputs": [
    {
     "data": {
      "text/plain": [
       "<pkg.mod2.Bar at 0x27f63ff2130>"
      ]
     },
     "execution_count": 50,
     "metadata": {},
     "output_type": "execute_result"
    }
   ],
   "source": [
    "x = pkg.mod2.Bar()\n",
    "x"
   ]
  },
  {
   "cell_type": "code",
   "execution_count": 51,
   "id": "6f3dc519",
   "metadata": {
    "scrolled": true
   },
   "outputs": [
    {
     "name": "stdout",
     "output_type": "stream",
     "text": [
      "[mod1] foo()\n"
     ]
    }
   ],
   "source": [
    "from pkg.mod1 import foo\n",
    "foo()"
   ]
  },
  {
   "cell_type": "code",
   "execution_count": 52,
   "id": "c244efba",
   "metadata": {},
   "outputs": [
    {
     "data": {
      "text/plain": [
       "<pkg.mod2.Bar at 0x27f645a62e0>"
      ]
     },
     "execution_count": 52,
     "metadata": {},
     "output_type": "execute_result"
    }
   ],
   "source": [
    "from pkg.mod2 import Bar as Qux\n",
    "x = Qux()\n",
    "x"
   ]
  },
  {
   "cell_type": "code",
   "execution_count": 53,
   "id": "41a26a48",
   "metadata": {},
   "outputs": [
    {
     "name": "stdout",
     "output_type": "stream",
     "text": [
      "[mod1] foo()\n"
     ]
    }
   ],
   "source": [
    "from pkg import mod1\n",
    "mod1.foo()"
   ]
  },
  {
   "cell_type": "code",
   "execution_count": 54,
   "id": "d05410d0",
   "metadata": {},
   "outputs": [
    {
     "name": "stdout",
     "output_type": "stream",
     "text": [
      "[mod2] bar()\n"
     ]
    }
   ],
   "source": [
    "from pkg import mod2 as quux\n",
    "quux.bar()"
   ]
  },
  {
   "cell_type": "code",
   "execution_count": 55,
   "id": "7f90b247",
   "metadata": {},
   "outputs": [
    {
     "data": {
      "text/plain": [
       "<module 'pkg' (namespace)>"
      ]
     },
     "execution_count": 55,
     "metadata": {},
     "output_type": "execute_result"
    }
   ],
   "source": [
    "import pkg\n",
    "pkg"
   ]
  },
  {
   "cell_type": "code",
   "execution_count": 56,
   "id": "f7e5d160",
   "metadata": {
    "scrolled": true
   },
   "outputs": [
    {
     "data": {
      "text/plain": [
       "<module 'pkg.mod1' from 'C:\\\\Users\\\\taufi\\\\PYTN-KS05\\\\SESI 3\\\\pkg\\\\mod1.py'>"
      ]
     },
     "execution_count": 56,
     "metadata": {},
     "output_type": "execute_result"
    }
   ],
   "source": [
    "pkg.mod1"
   ]
  },
  {
   "cell_type": "code",
   "execution_count": 57,
   "id": "9e08d25c",
   "metadata": {
    "scrolled": true
   },
   "outputs": [
    {
     "name": "stdout",
     "output_type": "stream",
     "text": [
      "[mod1] foo()\n"
     ]
    }
   ],
   "source": [
    "pkg.mod1.foo()"
   ]
  },
  {
   "cell_type": "markdown",
   "id": "e94b5ae9",
   "metadata": {},
   "source": [
    "# PIP "
   ]
  },
  {
   "cell_type": "code",
   "execution_count": 58,
   "id": "4fedd991",
   "metadata": {},
   "outputs": [
    {
     "name": "stdout",
     "output_type": "stream",
     "text": [
      "pip 22.0.3 from C:\\ProgramData\\Anaconda3\\lib\\site-packages\\pip (python 3.8)\n",
      "\n",
      "Note: you may need to restart the kernel to use updated packages.\n"
     ]
    }
   ],
   "source": [
    "pip --version"
   ]
  }
 ],
 "metadata": {
  "kernelspec": {
   "display_name": "Python 3",
   "language": "python",
   "name": "python3"
  },
  "language_info": {
   "codemirror_mode": {
    "name": "ipython",
    "version": 3
   },
   "file_extension": ".py",
   "mimetype": "text/x-python",
   "name": "python",
   "nbconvert_exporter": "python",
   "pygments_lexer": "ipython3",
   "version": "3.8.8"
  },
  "toc": {
   "base_numbering": 1,
   "nav_menu": {},
   "number_sections": true,
   "sideBar": true,
   "skip_h1_title": false,
   "title_cell": "Table of Contents",
   "title_sidebar": "Contents",
   "toc_cell": false,
   "toc_position": {},
   "toc_section_display": true,
   "toc_window_display": true
  }
 },
 "nbformat": 4,
 "nbformat_minor": 5
}
